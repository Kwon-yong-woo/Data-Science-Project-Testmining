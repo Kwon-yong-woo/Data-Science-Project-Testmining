{
 "cells": [
  {
   "cell_type": "code",
   "execution_count": 1,
   "metadata": {},
   "outputs": [],
   "source": [
    "import numpy as np\n",
    "import pandas as pd\n",
    "import re\n",
    "from bs4 import BeautifulSoup\n",
    "from fake_useragent import UserAgent\n",
    "import requests\n",
    "from selenium import webdriver\n",
    "\n",
    "from tqdm import tqdm\n",
    "\n",
    "import time\n",
    "import openpyxl"
   ]
  },
  {
   "cell_type": "code",
   "execution_count": 2,
   "metadata": {},
   "outputs": [],
   "source": [
    "driver = webdriver.Chrome(r'C:\\Users\\Samsung\\Downloads\\webdriver\\chromedriver')"
   ]
  },
  {
   "cell_type": "code",
   "execution_count": 24,
   "metadata": {},
   "outputs": [],
   "source": [
    "wb = openpyxl.Workbook()\n",
    "sheet = wb.active\n",
    "url = \"https://search.shopping.naver.com/detail/detail.nhn?\"\n",
    "keys = {\"ga_fe\":\"nvMid=24367934522\",\n",
    "\"ga_plus\":\"nvMid=22108836830\",\n",
    "\"ga_ultra\":\"nvMid:22109442698\"}"
   ]
  },
  {
   "cell_type": "code",
   "execution_count": 25,
   "metadata": {},
   "outputs": [
    {
     "data": {
      "text/plain": [
       "'nvMid=24367934522'"
      ]
     },
     "execution_count": 25,
     "metadata": {},
     "output_type": "execute_result"
    }
   ],
   "source": [
    "Tar_ = \"ga_fe\"\n",
    "keyword = keys[Tar_]\n",
    "keyword"
   ]
  },
  {
   "cell_type": "code",
   "execution_count": 21,
   "metadata": {},
   "outputs": [
    {
     "name": "stdout",
     "output_type": "stream",
     "text": [
      "네이버쇼핑_nvMid=24367934522_상품평\n"
     ]
    }
   ],
   "source": [
    "url_k = url + keyword\n",
    "driver.get(url_k) # get = 이동시키는 역할\n",
    "time.sleep(1)\n",
    "cnt = driver.find_elements_by_css_selector('.reviewItems_list_review__1sgcJ li')\n",
    "print('네이버쇼핑_{}_상품평'.format(keyword))\n",
    "sheet.append(['no', '후기제목', '정보'])"
   ]
  },
  {
   "cell_type": "code",
   "execution_count": 22,
   "metadata": {},
   "outputs": [
    {
     "data": {
      "text/plain": [
       "20"
      ]
     },
     "execution_count": 22,
     "metadata": {},
     "output_type": "execute_result"
    }
   ],
   "source": [
    "### cnt = 한 page에 있는 review 목록들\n",
    "len(cnt)"
   ]
  },
  {
   "cell_type": "code",
   "execution_count": 27,
   "metadata": {},
   "outputs": [
    {
     "data": {
      "text/plain": [
       "15.7"
      ]
     },
     "execution_count": 27,
     "metadata": {},
     "output_type": "execute_result"
    }
   ],
   "source": [
    "314/20"
   ]
  },
  {
   "cell_type": "code",
   "execution_count": 29,
   "metadata": {},
   "outputs": [],
   "source": [
    "page_buttons = driver.find_elements_by_css_selector('#_review_paging a')"
   ]
  },
  {
   "cell_type": "code",
   "execution_count": 30,
   "metadata": {},
   "outputs": [
    {
     "data": {
      "text/plain": [
       "[]"
      ]
     },
     "execution_count": 30,
     "metadata": {},
     "output_type": "execute_result"
    }
   ],
   "source": [
    "page_buttons"
   ]
  },
  {
   "cell_type": "code",
   "execution_count": 28,
   "metadata": {},
   "outputs": [
    {
     "name": "stderr",
     "output_type": "stream",
     "text": [
      "  0%|                                                                                           | 0/15 [00:00<?, ?it/s]\n"
     ]
    },
    {
     "ename": "IndexError",
     "evalue": "list index out of range",
     "output_type": "error",
     "traceback": [
      "\u001b[1;31m---------------------------------------------------------------------------\u001b[0m",
      "\u001b[1;31mIndexError\u001b[0m                                Traceback (most recent call last)",
      "\u001b[1;32m<ipython-input-28-0a38ad70eb8f>\u001b[0m in \u001b[0;36m<module>\u001b[1;34m\u001b[0m\n\u001b[0;32m     34\u001b[0m \u001b[1;33m\u001b[0m\u001b[0m\n\u001b[0;32m     35\u001b[0m     \u001b[1;32mif\u001b[0m \u001b[0mpage\u001b[0m \u001b[1;33m<\u001b[0m \u001b[1;36m11\u001b[0m\u001b[1;33m:\u001b[0m\u001b[1;33m\u001b[0m\u001b[1;33m\u001b[0m\u001b[0m\n\u001b[1;32m---> 36\u001b[1;33m         \u001b[0mpage_buttons\u001b[0m\u001b[1;33m[\u001b[0m\u001b[0mpage\u001b[0m\u001b[1;33m-\u001b[0m\u001b[1;36m1\u001b[0m\u001b[1;33m]\u001b[0m\u001b[1;33m.\u001b[0m\u001b[0mclick\u001b[0m\u001b[1;33m(\u001b[0m\u001b[1;33m)\u001b[0m\u001b[1;33m\u001b[0m\u001b[1;33m\u001b[0m\u001b[0m\n\u001b[0m\u001b[0;32m     37\u001b[0m         \u001b[0mtime\u001b[0m\u001b[1;33m.\u001b[0m\u001b[0msleep\u001b[0m\u001b[1;33m(\u001b[0m\u001b[1;36m1.5\u001b[0m\u001b[1;33m)\u001b[0m\u001b[1;33m\u001b[0m\u001b[1;33m\u001b[0m\u001b[0m\n\u001b[0;32m     38\u001b[0m         \u001b[0mdriver\u001b[0m\u001b[1;33m.\u001b[0m\u001b[0mimplicitly_wait\u001b[0m\u001b[1;33m(\u001b[0m\u001b[1;36m10\u001b[0m\u001b[1;33m)\u001b[0m\u001b[1;33m\u001b[0m\u001b[1;33m\u001b[0m\u001b[0m\n",
      "\u001b[1;31mIndexError\u001b[0m: list index out of range"
     ]
    }
   ],
   "source": [
    "Dic_all = {}\n",
    "Content = []\n",
    "Title = []\n",
    "Score = []\n",
    "Infor = []\n",
    "for page in tqdm(range(1,16)):\n",
    "    page_buttons = driver.find_elements_by_css_selector('#_review_paging a')\n",
    "    #print(\"##################\",page,\"############3\")\n",
    "    for i in range(0, len(cnt)):\n",
    "\n",
    "        try : \n",
    "            review_list = driver.find_elements_by_css_selector('#_review_list li.thumb_nail')\n",
    "            review_click_list = driver.find_elements_by_css_selector('#_review_list a.view_toggle')\n",
    "            review_click_list[i].click()\n",
    "            time.sleep(1.5)\n",
    "            change_list = driver.find_elements_by_css_selector('#_review_list li.thumb_nail')\n",
    "            score = change_list[i].find_element_by_css_selector('div.avg_area a span.curr_avg').text\n",
    "            #print(score)\n",
    "            title = change_list[i].find_element_by_css_selector('p').text\n",
    "            content = change_list[i].find_element_by_css_selector('div.atc').text\n",
    "            info = change_list[i].find_element_by_css_selector('div.avg_area span.info').text\n",
    "            #print(i+1)\n",
    "            #print(title)\n",
    "            #print(info)\n",
    "            Content.append(content)\n",
    "            Title.append(title)\n",
    "            Score.append(score)\n",
    "            Infor.append(infor)\n",
    "            time.sleep(1)\n",
    "            driver.implicitly_wait(10)\n",
    "            #print(\"_\"*40)\n",
    "        except : \n",
    "            pass\n",
    "\n",
    "    if page < 11:\n",
    "        page_buttons[page-1].click()\n",
    "        time.sleep(1.5)\n",
    "        driver.implicitly_wait(10)\n",
    "        \n",
    "    elif page % 10 == 0 :\n",
    "        driver.find_element_by_css_selector('#_review_paging a.next').click()\n",
    "        time.sleep(1.5)\n",
    "        driver.implicitly_wait(10)\n",
    "    \n",
    "    else:\n",
    "        page_buttons[page % 11 + 1].click()\n",
    "        time.sleep(1.5)\n",
    "        driver.implicitly_wait(10)\n",
    "        \n",
    "Dic_all[\"Content\"] = Content\n",
    "Dic_all[\"Title\"] = Title\n",
    "Dic_all[\"Score\"] = Score\n",
    "#Dic_all[\"Infor\"] = Infor\n",
    "\n",
    "df = pd.DataFrame(Dic_all)\n",
    "df.to_excel(r\"C:\\Users\\Samsung\\jupyter\\Project_Deep_learning_2020\\data\\phone\\naver_shopping\\{}.xlsx\".format(Tar_))"
   ]
  },
  {
   "cell_type": "code",
   "execution_count": null,
   "metadata": {},
   "outputs": [],
   "source": []
  },
  {
   "cell_type": "code",
   "execution_count": null,
   "metadata": {},
   "outputs": [],
   "source": []
  },
  {
   "cell_type": "code",
   "execution_count": null,
   "metadata": {},
   "outputs": [],
   "source": []
  },
  {
   "cell_type": "code",
   "execution_count": null,
   "metadata": {},
   "outputs": [],
   "source": []
  },
  {
   "cell_type": "code",
   "execution_count": null,
   "metadata": {},
   "outputs": [],
   "source": []
  },
  {
   "cell_type": "code",
   "execution_count": null,
   "metadata": {},
   "outputs": [],
   "source": []
  }
 ],
 "metadata": {
  "kernelspec": {
   "display_name": "Python 3",
   "language": "python",
   "name": "python3"
  },
  "language_info": {
   "codemirror_mode": {
    "name": "ipython",
    "version": 3
   },
   "file_extension": ".py",
   "mimetype": "text/x-python",
   "name": "python",
   "nbconvert_exporter": "python",
   "pygments_lexer": "ipython3",
   "version": "3.7.6"
  }
 },
 "nbformat": 4,
 "nbformat_minor": 4
}
