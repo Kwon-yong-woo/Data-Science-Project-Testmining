{
 "cells": [
  {
   "cell_type": "code",
   "execution_count": 46,
   "metadata": {},
   "outputs": [],
   "source": [
    "import numpy as np\n",
    "import pandas as pd\n",
    "import re\n",
    "\n",
    "from collections import Counter\n",
    "import string\n",
    "\n",
    "import re\n",
    "\n",
    "from tensorflow.keras.preprocessing.text import Tokenizer\n",
    "from tensorflow.keras.preprocessing.sequence import pad_sequences\n",
    "from tensorflow.keras.utils import to_categorical\n",
    "from sklearn.model_selection import train_test_split\n",
    "from tensorflow import keras\n",
    "from keras.models import Sequential\n",
    "from keras.layers import Dense, LSTM, InputLayer, Bidirectional, TimeDistributed, Embedding, Dropout\n",
    "from keras.layers import Input\n",
    "from keras.optimizers import Adam\n",
    "from keras.models import load_model\n",
    "from keras.losses import CategoricalCrossentropy\n",
    "from keras.losses import SparseCategoricalCrossentropy\n",
    "from keras import Model\n",
    "\n",
    "from tf2crf import CRF\n",
    "from tf2crf import CRF, ModelWithCRFLoss\n",
    "\n",
    "\n",
    "#from keras_contrib.layers import CRF\n",
    "# from sklearn_crfsuite import CRF\n",
    "#from keras_contrib.losses import crf_loss\n",
    "#from keras_contrib.metrics import crf_viterbi_accuracy\n",
    "\n",
    "from konlpy.tag import Kkma\n",
    "from konlpy.tag import Mecab\n",
    "from konlpy.utils import pprint\n",
    "from konlpy.tag import Twitter,Okt\n",
    "\n",
    "from transformers import BertModel\n",
    "# from tokenization_kobert import KoBertTokenizer\n",
    "\n",
    "import os\n",
    "\n",
    "from tqdm import tqdm\n",
    "\n",
    "import matplotlib.pyplot as plt\n",
    "import plotly.express as px\n",
    "\n",
    "\n",
    "from keras.callbacks import Callback\n",
    "from keras.utils.vis_utils import plot_model\n",
    "from seqeval.metrics import f1_score, classification_report"
   ]
  },
  {
   "cell_type": "code",
   "execution_count": 19,
   "metadata": {},
   "outputs": [
    {
     "name": "stdout",
     "output_type": "stream",
     "text": [
      "2.4.0\n"
     ]
    }
   ],
   "source": [
    "import tensorflow as tf\n",
    "print(tf.__version__)"
   ]
  },
  {
   "cell_type": "code",
   "execution_count": 21,
   "metadata": {},
   "outputs": [
    {
     "data": {
      "text/plain": [
       "['airpro.csv', 'buds.csv']"
      ]
     },
     "execution_count": 21,
     "metadata": {},
     "output_type": "execute_result"
    }
   ],
   "source": [
    "path_ = r\"C:\\Users\\Samsung\\jupyter\\Project_Deep_learning_2020\\data\\NER\"\n",
    "file_list = os.listdir(path_)\n",
    "file_list_xlsx = [f for f in file_list if f.endswith(\".csv\")]\n",
    "file_list_xlsx"
   ]
  },
  {
   "cell_type": "code",
   "execution_count": 22,
   "metadata": {},
   "outputs": [
    {
     "data": {
      "text/plain": [
       "['airpro.csv', 'buds.csv']"
      ]
     },
     "execution_count": 22,
     "metadata": {},
     "output_type": "execute_result"
    }
   ],
   "source": [
    "file_list_xlsx"
   ]
  },
  {
   "cell_type": "code",
   "execution_count": 23,
   "metadata": {},
   "outputs": [],
   "source": [
    "airpro = pd.read_csv(r\"C:\\Users\\Samsung\\jupyter\\Project_Deep_learning_2020\\data\\NER\\airpro.csv\",index_col = 0)\n",
    "buds = pd.read_csv(r\"C:\\Users\\Samsung\\jupyter\\Project_Deep_learning_2020\\data\\NER\\buds.csv\",index_col = 0)"
   ]
  },
  {
   "cell_type": "code",
   "execution_count": 24,
   "metadata": {},
   "outputs": [
    {
     "data": {
      "text/html": [
       "<div>\n",
       "<style scoped>\n",
       "    .dataframe tbody tr th:only-of-type {\n",
       "        vertical-align: middle;\n",
       "    }\n",
       "\n",
       "    .dataframe tbody tr th {\n",
       "        vertical-align: top;\n",
       "    }\n",
       "\n",
       "    .dataframe thead th {\n",
       "        text-align: right;\n",
       "    }\n",
       "</style>\n",
       "<table border=\"1\" class=\"dataframe\">\n",
       "  <thead>\n",
       "    <tr style=\"text-align: right;\">\n",
       "      <th></th>\n",
       "      <th>word</th>\n",
       "      <th>rule_label</th>\n",
       "      <th>IOB</th>\n",
       "      <th>sentence</th>\n",
       "      <th>enter</th>\n",
       "      <th>review</th>\n",
       "      <th>pos</th>\n",
       "    </tr>\n",
       "  </thead>\n",
       "  <tbody>\n",
       "    <tr>\n",
       "      <th>0</th>\n",
       "      <td>☆☆</td>\n",
       "      <td>O</td>\n",
       "      <td>NaN</td>\n",
       "      <td>0</td>\n",
       "      <td>0</td>\n",
       "      <td>0</td>\n",
       "      <td>Foreign</td>\n",
       "    </tr>\n",
       "    <tr>\n",
       "      <th>1</th>\n",
       "      <td>나름</td>\n",
       "      <td>O</td>\n",
       "      <td>NaN</td>\n",
       "      <td>0</td>\n",
       "      <td>0</td>\n",
       "      <td>0</td>\n",
       "      <td>Noun</td>\n",
       "    </tr>\n",
       "    <tr>\n",
       "      <th>2</th>\n",
       "      <td>음향</td>\n",
       "      <td>SQ</td>\n",
       "      <td>B</td>\n",
       "      <td>0</td>\n",
       "      <td>0</td>\n",
       "      <td>0</td>\n",
       "      <td>Noun</td>\n",
       "    </tr>\n",
       "    <tr>\n",
       "      <th>3</th>\n",
       "      <td>기기</td>\n",
       "      <td>O</td>\n",
       "      <td>NaN</td>\n",
       "      <td>0</td>\n",
       "      <td>0</td>\n",
       "      <td>0</td>\n",
       "      <td>Noun</td>\n",
       "    </tr>\n",
       "    <tr>\n",
       "      <th>4</th>\n",
       "      <td>좋아하다</td>\n",
       "      <td>O</td>\n",
       "      <td>NaN</td>\n",
       "      <td>0</td>\n",
       "      <td>0</td>\n",
       "      <td>0</td>\n",
       "      <td>Adjective</td>\n",
       "    </tr>\n",
       "  </tbody>\n",
       "</table>\n",
       "</div>"
      ],
      "text/plain": [
       "   word rule_label  IOB  sentence  enter  review        pos\n",
       "0    ☆☆          O  NaN         0      0       0    Foreign\n",
       "1    나름          O  NaN         0      0       0       Noun\n",
       "2    음향         SQ    B         0      0       0       Noun\n",
       "3    기기          O  NaN         0      0       0       Noun\n",
       "4  좋아하다          O  NaN         0      0       0  Adjective"
      ]
     },
     "execution_count": 24,
     "metadata": {},
     "output_type": "execute_result"
    }
   ],
   "source": [
    "buds.head()"
   ]
  },
  {
   "cell_type": "code",
   "execution_count": 25,
   "metadata": {},
   "outputs": [],
   "source": [
    "def NER_generator(df):\n",
    "    df[\"IOB\"] = df[\"IOB\"].fillna(\"O\")\n",
    "    df[\"rule_label\"] = df.rule_label.replace(\"O\",\"\")\n",
    "    df[\"NER\"] = df[\"IOB\"] + \"-\" + df[\"rule_label\"]\n",
    "    df[\"NER\"] = df.NER.replace(\"O-\",\"O\")\n",
    "    return df"
   ]
  },
  {
   "cell_type": "code",
   "execution_count": 26,
   "metadata": {},
   "outputs": [],
   "source": [
    "airpro = NER_generator(airpro)\n",
    "buds = NER_generator(buds)"
   ]
  },
  {
   "cell_type": "code",
   "execution_count": 27,
   "metadata": {},
   "outputs": [
    {
     "data": {
      "text/html": [
       "<div>\n",
       "<style scoped>\n",
       "    .dataframe tbody tr th:only-of-type {\n",
       "        vertical-align: middle;\n",
       "    }\n",
       "\n",
       "    .dataframe tbody tr th {\n",
       "        vertical-align: top;\n",
       "    }\n",
       "\n",
       "    .dataframe thead th {\n",
       "        text-align: right;\n",
       "    }\n",
       "</style>\n",
       "<table border=\"1\" class=\"dataframe\">\n",
       "  <thead>\n",
       "    <tr style=\"text-align: right;\">\n",
       "      <th></th>\n",
       "      <th>word</th>\n",
       "      <th>rule_label</th>\n",
       "      <th>IOB</th>\n",
       "      <th>sentence</th>\n",
       "      <th>enter</th>\n",
       "      <th>review</th>\n",
       "      <th>pos</th>\n",
       "      <th>NER</th>\n",
       "    </tr>\n",
       "  </thead>\n",
       "  <tbody>\n",
       "    <tr>\n",
       "      <th>0</th>\n",
       "      <td>☆☆</td>\n",
       "      <td></td>\n",
       "      <td>O</td>\n",
       "      <td>0</td>\n",
       "      <td>0</td>\n",
       "      <td>0</td>\n",
       "      <td>Foreign</td>\n",
       "      <td>O</td>\n",
       "    </tr>\n",
       "    <tr>\n",
       "      <th>1</th>\n",
       "      <td>나름</td>\n",
       "      <td></td>\n",
       "      <td>O</td>\n",
       "      <td>0</td>\n",
       "      <td>0</td>\n",
       "      <td>0</td>\n",
       "      <td>Noun</td>\n",
       "      <td>O</td>\n",
       "    </tr>\n",
       "    <tr>\n",
       "      <th>2</th>\n",
       "      <td>음향</td>\n",
       "      <td>SQ</td>\n",
       "      <td>B</td>\n",
       "      <td>0</td>\n",
       "      <td>0</td>\n",
       "      <td>0</td>\n",
       "      <td>Noun</td>\n",
       "      <td>B-SQ</td>\n",
       "    </tr>\n",
       "    <tr>\n",
       "      <th>3</th>\n",
       "      <td>기기</td>\n",
       "      <td></td>\n",
       "      <td>O</td>\n",
       "      <td>0</td>\n",
       "      <td>0</td>\n",
       "      <td>0</td>\n",
       "      <td>Noun</td>\n",
       "      <td>O</td>\n",
       "    </tr>\n",
       "    <tr>\n",
       "      <th>4</th>\n",
       "      <td>좋아하다</td>\n",
       "      <td></td>\n",
       "      <td>O</td>\n",
       "      <td>0</td>\n",
       "      <td>0</td>\n",
       "      <td>0</td>\n",
       "      <td>Adjective</td>\n",
       "      <td>O</td>\n",
       "    </tr>\n",
       "  </tbody>\n",
       "</table>\n",
       "</div>"
      ],
      "text/plain": [
       "   word rule_label IOB  sentence  enter  review        pos   NER\n",
       "0    ☆☆              O         0      0       0    Foreign     O\n",
       "1    나름              O         0      0       0       Noun     O\n",
       "2    음향         SQ   B         0      0       0       Noun  B-SQ\n",
       "3    기기              O         0      0       0       Noun     O\n",
       "4  좋아하다              O         0      0       0  Adjective     O"
      ]
     },
     "execution_count": 27,
     "metadata": {},
     "output_type": "execute_result"
    }
   ],
   "source": [
    "buds.head()"
   ]
  },
  {
   "cell_type": "code",
   "execution_count": 28,
   "metadata": {
    "scrolled": true
   },
   "outputs": [],
   "source": [
    "df_ = buds.copy()\n",
    "def IOB_insert(df_):\n",
    "    for i in range(10):\n",
    "        index_ = []\n",
    "        for i in range(len(df_)):\n",
    "            a = df_.loc[i,\"IOB\"]\n",
    "            if a == \"I\":\n",
    "                b = df_.loc[i-1,\"IOB\"]\n",
    "                if b == \"O\":\n",
    "                    index_.append(i-1)\n",
    "                    #print(i-1)\n",
    "        if len(index_) ==0:\n",
    "            break\n",
    "        for i in index_:\n",
    "            df_.loc[i,\"IOB\"] = \"I\"\n",
    "        print(\"---------------------------\")\n",
    "    return df_"
   ]
  },
  {
   "cell_type": "code",
   "execution_count": 29,
   "metadata": {},
   "outputs": [
    {
     "name": "stdout",
     "output_type": "stream",
     "text": [
      "---------------------------\n",
      "---------------------------\n",
      "---------------------------\n",
      "---------------------------\n",
      "---------------------------\n",
      "---------------------------\n",
      "---------------------------\n",
      "---------------------------\n",
      "---------------------------\n",
      "---------------------------\n",
      "---------------------------\n",
      "---------------------------\n",
      "---------------------------\n",
      "---------------------------\n"
     ]
    }
   ],
   "source": [
    "buds_in = IOB_insert(buds)\n",
    "airpro_in = IOB_insert(airpro)"
   ]
  },
  {
   "cell_type": "markdown",
   "metadata": {},
   "source": [
    "airpro 에 전처리 문제 있음"
   ]
  },
  {
   "cell_type": "code",
   "execution_count": 30,
   "metadata": {},
   "outputs": [
    {
     "data": {
      "text/plain": [
       "count    777.000000\n",
       "mean      23.823681\n",
       "std       31.254502\n",
       "min        1.000000\n",
       "25%        7.000000\n",
       "50%       14.000000\n",
       "75%       26.000000\n",
       "max      362.000000\n",
       "Name: word, dtype: float64"
      ]
     },
     "execution_count": 30,
     "metadata": {},
     "output_type": "execute_result"
    }
   ],
   "source": [
    "data_ = buds_in\n",
    "\n",
    "elw = data_.groupby('enter').count()\n",
    "iqr = elw['word'].describe()\n",
    "iqr"
   ]
  },
  {
   "cell_type": "code",
   "execution_count": 31,
   "metadata": {},
   "outputs": [
    {
     "data": {
      "text/plain": [
       "54.5"
      ]
     },
     "execution_count": 31,
     "metadata": {},
     "output_type": "execute_result"
    }
   ],
   "source": [
    "iqr_v = iqr['75%'] - iqr['25%']\n",
    "iqr['75%'] + 1.5* iqr_v"
   ]
  },
  {
   "cell_type": "code",
   "execution_count": 32,
   "metadata": {},
   "outputs": [
    {
     "data": {
      "text/plain": [
       "{'whiskers': [<matplotlib.lines.Line2D at 0x215c50949c8>,\n",
       "  <matplotlib.lines.Line2D at 0x215c5135b48>],\n",
       " 'caps': [<matplotlib.lines.Line2D at 0x215c4fd0208>,\n",
       "  <matplotlib.lines.Line2D at 0x215cc6e3c48>],\n",
       " 'boxes': [<matplotlib.lines.Line2D at 0x215cc6e4c08>],\n",
       " 'medians': [<matplotlib.lines.Line2D at 0x215cc6e3f88>],\n",
       " 'fliers': [<matplotlib.lines.Line2D at 0x215cc6e3fc8>],\n",
       " 'means': []}"
      ]
     },
     "execution_count": 32,
     "metadata": {},
     "output_type": "execute_result"
    },
    {
     "data": {
      "image/png": "[encoded data removed]",
      "text/plain": [
       "<Figure size 432x288 with 1 Axes>"
      ]
     },
     "metadata": {
      "needs_background": "light"
     },
     "output_type": "display_data"
    }
   ],
   "source": [
    "import matplotlib.pyplot as plt\n",
    "%matplotlib inline\n",
    "\n",
    "plt.boxplot(elw['word'])"
   ]
  },
  {
   "cell_type": "code",
   "execution_count": 33,
   "metadata": {},
   "outputs": [
    {
     "data": {
      "application/vnd.plotly.v1+json": {
       "config": {
        "plotlyServerURL": "https://plot.ly"
       },
       "data": [
        {
         "alignmentgroup": "True",
         "hovertemplate": "word=%{y}<extra></extra>",
         "legendgroup": "",
         "marker": {
          "color": "#636efa"
         },
         "name": "",
         "notched": false,
         "offsetgroup": "",
         "orientation": "v",
         "showlegend": false,
         "type": "box",
         "x0": " ",
         "xaxis": "x",
         "y": [
          14,
          54,
          31,
          19,
          19,
          4,
          80,
          137,
          80,
          141,
          73,
          44,
          6,
          4,
          64,
          30,
          15,
          33,
          38,
          30,
          59,
          87,
          25,
          20,
          39,
          145,
          43,
          80,
          28,
          34,
          53,
          79,
          191,
          57,
          44,
          68,
          71,
          75,
          33,
          29,
          57,
          40,
          57,
          11,
          68,
          14,
          61,
          109,
          15,
          19,
          31,
          130,
          20,
          106,
          17,
          156,
          22,
          362,
          53,
          51,
          54,
          35,
          31,
          15,
          83,
          57,
          83,
          39,
          63,
          198,
          33,
          78,
          23,
          56,
          28,
          60,
          58,
          25,
          10,
          56,
          22,
          31,
          15,
          14,
          11,
          10,
          18,
          36,
          44,
          17,
          42,
          37,
          143,
          22,
          8,
          27,
          38,
          63,
          25,
          34,
          10,
          194,
          57,
          68,
          54,
          133,
          50,
          24,
          17,
          24,
          18,
          17,
          43,
          20,
          10,
          23,
          80,
          13,
          31,
          61,
          107,
          34,
          28,
          6,
          47,
          69,
          99,
          65,
          55,
          30,
          75,
          31,
          58,
          123,
          50,
          28,
          80,
          21,
          4,
          7,
          69,
          179,
          5,
          46,
          257,
          132,
          56,
          19,
          35,
          17,
          1,
          21,
          1,
          49,
          1,
          21,
          36,
          19,
          19,
          1,
          19,
          17,
          12,
          19,
          1,
          5,
          5,
          5,
          14,
          25,
          17,
          1,
          9,
          3,
          1,
          6,
          15,
          14,
          13,
          18,
          13,
          1,
          6,
          18,
          19,
          1,
          7,
          11,
          1,
          4,
          7,
          11,
          20,
          10,
          8,
          14,
          6,
          6,
          8,
          7,
          7,
          10,
          7,
          3,
          7,
          4,
          5,
          6,
          3,
          11,
          7,
          4,
          7,
          14,
          6,
          8,
          8,
          3,
          10,
          9,
          11,
          2,
          6,
          8,
          6,
          14,
          9,
          7,
          10,
          22,
          13,
          19,
          6,
          6,
          6,
          12,
          9,
          6,
          6,
          10,
          3,
          3,
          7,
          6,
          4,
          8,
          1,
          93,
          14,
          28,
          59,
          40,
          33,
          20,
          30,
          16,
          66,
          7,
          15,
          37,
          26,
          23,
          27,
          8,
          24,
          7,
          9,
          4,
          17,
          24,
          8,
          10,
          88,
          34,
          30,
          9,
          50,
          61,
          12,
          19,
          10,
          14,
          14,
          26,
          6,
          11,
          10,
          12,
          5,
          6,
          18,
          1,
          5,
          25,
          38,
          23,
          18,
          1,
          23,
          24,
          5,
          11,
          13,
          3,
          6,
          32,
          7,
          15,
          4,
          8,
          7,
          9,
          5,
          8,
          13,
          10,
          6,
          11,
          7,
          2,
          11,
          12,
          11,
          10,
          3,
          11,
          14,
          13,
          16,
          13,
          11,
          10,
          21,
          22,
          12,
          21,
          19,
          21,
          16,
          76,
          8,
          8,
          1,
          12,
          13,
          3,
          4,
          2,
          6,
          12,
          12,
          6,
          12,
          8,
          1,
          14,
          9,
          18,
          1,
          7,
          28,
          9,
          18,
          33,
          23,
          25,
          7,
          21,
          19,
          18,
          21,
          10,
          18,
          4,
          13,
          9,
          27,
          12,
          17,
          16,
          10,
          14,
          10,
          13,
          3,
          20,
          9,
          7,
          15,
          11,
          14,
          11,
          5,
          4,
          13,
          5,
          6,
          17,
          19,
          19,
          13,
          28,
          14,
          38,
          34,
          11,
          8,
          16,
          8,
          7,
          30,
          6,
          18,
          9,
          16,
          14,
          12,
          9,
          13,
          6,
          9,
          15,
          11,
          9,
          8,
          11,
          15,
          2,
          6,
          12,
          3,
          32,
          2,
          8,
          14,
          9,
          2,
          10,
          14,
          27,
          18,
          19,
          10,
          25,
          70,
          75,
          53,
          104,
          5,
          7,
          6,
          2,
          2,
          60,
          72,
          111,
          88,
          11,
          92,
          34,
          14,
          11,
          181,
          6,
          19,
          12,
          21,
          11,
          5,
          35,
          8,
          18,
          3,
          6,
          4,
          4,
          4,
          5,
          12,
          6,
          17,
          11,
          20,
          7,
          17,
          16,
          7,
          49,
          7,
          27,
          11,
          43,
          12,
          14,
          12,
          49,
          3,
          17,
          13,
          11,
          5,
          13,
          8,
          24,
          8,
          8,
          7,
          6,
          10,
          15,
          22,
          9,
          35,
          5,
          11,
          11,
          11,
          22,
          10,
          5,
          16,
          9,
          7,
          21,
          16,
          13,
          11,
          11,
          11,
          126,
          10,
          30,
          51,
          36,
          11,
          25,
          1,
          8,
          18,
          4,
          14,
          22,
          16,
          4,
          16,
          19,
          6,
          13,
          3,
          6,
          17,
          3,
          9,
          9,
          14,
          3,
          22,
          10,
          11,
          3,
          20,
          19,
          5,
          9,
          7,
          15,
          13,
          15,
          3,
          23,
          19,
          13,
          13,
          1,
          6,
          9,
          21,
          11,
          8,
          15,
          16,
          18,
          18,
          26,
          7,
          5,
          13,
          8,
          15,
          13,
          5,
          8,
          19,
          19,
          15,
          3,
          6,
          17,
          21,
          15,
          11,
          13,
          14,
          6,
          11,
          13,
          3,
          14,
          8,
          11,
          16,
          14,
          9,
          10,
          9,
          9,
          13,
          3,
          4,
          7,
          7,
          4,
          8,
          2,
          4,
          10,
          7,
          6,
          2,
          8,
          10,
          4,
          8,
          5,
          8,
          2,
          3,
          2,
          2,
          7,
          14,
          7,
          4,
          7,
          9,
          3,
          8,
          11,
          2,
          10,
          2,
          4,
          2,
          13,
          5,
          12,
          20,
          31,
          17,
          11,
          14,
          16,
          37,
          22,
          27,
          26,
          21,
          18,
          7,
          7,
          27,
          11,
          4,
          5,
          13,
          14,
          25,
          20,
          15,
          14,
          14,
          6,
          15,
          15,
          17,
          24,
          23,
          18,
          63,
          16,
          74,
          43,
          50,
          51,
          38,
          42,
          38,
          27,
          6,
          50,
          23,
          60,
          16,
          74,
          54,
          50,
          51,
          38,
          42,
          38,
          43,
          27,
          33,
          17,
          31,
          2,
          8,
          6,
          9,
          2,
          9,
          7,
          4,
          7,
          6,
          18,
          3,
          7,
          13,
          9,
          11,
          16,
          17,
          16,
          19,
          16,
          8,
          7,
          12,
          10,
          21,
          9,
          16,
          5,
          4,
          16,
          13,
          14,
          6,
          6,
          11,
          29,
          54,
          6,
          29,
          35,
          20,
          43,
          14,
          40,
          38,
          26,
          28,
          19,
          125,
          102,
          41,
          82,
          6,
          56,
          55,
          41,
          63,
          10,
          13,
          18,
          19
         ],
         "y0": " ",
         "yaxis": "y"
        }
       ],
       "layout": {
        "boxmode": "group",
        "legend": {
         "tracegroupgap": 0
        },
        "margin": {
         "t": 60
        },
        "paper_bgcolor": "rgb(500,500,500)",
        "plot_bgcolor": "rgb(250,250,250)",
        "template": {
         "data": {
          "bar": [
           {
            "error_x": {
             "color": "#2a3f5f"
            },
            "error_y": {
             "color": "#2a3f5f"
            },
            "marker": {
             "line": {
              "color": "#E5ECF6",
              "width": 0.5
             }
            },
            "type": "bar"
           }
          ],
          "barpolar": [
           {
            "marker": {
             "line": {
              "color": "#E5ECF6",
              "width": 0.5
             }
            },
            "type": "barpolar"
           }
          ],
          "carpet": [
           {
            "aaxis": {
             "endlinecolor": "#2a3f5f",
             "gridcolor": "white",
             "linecolor": "white",
             "minorgridcolor": "white",
             "startlinecolor": "#2a3f5f"
            },
            "baxis": {
             "endlinecolor": "#2a3f5f",
             "gridcolor": "white",
             "linecolor": "white",
             "minorgridcolor": "white",
             "startlinecolor": "#2a3f5f"
            },
            "type": "carpet"
           }
          ],
          "choropleth": [
           {
            "colorbar": {
             "outlinewidth": 0,
             "ticks": ""
            },
            "type": "choropleth"
           }
          ],
          "contour": [
           {
            "colorbar": {
             "outlinewidth": 0,
             "ticks": ""
            },
            "colorscale": [
             [
              0,
              "#0d0887"
             ],
             [
              0.1111111111111111,
              "#46039f"
             ],
             [
              0.2222222222222222,
              "#7201a8"
             ],
             [
              0.3333333333333333,
              "#9c179e"
             ],
             [
              0.4444444444444444,
              "#bd3786"
             ],
             [
              0.5555555555555556,
              "#d8576b"
             ],
             [
              0.6666666666666666,
              "#ed7953"
             ],
             [
              0.7777777777777778,
              "#fb9f3a"
             ],
             [
              0.8888888888888888,
              "#fdca26"
             ],
             [
              1,
              "#f0f921"
             ]
            ],
            "type": "contour"
           }
          ],
          "contourcarpet": [
           {
            "colorbar": {
             "outlinewidth": 0,
             "ticks": ""
            },
            "type": "contourcarpet"
           }
          ],
          "heatmap": [
           {
            "colorbar": {
             "outlinewidth": 0,
             "ticks": ""
            },
            "colorscale": [
             [
              0,
              "#0d0887"
             ],
             [
              0.1111111111111111,
              "#46039f"
             ],
             [
              0.2222222222222222,
              "#7201a8"
             ],
             [
              0.3333333333333333,
              "#9c179e"
             ],
             [
              0.4444444444444444,
              "#bd3786"
             ],
             [
              0.5555555555555556,
              "#d8576b"
             ],
             [
              0.6666666666666666,
              "#ed7953"
             ],
             [
              0.7777777777777778,
              "#fb9f3a"
             ],
             [
              0.8888888888888888,
              "#fdca26"
             ],
             [
              1,
              "#f0f921"
             ]
            ],
            "type": "heatmap"
           }
          ],
          "heatmapgl": [
           {
            "colorbar": {
             "outlinewidth": 0,
             "ticks": ""
            },
            "colorscale": [
             [
              0,
              "#0d0887"
             ],
             [
              0.1111111111111111,
              "#46039f"
             ],
             [
              0.2222222222222222,
              "#7201a8"
             ],
             [
              0.3333333333333333,
              "#9c179e"
             ],
             [
              0.4444444444444444,
              "#bd3786"
             ],
             [
              0.5555555555555556,
              "#d8576b"
             ],
             [
              0.6666666666666666,
              "#ed7953"
             ],
             [
              0.7777777777777778,
              "#fb9f3a"
             ],
             [
              0.8888888888888888,
              "#fdca26"
             ],
             [
              1,
              "#f0f921"
             ]
            ],
            "type": "heatmapgl"
           }
          ],
          "histogram": [
           {
            "marker": {
             "colorbar": {
              "outlinewidth": 0,
              "ticks": ""
             }
            },
            "type": "histogram"
           }
          ],
          "histogram2d": [
           {
            "colorbar": {
             "outlinewidth": 0,
             "ticks": ""
            },
            "colorscale": [
             [
              0,
              "#0d0887"
             ],
             [
              0.1111111111111111,
              "#46039f"
             ],
             [
              0.2222222222222222,
              "#7201a8"
             ],
             [
              0.3333333333333333,
              "#9c179e"
             ],
             [
              0.4444444444444444,
              "#bd3786"
             ],
             [
              0.5555555555555556,
              "#d8576b"
             ],
             [
              0.6666666666666666,
              "#ed7953"
             ],
             [
              0.7777777777777778,
              "#fb9f3a"
             ],
             [
              0.8888888888888888,
              "#fdca26"
             ],
             [
              1,
              "#f0f921"
             ]
            ],
            "type": "histogram2d"
           }
          ],
          "histogram2dcontour": [
           {
            "colorbar": {
             "outlinewidth": 0,
             "ticks": ""
            },
            "colorscale": [
             [
              0,
              "#0d0887"
             ],
             [
              0.1111111111111111,
              "#46039f"
             ],
             [
              0.2222222222222222,
              "#7201a8"
             ],
             [
              0.3333333333333333,
              "#9c179e"
             ],
             [
              0.4444444444444444,
              "#bd3786"
             ],
             [
              0.5555555555555556,
              "#d8576b"
             ],
             [
              0.6666666666666666,
              "#ed7953"
             ],
             [
              0.7777777777777778,
              "#fb9f3a"
             ],
             [
              0.8888888888888888,
              "#fdca26"
             ],
             [
              1,
              "#f0f921"
             ]
            ],
            "type": "histogram2dcontour"
           }
          ],
          "mesh3d": [
           {
            "colorbar": {
             "outlinewidth": 0,
             "ticks": ""
            },
            "type": "mesh3d"
           }
          ],
          "parcoords": [
           {
            "line": {
             "colorbar": {
              "outlinewidth": 0,
              "ticks": ""
             }
            },
            "type": "parcoords"
           }
          ],
          "pie": [
           {
            "automargin": true,
            "type": "pie"
           }
          ],
          "scatter": [
           {
            "marker": {
             "colorbar": {
              "outlinewidth": 0,
              "ticks": ""
             }
            },
            "type": "scatter"
           }
          ],
          "scatter3d": [
           {
            "line": {
             "colorbar": {
              "outlinewidth": 0,
              "ticks": ""
             }
            },
            "marker": {
             "colorbar": {
              "outlinewidth": 0,
              "ticks": ""
             }
            },
            "type": "scatter3d"
           }
          ],
          "scattercarpet": [
           {
            "marker": {
             "colorbar": {
              "outlinewidth": 0,
              "ticks": ""
             }
            },
            "type": "scattercarpet"
           }
          ],
          "scattergeo": [
           {
            "marker": {
             "colorbar": {
              "outlinewidth": 0,
              "ticks": ""
             }
            },
            "type": "scattergeo"
           }
          ],
          "scattergl": [
           {
            "marker": {
             "colorbar": {
              "outlinewidth": 0,
              "ticks": ""
             }
            },
            "type": "scattergl"
           }
          ],
          "scattermapbox": [
           {
            "marker": {
             "colorbar": {
              "outlinewidth": 0,
              "ticks": ""
             }
            },
            "type": "scattermapbox"
           }
          ],
          "scatterpolar": [
           {
            "marker": {
             "colorbar": {
              "outlinewidth": 0,
              "ticks": ""
             }
            },
            "type": "scatterpolar"
           }
          ],
          "scatterpolargl": [
           {
            "marker": {
             "colorbar": {
              "outlinewidth": 0,
              "ticks": ""
             }
            },
            "type": "scatterpolargl"
           }
          ],
          "scatterternary": [
           {
            "marker": {
             "colorbar": {
              "outlinewidth": 0,
              "ticks": ""
             }
            },
            "type": "scatterternary"
           }
          ],
          "surface": [
           {
            "colorbar": {
             "outlinewidth": 0,
             "ticks": ""
            },
            "colorscale": [
             [
              0,
              "#0d0887"
             ],
             [
              0.1111111111111111,
              "#46039f"
             ],
             [
              0.2222222222222222,
              "#7201a8"
             ],
             [
              0.3333333333333333,
              "#9c179e"
             ],
             [
              0.4444444444444444,
              "#bd3786"
             ],
             [
              0.5555555555555556,
              "#d8576b"
             ],
             [
              0.6666666666666666,
              "#ed7953"
             ],
             [
              0.7777777777777778,
              "#fb9f3a"
             ],
             [
              0.8888888888888888,
              "#fdca26"
             ],
             [
              1,
              "#f0f921"
             ]
            ],
            "type": "surface"
           }
          ],
          "table": [
           {
            "cells": {
             "fill": {
              "color": "#EBF0F8"
             },
             "line": {
              "color": "white"
             }
            },
            "header": {
             "fill": {
              "color": "#C8D4E3"
             },
             "line": {
              "color": "white"
             }
            },
            "type": "table"
           }
          ]
         },
         "layout": {
          "annotationdefaults": {
           "arrowcolor": "#2a3f5f",
           "arrowhead": 0,
           "arrowwidth": 1
          },
          "autotypenumbers": "strict",
          "coloraxis": {
           "colorbar": {
            "outlinewidth": 0,
            "ticks": ""
           }
          },
          "colorscale": {
           "diverging": [
            [
             0,
             "#8e0152"
            ],
            [
             0.1,
             "#c51b7d"
            ],
            [
             0.2,
             "#de77ae"
            ],
            [
             0.3,
             "#f1b6da"
            ],
            [
             0.4,
             "#fde0ef"
            ],
            [
             0.5,
             "#f7f7f7"
            ],
            [
             0.6,
             "#e6f5d0"
            ],
            [
             0.7,
             "#b8e186"
            ],
            [
             0.8,
             "#7fbc41"
            ],
            [
             0.9,
             "#4d9221"
            ],
            [
             1,
             "#276419"
            ]
           ],
           "sequential": [
            [
             0,
             "#0d0887"
            ],
            [
             0.1111111111111111,
             "#46039f"
            ],
            [
             0.2222222222222222,
             "#7201a8"
            ],
            [
             0.3333333333333333,
             "#9c179e"
            ],
            [
             0.4444444444444444,
             "#bd3786"
            ],
            [
             0.5555555555555556,
             "#d8576b"
            ],
            [
             0.6666666666666666,
             "#ed7953"
            ],
            [
             0.7777777777777778,
             "#fb9f3a"
            ],
            [
             0.8888888888888888,
             "#fdca26"
            ],
            [
             1,
             "#f0f921"
            ]
           ],
           "sequentialminus": [
            [
             0,
             "#0d0887"
            ],
            [
             0.1111111111111111,
             "#46039f"
            ],
            [
             0.2222222222222222,
             "#7201a8"
            ],
            [
             0.3333333333333333,
             "#9c179e"
            ],
            [
             0.4444444444444444,
             "#bd3786"
            ],
            [
             0.5555555555555556,
             "#d8576b"
            ],
            [
             0.6666666666666666,
             "#ed7953"
            ],
            [
             0.7777777777777778,
             "#fb9f3a"
            ],
            [
             0.8888888888888888,
             "#fdca26"
            ],
            [
             1,
             "#f0f921"
            ]
           ]
          },
          "colorway": [
           "#636efa",
           "#EF553B",
           "#00cc96",
           "#ab63fa",
           "#FFA15A",
           "#19d3f3",
           "#FF6692",
           "#B6E880",
           "#FF97FF",
           "#FECB52"
          ],
          "font": {
           "color": "#2a3f5f"
          },
          "geo": {
           "bgcolor": "white",
           "lakecolor": "white",
           "landcolor": "#E5ECF6",
           "showlakes": true,
           "showland": true,
           "subunitcolor": "white"
          },
          "hoverlabel": {
           "align": "left"
          },
          "hovermode": "closest",
          "mapbox": {
           "style": "light"
          },
          "paper_bgcolor": "white",
          "plot_bgcolor": "#E5ECF6",
          "polar": {
           "angularaxis": {
            "gridcolor": "white",
            "linecolor": "white",
            "ticks": ""
           },
           "bgcolor": "#E5ECF6",
           "radialaxis": {
            "gridcolor": "white",
            "linecolor": "white",
            "ticks": ""
           }
          },
          "scene": {
           "xaxis": {
            "backgroundcolor": "#E5ECF6",
            "gridcolor": "white",
            "gridwidth": 2,
            "linecolor": "white",
            "showbackground": true,
            "ticks": "",
            "zerolinecolor": "white"
           },
           "yaxis": {
            "backgroundcolor": "#E5ECF6",
            "gridcolor": "white",
            "gridwidth": 2,
            "linecolor": "white",
            "showbackground": true,
            "ticks": "",
            "zerolinecolor": "white"
           },
           "zaxis": {
            "backgroundcolor": "#E5ECF6",
            "gridcolor": "white",
            "gridwidth": 2,
            "linecolor": "white",
            "showbackground": true,
            "ticks": "",
            "zerolinecolor": "white"
           }
          },
          "shapedefaults": {
           "line": {
            "color": "#2a3f5f"
           }
          },
          "ternary": {
           "aaxis": {
            "gridcolor": "white",
            "linecolor": "white",
            "ticks": ""
           },
           "baxis": {
            "gridcolor": "white",
            "linecolor": "white",
            "ticks": ""
           },
           "bgcolor": "#E5ECF6",
           "caxis": {
            "gridcolor": "white",
            "linecolor": "white",
            "ticks": ""
           }
          },
          "title": {
           "x": 0.05
          },
          "xaxis": {
           "automargin": true,
           "gridcolor": "white",
           "linecolor": "white",
           "ticks": "",
           "title": {
            "standoff": 15
           },
           "zerolinecolor": "white",
           "zerolinewidth": 2
          },
          "yaxis": {
           "automargin": true,
           "gridcolor": "white",
           "linecolor": "white",
           "ticks": "",
           "title": {
            "standoff": 15
           },
           "zerolinecolor": "white",
           "zerolinewidth": 2
          }
         }
        },
        "xaxis": {
         "anchor": "y",
         "domain": [
          0,
          1
         ]
        },
        "yaxis": {
         "anchor": "x",
         "domain": [
          0,
          1
         ],
         "title": {
          "text": "word"
         }
        }
       }
      },
      "text/html": [
       "<div>                            <div id=\"12864440-eea0-49d2-8346-13ee7e6c8db2\" class=\"plotly-graph-div\" style=\"height:525px; width:100%;\"></div>            <script type=\"text/javascript\">                require([\"plotly\"], function(Plotly) {                    window.PLOTLYENV=window.PLOTLYENV || {};                                    if (document.getElementById(\"12864440-eea0-49d2-8346-13ee7e6c8db2\")) {                    Plotly.newPlot(                        \"12864440-eea0-49d2-8346-13ee7e6c8db2\",                        [{\"alignmentgroup\": \"True\", \"hovertemplate\": \"word=%{y}<extra></extra>\", \"legendgroup\": \"\", \"marker\": {\"color\": \"#636efa\"}, \"name\": \"\", \"notched\": false, \"offsetgroup\": \"\", \"orientation\": \"v\", \"showlegend\": false, \"type\": \"box\", \"x0\": \" \", \"xaxis\": \"x\", \"y\": [14, 54, 31, 19, 19, 4, 80, 137, 80, 141, 73, 44, 6, 4, 64, 30, 15, 33, 38, 30, 59, 87, 25, 20, 39, 145, 43, 80, 28, 34, 53, 79, 191, 57, 44, 68, 71, 75, 33, 29, 57, 40, 57, 11, 68, 14, 61, 109, 15, 19, 31, 130, 20, 106, 17, 156, 22, 362, 53, 51, 54, 35, 31, 15, 83, 57, 83, 39, 63, 198, 33, 78, 23, 56, 28, 60, 58, 25, 10, 56, 22, 31, 15, 14, 11, 10, 18, 36, 44, 17, 42, 37, 143, 22, 8, 27, 38, 63, 25, 34, 10, 194, 57, 68, 54, 133, 50, 24, 17, 24, 18, 17, 43, 20, 10, 23, 80, 13, 31, 61, 107, 34, 28, 6, 47, 69, 99, 65, 55, 30, 75, 31, 58, 123, 50, 28, 80, 21, 4, 7, 69, 179, 5, 46, 257, 132, 56, 19, 35, 17, 1, 21, 1, 49, 1, 21, 36, 19, 19, 1, 19, 17, 12, 19, 1, 5, 5, 5, 14, 25, 17, 1, 9, 3, 1, 6, 15, 14, 13, 18, 13, 1, 6, 18, 19, 1, 7, 11, 1, 4, 7, 11, 20, 10, 8, 14, 6, 6, 8, 7, 7, 10, 7, 3, 7, 4, 5, 6, 3, 11, 7, 4, 7, 14, 6, 8, 8, 3, 10, 9, 11, 2, 6, 8, 6, 14, 9, 7, 10, 22, 13, 19, 6, 6, 6, 12, 9, 6, 6, 10, 3, 3, 7, 6, 4, 8, 1, 93, 14, 28, 59, 40, 33, 20, 30, 16, 66, 7, 15, 37, 26, 23, 27, 8, 24, 7, 9, 4, 17, 24, 8, 10, 88, 34, 30, 9, 50, 61, 12, 19, 10, 14, 14, 26, 6, 11, 10, 12, 5, 6, 18, 1, 5, 25, 38, 23, 18, 1, 23, 24, 5, 11, 13, 3, 6, 32, 7, 15, 4, 8, 7, 9, 5, 8, 13, 10, 6, 11, 7, 2, 11, 12, 11, 10, 3, 11, 14, 13, 16, 13, 11, 10, 21, 22, 12, 21, 19, 21, 16, 76, 8, 8, 1, 12, 13, 3, 4, 2, 6, 12, 12, 6, 12, 8, 1, 14, 9, 18, 1, 7, 28, 9, 18, 33, 23, 25, 7, 21, 19, 18, 21, 10, 18, 4, 13, 9, 27, 12, 17, 16, 10, 14, 10, 13, 3, 20, 9, 7, 15, 11, 14, 11, 5, 4, 13, 5, 6, 17, 19, 19, 13, 28, 14, 38, 34, 11, 8, 16, 8, 7, 30, 6, 18, 9, 16, 14, 12, 9, 13, 6, 9, 15, 11, 9, 8, 11, 15, 2, 6, 12, 3, 32, 2, 8, 14, 9, 2, 10, 14, 27, 18, 19, 10, 25, 70, 75, 53, 104, 5, 7, 6, 2, 2, 60, 72, 111, 88, 11, 92, 34, 14, 11, 181, 6, 19, 12, 21, 11, 5, 35, 8, 18, 3, 6, 4, 4, 4, 5, 12, 6, 17, 11, 20, 7, 17, 16, 7, 49, 7, 27, 11, 43, 12, 14, 12, 49, 3, 17, 13, 11, 5, 13, 8, 24, 8, 8, 7, 6, 10, 15, 22, 9, 35, 5, 11, 11, 11, 22, 10, 5, 16, 9, 7, 21, 16, 13, 11, 11, 11, 126, 10, 30, 51, 36, 11, 25, 1, 8, 18, 4, 14, 22, 16, 4, 16, 19, 6, 13, 3, 6, 17, 3, 9, 9, 14, 3, 22, 10, 11, 3, 20, 19, 5, 9, 7, 15, 13, 15, 3, 23, 19, 13, 13, 1, 6, 9, 21, 11, 8, 15, 16, 18, 18, 26, 7, 5, 13, 8, 15, 13, 5, 8, 19, 19, 15, 3, 6, 17, 21, 15, 11, 13, 14, 6, 11, 13, 3, 14, 8, 11, 16, 14, 9, 10, 9, 9, 13, 3, 4, 7, 7, 4, 8, 2, 4, 10, 7, 6, 2, 8, 10, 4, 8, 5, 8, 2, 3, 2, 2, 7, 14, 7, 4, 7, 9, 3, 8, 11, 2, 10, 2, 4, 2, 13, 5, 12, 20, 31, 17, 11, 14, 16, 37, 22, 27, 26, 21, 18, 7, 7, 27, 11, 4, 5, 13, 14, 25, 20, 15, 14, 14, 6, 15, 15, 17, 24, 23, 18, 63, 16, 74, 43, 50, 51, 38, 42, 38, 27, 6, 50, 23, 60, 16, 74, 54, 50, 51, 38, 42, 38, 43, 27, 33, 17, 31, 2, 8, 6, 9, 2, 9, 7, 4, 7, 6, 18, 3, 7, 13, 9, 11, 16, 17, 16, 19, 16, 8, 7, 12, 10, 21, 9, 16, 5, 4, 16, 13, 14, 6, 6, 11, 29, 54, 6, 29, 35, 20, 43, 14, 40, 38, 26, 28, 19, 125, 102, 41, 82, 6, 56, 55, 41, 63, 10, 13, 18, 19], \"y0\": \" \", \"yaxis\": \"y\"}],                        {\"boxmode\": \"group\", \"legend\": {\"tracegroupgap\": 0}, \"margin\": {\"t\": 60}, \"paper_bgcolor\": \"rgb(500,500,500)\", \"plot_bgcolor\": \"rgb(250,250,250)\", \"template\": {\"data\": {\"bar\": [{\"error_x\": {\"color\": \"#2a3f5f\"}, \"error_y\": {\"color\": \"#2a3f5f\"}, \"marker\": {\"line\": {\"color\": \"#E5ECF6\", \"width\": 0.5}}, \"type\": \"bar\"}], \"barpolar\": [{\"marker\": {\"line\": {\"color\": \"#E5ECF6\", \"width\": 0.5}}, \"type\": \"barpolar\"}], \"carpet\": [{\"aaxis\": {\"endlinecolor\": \"#2a3f5f\", \"gridcolor\": \"white\", \"linecolor\": \"white\", \"minorgridcolor\": \"white\", \"startlinecolor\": \"#2a3f5f\"}, \"baxis\": {\"endlinecolor\": \"#2a3f5f\", \"gridcolor\": \"white\", \"linecolor\": \"white\", \"minorgridcolor\": \"white\", \"startlinecolor\": \"#2a3f5f\"}, \"type\": \"carpet\"}], \"choropleth\": [{\"colorbar\": {\"outlinewidth\": 0, \"ticks\": \"\"}, \"type\": \"choropleth\"}], \"contour\": [{\"colorbar\": {\"outlinewidth\": 0, \"ticks\": \"\"}, \"colorscale\": [[0.0, \"#0d0887\"], [0.1111111111111111, \"#46039f\"], [0.2222222222222222, \"#7201a8\"], [0.3333333333333333, \"#9c179e\"], [0.4444444444444444, \"#bd3786\"], [0.5555555555555556, \"#d8576b\"], [0.6666666666666666, \"#ed7953\"], [0.7777777777777778, \"#fb9f3a\"], [0.8888888888888888, \"#fdca26\"], [1.0, \"#f0f921\"]], \"type\": \"contour\"}], \"contourcarpet\": [{\"colorbar\": {\"outlinewidth\": 0, \"ticks\": \"\"}, \"type\": \"contourcarpet\"}], \"heatmap\": [{\"colorbar\": {\"outlinewidth\": 0, \"ticks\": \"\"}, \"colorscale\": [[0.0, \"#0d0887\"], [0.1111111111111111, \"#46039f\"], [0.2222222222222222, \"#7201a8\"], [0.3333333333333333, \"#9c179e\"], [0.4444444444444444, \"#bd3786\"], [0.5555555555555556, \"#d8576b\"], [0.6666666666666666, \"#ed7953\"], [0.7777777777777778, \"#fb9f3a\"], [0.8888888888888888, \"#fdca26\"], [1.0, \"#f0f921\"]], \"type\": \"heatmap\"}], \"heatmapgl\": [{\"colorbar\": {\"outlinewidth\": 0, \"ticks\": \"\"}, \"colorscale\": [[0.0, \"#0d0887\"], [0.1111111111111111, \"#46039f\"], [0.2222222222222222, \"#7201a8\"], [0.3333333333333333, \"#9c179e\"], [0.4444444444444444, \"#bd3786\"], [0.5555555555555556, \"#d8576b\"], [0.6666666666666666, \"#ed7953\"], [0.7777777777777778, \"#fb9f3a\"], [0.8888888888888888, \"#fdca26\"], [1.0, \"#f0f921\"]], \"type\": \"heatmapgl\"}], \"histogram\": [{\"marker\": {\"colorbar\": {\"outlinewidth\": 0, \"ticks\": \"\"}}, \"type\": \"histogram\"}], \"histogram2d\": [{\"colorbar\": {\"outlinewidth\": 0, \"ticks\": \"\"}, \"colorscale\": [[0.0, \"#0d0887\"], [0.1111111111111111, \"#46039f\"], [0.2222222222222222, \"#7201a8\"], [0.3333333333333333, \"#9c179e\"], [0.4444444444444444, \"#bd3786\"], [0.5555555555555556, \"#d8576b\"], [0.6666666666666666, \"#ed7953\"], [0.7777777777777778, \"#fb9f3a\"], [0.8888888888888888, \"#fdca26\"], [1.0, \"#f0f921\"]], \"type\": \"histogram2d\"}], \"histogram2dcontour\": [{\"colorbar\": {\"outlinewidth\": 0, \"ticks\": \"\"}, \"colorscale\": [[0.0, \"#0d0887\"], [0.1111111111111111, \"#46039f\"], [0.2222222222222222, \"#7201a8\"], [0.3333333333333333, \"#9c179e\"], [0.4444444444444444, \"#bd3786\"], [0.5555555555555556, \"#d8576b\"], [0.6666666666666666, \"#ed7953\"], [0.7777777777777778, \"#fb9f3a\"], [0.8888888888888888, \"#fdca26\"], [1.0, \"#f0f921\"]], \"type\": \"histogram2dcontour\"}], \"mesh3d\": [{\"colorbar\": {\"outlinewidth\": 0, \"ticks\": \"\"}, \"type\": \"mesh3d\"}], \"parcoords\": [{\"line\": {\"colorbar\": {\"outlinewidth\": 0, \"ticks\": \"\"}}, \"type\": \"parcoords\"}], \"pie\": [{\"automargin\": true, \"type\": \"pie\"}], \"scatter\": [{\"marker\": {\"colorbar\": {\"outlinewidth\": 0, \"ticks\": \"\"}}, \"type\": \"scatter\"}], \"scatter3d\": [{\"line\": {\"colorbar\": {\"outlinewidth\": 0, \"ticks\": \"\"}}, \"marker\": {\"colorbar\": {\"outlinewidth\": 0, \"ticks\": \"\"}}, \"type\": \"scatter3d\"}], \"scattercarpet\": [{\"marker\": {\"colorbar\": {\"outlinewidth\": 0, \"ticks\": \"\"}}, \"type\": \"scattercarpet\"}], \"scattergeo\": [{\"marker\": {\"colorbar\": {\"outlinewidth\": 0, \"ticks\": \"\"}}, \"type\": \"scattergeo\"}], \"scattergl\": [{\"marker\": {\"colorbar\": {\"outlinewidth\": 0, \"ticks\": \"\"}}, \"type\": \"scattergl\"}], \"scattermapbox\": [{\"marker\": {\"colorbar\": {\"outlinewidth\": 0, \"ticks\": \"\"}}, \"type\": \"scattermapbox\"}], \"scatterpolar\": [{\"marker\": {\"colorbar\": {\"outlinewidth\": 0, \"ticks\": \"\"}}, \"type\": \"scatterpolar\"}], \"scatterpolargl\": [{\"marker\": {\"colorbar\": {\"outlinewidth\": 0, \"ticks\": \"\"}}, \"type\": \"scatterpolargl\"}], \"scatterternary\": [{\"marker\": {\"colorbar\": {\"outlinewidth\": 0, \"ticks\": \"\"}}, \"type\": \"scatterternary\"}], \"surface\": [{\"colorbar\": {\"outlinewidth\": 0, \"ticks\": \"\"}, \"colorscale\": [[0.0, \"#0d0887\"], [0.1111111111111111, \"#46039f\"], [0.2222222222222222, \"#7201a8\"], [0.3333333333333333, \"#9c179e\"], [0.4444444444444444, \"#bd3786\"], [0.5555555555555556, \"#d8576b\"], [0.6666666666666666, \"#ed7953\"], [0.7777777777777778, \"#fb9f3a\"], [0.8888888888888888, \"#fdca26\"], [1.0, \"#f0f921\"]], \"type\": \"surface\"}], \"table\": [{\"cells\": {\"fill\": {\"color\": \"#EBF0F8\"}, \"line\": {\"color\": \"white\"}}, \"header\": {\"fill\": {\"color\": \"#C8D4E3\"}, \"line\": {\"color\": \"white\"}}, \"type\": \"table\"}]}, \"layout\": {\"annotationdefaults\": {\"arrowcolor\": \"#2a3f5f\", \"arrowhead\": 0, \"arrowwidth\": 1}, \"autotypenumbers\": \"strict\", \"coloraxis\": {\"colorbar\": {\"outlinewidth\": 0, \"ticks\": \"\"}}, \"colorscale\": {\"diverging\": [[0, \"#8e0152\"], [0.1, \"#c51b7d\"], [0.2, \"#de77ae\"], [0.3, \"#f1b6da\"], [0.4, \"#fde0ef\"], [0.5, \"#f7f7f7\"], [0.6, \"#e6f5d0\"], [0.7, \"#b8e186\"], [0.8, \"#7fbc41\"], [0.9, \"#4d9221\"], [1, \"#276419\"]], \"sequential\": [[0.0, \"#0d0887\"], [0.1111111111111111, \"#46039f\"], [0.2222222222222222, \"#7201a8\"], [0.3333333333333333, \"#9c179e\"], [0.4444444444444444, \"#bd3786\"], [0.5555555555555556, \"#d8576b\"], [0.6666666666666666, \"#ed7953\"], [0.7777777777777778, \"#fb9f3a\"], [0.8888888888888888, \"#fdca26\"], [1.0, \"#f0f921\"]], \"sequentialminus\": [[0.0, \"#0d0887\"], [0.1111111111111111, \"#46039f\"], [0.2222222222222222, \"#7201a8\"], [0.3333333333333333, \"#9c179e\"], [0.4444444444444444, \"#bd3786\"], [0.5555555555555556, \"#d8576b\"], [0.6666666666666666, \"#ed7953\"], [0.7777777777777778, \"#fb9f3a\"], [0.8888888888888888, \"#fdca26\"], [1.0, \"#f0f921\"]]}, \"colorway\": [\"#636efa\", \"#EF553B\", \"#00cc96\", \"#ab63fa\", \"#FFA15A\", \"#19d3f3\", \"#FF6692\", \"#B6E880\", \"#FF97FF\", \"#FECB52\"], \"font\": {\"color\": \"#2a3f5f\"}, \"geo\": {\"bgcolor\": \"white\", \"lakecolor\": \"white\", \"landcolor\": \"#E5ECF6\", \"showlakes\": true, \"showland\": true, \"subunitcolor\": \"white\"}, \"hoverlabel\": {\"align\": \"left\"}, \"hovermode\": \"closest\", \"mapbox\": {\"style\": \"light\"}, \"paper_bgcolor\": \"white\", \"plot_bgcolor\": \"#E5ECF6\", \"polar\": {\"angularaxis\": {\"gridcolor\": \"white\", \"linecolor\": \"white\", \"ticks\": \"\"}, \"bgcolor\": \"#E5ECF6\", \"radialaxis\": {\"gridcolor\": \"white\", \"linecolor\": \"white\", \"ticks\": \"\"}}, \"scene\": {\"xaxis\": {\"backgroundcolor\": \"#E5ECF6\", \"gridcolor\": \"white\", \"gridwidth\": 2, \"linecolor\": \"white\", \"showbackground\": true, \"ticks\": \"\", \"zerolinecolor\": \"white\"}, \"yaxis\": {\"backgroundcolor\": \"#E5ECF6\", \"gridcolor\": \"white\", \"gridwidth\": 2, \"linecolor\": \"white\", \"showbackground\": true, \"ticks\": \"\", \"zerolinecolor\": \"white\"}, \"zaxis\": {\"backgroundcolor\": \"#E5ECF6\", \"gridcolor\": \"white\", \"gridwidth\": 2, \"linecolor\": \"white\", \"showbackground\": true, \"ticks\": \"\", \"zerolinecolor\": \"white\"}}, \"shapedefaults\": {\"line\": {\"color\": \"#2a3f5f\"}}, \"ternary\": {\"aaxis\": {\"gridcolor\": \"white\", \"linecolor\": \"white\", \"ticks\": \"\"}, \"baxis\": {\"gridcolor\": \"white\", \"linecolor\": \"white\", \"ticks\": \"\"}, \"bgcolor\": \"#E5ECF6\", \"caxis\": {\"gridcolor\": \"white\", \"linecolor\": \"white\", \"ticks\": \"\"}}, \"title\": {\"x\": 0.05}, \"xaxis\": {\"automargin\": true, \"gridcolor\": \"white\", \"linecolor\": \"white\", \"ticks\": \"\", \"title\": {\"standoff\": 15}, \"zerolinecolor\": \"white\", \"zerolinewidth\": 2}, \"yaxis\": {\"automargin\": true, \"gridcolor\": \"white\", \"linecolor\": \"white\", \"ticks\": \"\", \"title\": {\"standoff\": 15}, \"zerolinecolor\": \"white\", \"zerolinewidth\": 2}}}, \"xaxis\": {\"anchor\": \"y\", \"domain\": [0.0, 1.0]}, \"yaxis\": {\"anchor\": \"x\", \"domain\": [0.0, 1.0], \"title\": {\"text\": \"word\"}}},                        {\"responsive\": true}                    ).then(function(){\n",
       "                            \n",
       "var gd = document.getElementById('12864440-eea0-49d2-8346-13ee7e6c8db2');\n",
       "var x = new MutationObserver(function (mutations, observer) {{\n",
       "        var display = window.getComputedStyle(gd).display;\n",
       "        if (!display || display === 'none') {{\n",
       "            console.log([gd, 'removed!']);\n",
       "            Plotly.purge(gd);\n",
       "            observer.disconnect();\n",
       "        }}\n",
       "}});\n",
       "\n",
       "// Listen for the removal of the full notebook cells\n",
       "var notebookContainer = gd.closest('#notebook-container');\n",
       "if (notebookContainer) {{\n",
       "    x.observe(notebookContainer, {childList: true});\n",
       "}}\n",
       "\n",
       "// Listen for the clearing of the current output cell\n",
       "var outputEl = gd.closest('.output');\n",
       "if (outputEl) {{\n",
       "    x.observe(outputEl, {childList: true});\n",
       "}}\n",
       "\n",
       "                        })                };                });            </script>        </div>"
      ]
     },
     "metadata": {},
     "output_type": "display_data"
    }
   ],
   "source": [
    "\n",
    "fig = px.box(elw, y=\"word\")\n",
    "fig.update_layout(\n",
    "\n",
    "    paper_bgcolor='rgb(500,500,500)',\n",
    "    plot_bgcolor='rgb(250,250,250)',\n",
    ")\n",
    "fig.show()"
   ]
  },
  {
   "cell_type": "code",
   "execution_count": 34,
   "metadata": {},
   "outputs": [
    {
     "name": "stdout",
     "output_type": "stream",
     "text": [
      "리뷰의 최대 길이 : 362\n"
     ]
    },
    {
     "data": {
      "image/png": "[encoded data removed]",
      "text/plain": [
       "<Figure size 432x288 with 1 Axes>"
      ]
     },
     "metadata": {
      "needs_background": "light"
     },
     "output_type": "display_data"
    }
   ],
   "source": [
    "elw = data_.groupby('enter').count()\n",
    "slw = data_.groupby('sentence').count()\n",
    "length = data_['enter'].unique()\n",
    "func = lambda temp: [(w, t) for w, t in zip(temp[\"word\"].values.tolist(), temp[\"NER\"].values.tolist())]\n",
    "tagged_sentences=[t for t in data_.groupby(\"enter\").apply(func)]\n",
    "sentences, ner_tags = [], [] \n",
    "for tagged_sentence in tagged_sentences: # 47,959개의 문장 샘플을 1개씩 불러온다.\n",
    "    sentence, tag_info = zip(*tagged_sentence) # 각 샘플에서 단어들은 sentence에 개체명 태깅 정보들은 tag_info에 저장.\n",
    "    sentences.append(list(sentence)) # 각 샘플에서 단어 정보만 저장한다.\n",
    "    ner_tags.append(list(tag_info)) # 각 샘플에서 개체명 태깅 정보만 저장한다.\n",
    "print('리뷰의 최대 길이 : %d' % max(len(l) for l in tagged_sentences))\n",
    "plt.hist([len(s) for s in tagged_sentences], bins=50)\n",
    "plt.xlabel('length of samples')\n",
    "plt.ylabel('number of samples')\n",
    "plt.show()"
   ]
  },
  {
   "cell_type": "code",
   "execution_count": null,
   "metadata": {},
   "outputs": [],
   "source": []
  },
  {
   "cell_type": "code",
   "execution_count": 35,
   "metadata": {},
   "outputs": [
    {
     "data": {
      "application/vnd.plotly.v1+json": {
       "config": {
        "plotlyServerURL": "https://plot.ly"
       },
       "data": [
        {
         "alignmentgroup": "True",
         "bingroup": "x",
         "hovertemplate": "0=%{x}<br>count=%{y}<extra></extra>",
         "legendgroup": "",
         "marker": {
          "color": "#636efa"
         },
         "name": "",
         "offsetgroup": "",
         "orientation": "v",
         "showlegend": false,
         "type": "histogram",
         "x": [
          14,
          54,
          31,
          19,
          19,
          4,
          80,
          137,
          80,
          141,
          73,
          44,
          6,
          4,
          64,
          30,
          15,
          33,
          38,
          30,
          59,
          87,
          25,
          20,
          39,
          145,
          43,
          80,
          28,
          34,
          53,
          79,
          191,
          57,
          44,
          68,
          71,
          75,
          33,
          29,
          57,
          40,
          57,
          11,
          68,
          14,
          61,
          109,
          15,
          19,
          31,
          130,
          20,
          106,
          17,
          156,
          22,
          362,
          53,
          51,
          54,
          35,
          31,
          15,
          83,
          57,
          83,
          39,
          63,
          198,
          33,
          78,
          23,
          56,
          28,
          60,
          58,
          25,
          10,
          56,
          22,
          31,
          15,
          14,
          11,
          10,
          18,
          36,
          44,
          17,
          42,
          37,
          143,
          22,
          8,
          27,
          38,
          63,
          25,
          34,
          10,
          194,
          57,
          68,
          54,
          133,
          50,
          24,
          17,
          24,
          18,
          17,
          43,
          20,
          10,
          23,
          80,
          13,
          31,
          61,
          107,
          34,
          28,
          6,
          47,
          69,
          99,
          65,
          55,
          30,
          75,
          31,
          58,
          123,
          50,
          28,
          80,
          21,
          4,
          7,
          69,
          179,
          5,
          46,
          257,
          132,
          56,
          19,
          35,
          17,
          1,
          21,
          1,
          49,
          1,
          21,
          36,
          19,
          19,
          1,
          19,
          17,
          12,
          19,
          1,
          5,
          5,
          5,
          14,
          25,
          17,
          1,
          9,
          3,
          1,
          6,
          15,
          14,
          13,
          18,
          13,
          1,
          6,
          18,
          19,
          1,
          7,
          11,
          1,
          4,
          7,
          11,
          20,
          10,
          8,
          14,
          6,
          6,
          8,
          7,
          7,
          10,
          7,
          3,
          7,
          4,
          5,
          6,
          3,
          11,
          7,
          4,
          7,
          14,
          6,
          8,
          8,
          3,
          10,
          9,
          11,
          2,
          6,
          8,
          6,
          14,
          9,
          7,
          10,
          22,
          13,
          19,
          6,
          6,
          6,
          12,
          9,
          6,
          6,
          10,
          3,
          3,
          7,
          6,
          4,
          8,
          1,
          93,
          14,
          28,
          59,
          40,
          33,
          20,
          30,
          16,
          66,
          7,
          15,
          37,
          26,
          23,
          27,
          8,
          24,
          7,
          9,
          4,
          17,
          24,
          8,
          10,
          88,
          34,
          30,
          9,
          50,
          61,
          12,
          19,
          10,
          14,
          14,
          26,
          6,
          11,
          10,
          12,
          5,
          6,
          18,
          1,
          5,
          25,
          38,
          23,
          18,
          1,
          23,
          24,
          5,
          11,
          13,
          3,
          6,
          32,
          7,
          15,
          4,
          8,
          7,
          9,
          5,
          8,
          13,
          10,
          6,
          11,
          7,
          2,
          11,
          12,
          11,
          10,
          3,
          11,
          14,
          13,
          16,
          13,
          11,
          10,
          21,
          22,
          12,
          21,
          19,
          21,
          16,
          76,
          8,
          8,
          1,
          12,
          13,
          3,
          4,
          2,
          6,
          12,
          12,
          6,
          12,
          8,
          1,
          14,
          9,
          18,
          1,
          7,
          28,
          9,
          18,
          33,
          23,
          25,
          7,
          21,
          19,
          18,
          21,
          10,
          18,
          4,
          13,
          9,
          27,
          12,
          17,
          16,
          10,
          14,
          10,
          13,
          3,
          20,
          9,
          7,
          15,
          11,
          14,
          11,
          5,
          4,
          13,
          5,
          6,
          17,
          19,
          19,
          13,
          28,
          14,
          38,
          34,
          11,
          8,
          16,
          8,
          7,
          30,
          6,
          18,
          9,
          16,
          14,
          12,
          9,
          13,
          6,
          9,
          15,
          11,
          9,
          8,
          11,
          15,
          2,
          6,
          12,
          3,
          32,
          2,
          8,
          14,
          9,
          2,
          10,
          14,
          27,
          18,
          19,
          10,
          25,
          70,
          75,
          53,
          104,
          5,
          7,
          6,
          2,
          2,
          60,
          72,
          111,
          88,
          11,
          92,
          34,
          14,
          11,
          181,
          6,
          19,
          12,
          21,
          11,
          5,
          35,
          8,
          18,
          3,
          6,
          4,
          4,
          4,
          5,
          12,
          6,
          17,
          11,
          20,
          7,
          17,
          16,
          7,
          49,
          7,
          27,
          11,
          43,
          12,
          14,
          12,
          49,
          3,
          17,
          13,
          11,
          5,
          13,
          8,
          24,
          8,
          8,
          7,
          6,
          10,
          15,
          22,
          9,
          35,
          5,
          11,
          11,
          11,
          22,
          10,
          5,
          16,
          9,
          7,
          21,
          16,
          13,
          11,
          11,
          11,
          126,
          10,
          30,
          51,
          36,
          11,
          25,
          1,
          8,
          18,
          4,
          14,
          22,
          16,
          4,
          16,
          19,
          6,
          13,
          3,
          6,
          17,
          3,
          9,
          9,
          14,
          3,
          22,
          10,
          11,
          3,
          20,
          19,
          5,
          9,
          7,
          15,
          13,
          15,
          3,
          23,
          19,
          13,
          13,
          1,
          6,
          9,
          21,
          11,
          8,
          15,
          16,
          18,
          18,
          26,
          7,
          5,
          13,
          8,
          15,
          13,
          5,
          8,
          19,
          19,
          15,
          3,
          6,
          17,
          21,
          15,
          11,
          13,
          14,
          6,
          11,
          13,
          3,
          14,
          8,
          11,
          16,
          14,
          9,
          10,
          9,
          9,
          13,
          3,
          4,
          7,
          7,
          4,
          8,
          2,
          4,
          10,
          7,
          6,
          2,
          8,
          10,
          4,
          8,
          5,
          8,
          2,
          3,
          2,
          2,
          7,
          14,
          7,
          4,
          7,
          9,
          3,
          8,
          11,
          2,
          10,
          2,
          4,
          2,
          13,
          5,
          12,
          20,
          31,
          17,
          11,
          14,
          16,
          37,
          22,
          27,
          26,
          21,
          18,
          7,
          7,
          27,
          11,
          4,
          5,
          13,
          14,
          25,
          20,
          15,
          14,
          14,
          6,
          15,
          15,
          17,
          24,
          23,
          18,
          63,
          16,
          74,
          43,
          50,
          51,
          38,
          42,
          38,
          27,
          6,
          50,
          23,
          60,
          16,
          74,
          54,
          50,
          51,
          38,
          42,
          38,
          43,
          27,
          33,
          17,
          31,
          2,
          8,
          6,
          9,
          2,
          9,
          7,
          4,
          7,
          6,
          18,
          3,
          7,
          13,
          9,
          11,
          16,
          17,
          16,
          19,
          16,
          8,
          7,
          12,
          10,
          21,
          9,
          16,
          5,
          4,
          16,
          13,
          14,
          6,
          6,
          11,
          29,
          54,
          6,
          29,
          35,
          20,
          43,
          14,
          40,
          38,
          26,
          28,
          19,
          125,
          102,
          41,
          82,
          6,
          56,
          55,
          41,
          63,
          10,
          13,
          18,
          19
         ],
         "xaxis": "x",
         "yaxis": "y"
        },
        {
         "alignmentgroup": "True",
         "boxpoints": "all",
         "fillcolor": "rgba(255,255,255,0)",
         "hoveron": "points",
         "hovertemplate": "0=%{x}<extra></extra>",
         "jitter": 0,
         "legendgroup": "",
         "line": {
          "color": "rgba(255,255,255,0)"
         },
         "marker": {
          "color": "#636efa",
          "symbol": "line-ns-open"
         },
         "name": "",
         "offsetgroup": "",
         "showlegend": false,
         "type": "box",
         "x": [
          14,
          54,
          31,
          19,
          19,
          4,
          80,
          137,
          80,
          141,
          73,
          44,
          6,
          4,
          64,
          30,
          15,
          33,
          38,
          30,
          59,
          87,
          25,
          20,
          39,
          145,
          43,
          80,
          28,
          34,
          53,
          79,
          191,
          57,
          44,
          68,
          71,
          75,
          33,
          29,
          57,
          40,
          57,
          11,
          68,
          14,
          61,
          109,
          15,
          19,
          31,
          130,
          20,
          106,
          17,
          156,
          22,
          362,
          53,
          51,
          54,
          35,
          31,
          15,
          83,
          57,
          83,
          39,
          63,
          198,
          33,
          78,
          23,
          56,
          28,
          60,
          58,
          25,
          10,
          56,
          22,
          31,
          15,
          14,
          11,
          10,
          18,
          36,
          44,
          17,
          42,
          37,
          143,
          22,
          8,
          27,
          38,
          63,
          25,
          34,
          10,
          194,
          57,
          68,
          54,
          133,
          50,
          24,
          17,
          24,
          18,
          17,
          43,
          20,
          10,
          23,
          80,
          13,
          31,
          61,
          107,
          34,
          28,
          6,
          47,
          69,
          99,
          65,
          55,
          30,
          75,
          31,
          58,
          123,
          50,
          28,
          80,
          21,
          4,
          7,
          69,
          179,
          5,
          46,
          257,
          132,
          56,
          19,
          35,
          17,
          1,
          21,
          1,
          49,
          1,
          21,
          36,
          19,
          19,
          1,
          19,
          17,
          12,
          19,
          1,
          5,
          5,
          5,
          14,
          25,
          17,
          1,
          9,
          3,
          1,
          6,
          15,
          14,
          13,
          18,
          13,
          1,
          6,
          18,
          19,
          1,
          7,
          11,
          1,
          4,
          7,
          11,
          20,
          10,
          8,
          14,
          6,
          6,
          8,
          7,
          7,
          10,
          7,
          3,
          7,
          4,
          5,
          6,
          3,
          11,
          7,
          4,
          7,
          14,
          6,
          8,
          8,
          3,
          10,
          9,
          11,
          2,
          6,
          8,
          6,
          14,
          9,
          7,
          10,
          22,
          13,
          19,
          6,
          6,
          6,
          12,
          9,
          6,
          6,
          10,
          3,
          3,
          7,
          6,
          4,
          8,
          1,
          93,
          14,
          28,
          59,
          40,
          33,
          20,
          30,
          16,
          66,
          7,
          15,
          37,
          26,
          23,
          27,
          8,
          24,
          7,
          9,
          4,
          17,
          24,
          8,
          10,
          88,
          34,
          30,
          9,
          50,
          61,
          12,
          19,
          10,
          14,
          14,
          26,
          6,
          11,
          10,
          12,
          5,
          6,
          18,
          1,
          5,
          25,
          38,
          23,
          18,
          1,
          23,
          24,
          5,
          11,
          13,
          3,
          6,
          32,
          7,
          15,
          4,
          8,
          7,
          9,
          5,
          8,
          13,
          10,
          6,
          11,
          7,
          2,
          11,
          12,
          11,
          10,
          3,
          11,
          14,
          13,
          16,
          13,
          11,
          10,
          21,
          22,
          12,
          21,
          19,
          21,
          16,
          76,
          8,
          8,
          1,
          12,
          13,
          3,
          4,
          2,
          6,
          12,
          12,
          6,
          12,
          8,
          1,
          14,
          9,
          18,
          1,
          7,
          28,
          9,
          18,
          33,
          23,
          25,
          7,
          21,
          19,
          18,
          21,
          10,
          18,
          4,
          13,
          9,
          27,
          12,
          17,
          16,
          10,
          14,
          10,
          13,
          3,
          20,
          9,
          7,
          15,
          11,
          14,
          11,
          5,
          4,
          13,
          5,
          6,
          17,
          19,
          19,
          13,
          28,
          14,
          38,
          34,
          11,
          8,
          16,
          8,
          7,
          30,
          6,
          18,
          9,
          16,
          14,
          12,
          9,
          13,
          6,
          9,
          15,
          11,
          9,
          8,
          11,
          15,
          2,
          6,
          12,
          3,
          32,
          2,
          8,
          14,
          9,
          2,
          10,
          14,
          27,
          18,
          19,
          10,
          25,
          70,
          75,
          53,
          104,
          5,
          7,
          6,
          2,
          2,
          60,
          72,
          111,
          88,
          11,
          92,
          34,
          14,
          11,
          181,
          6,
          19,
          12,
          21,
          11,
          5,
          35,
          8,
          18,
          3,
          6,
          4,
          4,
          4,
          5,
          12,
          6,
          17,
          11,
          20,
          7,
          17,
          16,
          7,
          49,
          7,
          27,
          11,
          43,
          12,
          14,
          12,
          49,
          3,
          17,
          13,
          11,
          5,
          13,
          8,
          24,
          8,
          8,
          7,
          6,
          10,
          15,
          22,
          9,
          35,
          5,
          11,
          11,
          11,
          22,
          10,
          5,
          16,
          9,
          7,
          21,
          16,
          13,
          11,
          11,
          11,
          126,
          10,
          30,
          51,
          36,
          11,
          25,
          1,
          8,
          18,
          4,
          14,
          22,
          16,
          4,
          16,
          19,
          6,
          13,
          3,
          6,
          17,
          3,
          9,
          9,
          14,
          3,
          22,
          10,
          11,
          3,
          20,
          19,
          5,
          9,
          7,
          15,
          13,
          15,
          3,
          23,
          19,
          13,
          13,
          1,
          6,
          9,
          21,
          11,
          8,
          15,
          16,
          18,
          18,
          26,
          7,
          5,
          13,
          8,
          15,
          13,
          5,
          8,
          19,
          19,
          15,
          3,
          6,
          17,
          21,
          15,
          11,
          13,
          14,
          6,
          11,
          13,
          3,
          14,
          8,
          11,
          16,
          14,
          9,
          10,
          9,
          9,
          13,
          3,
          4,
          7,
          7,
          4,
          8,
          2,
          4,
          10,
          7,
          6,
          2,
          8,
          10,
          4,
          8,
          5,
          8,
          2,
          3,
          2,
          2,
          7,
          14,
          7,
          4,
          7,
          9,
          3,
          8,
          11,
          2,
          10,
          2,
          4,
          2,
          13,
          5,
          12,
          20,
          31,
          17,
          11,
          14,
          16,
          37,
          22,
          27,
          26,
          21,
          18,
          7,
          7,
          27,
          11,
          4,
          5,
          13,
          14,
          25,
          20,
          15,
          14,
          14,
          6,
          15,
          15,
          17,
          24,
          23,
          18,
          63,
          16,
          74,
          43,
          50,
          51,
          38,
          42,
          38,
          27,
          6,
          50,
          23,
          60,
          16,
          74,
          54,
          50,
          51,
          38,
          42,
          38,
          43,
          27,
          33,
          17,
          31,
          2,
          8,
          6,
          9,
          2,
          9,
          7,
          4,
          7,
          6,
          18,
          3,
          7,
          13,
          9,
          11,
          16,
          17,
          16,
          19,
          16,
          8,
          7,
          12,
          10,
          21,
          9,
          16,
          5,
          4,
          16,
          13,
          14,
          6,
          6,
          11,
          29,
          54,
          6,
          29,
          35,
          20,
          43,
          14,
          40,
          38,
          26,
          28,
          19,
          125,
          102,
          41,
          82,
          6,
          56,
          55,
          41,
          63,
          10,
          13,
          18,
          19
         ],
         "xaxis": "x2",
         "yaxis": "y2"
        }
       ],
       "layout": {
        "barmode": "relative",
        "legend": {
         "tracegroupgap": 0
        },
        "margin": {
         "t": 60
        },
        "paper_bgcolor": "rgb(500,500,500)",
        "plot_bgcolor": "rgb(250,250,250)",
        "template": {
         "data": {
          "bar": [
           {
            "error_x": {
             "color": "#2a3f5f"
            },
            "error_y": {
             "color": "#2a3f5f"
            },
            "marker": {
             "line": {
              "color": "#E5ECF6",
              "width": 0.5
             }
            },
            "type": "bar"
           }
          ],
          "barpolar": [
           {
            "marker": {
             "line": {
              "color": "#E5ECF6",
              "width": 0.5
             }
            },
            "type": "barpolar"
           }
          ],
          "carpet": [
           {
            "aaxis": {
             "endlinecolor": "#2a3f5f",
             "gridcolor": "white",
             "linecolor": "white",
             "minorgridcolor": "white",
             "startlinecolor": "#2a3f5f"
            },
            "baxis": {
             "endlinecolor": "#2a3f5f",
             "gridcolor": "white",
             "linecolor": "white",
             "minorgridcolor": "white",
             "startlinecolor": "#2a3f5f"
            },
            "type": "carpet"
           }
          ],
          "choropleth": [
           {
            "colorbar": {
             "outlinewidth": 0,
             "ticks": ""
            },
            "type": "choropleth"
           }
          ],
          "contour": [
           {
            "colorbar": {
             "outlinewidth": 0,
             "ticks": ""
            },
            "colorscale": [
             [
              0,
              "#0d0887"
             ],
             [
              0.1111111111111111,
              "#46039f"
             ],
             [
              0.2222222222222222,
              "#7201a8"
             ],
             [
              0.3333333333333333,
              "#9c179e"
             ],
             [
              0.4444444444444444,
              "#bd3786"
             ],
             [
              0.5555555555555556,
              "#d8576b"
             ],
             [
              0.6666666666666666,
              "#ed7953"
             ],
             [
              0.7777777777777778,
              "#fb9f3a"
             ],
             [
              0.8888888888888888,
              "#fdca26"
             ],
             [
              1,
              "#f0f921"
             ]
            ],
            "type": "contour"
           }
          ],
          "contourcarpet": [
           {
            "colorbar": {
             "outlinewidth": 0,
             "ticks": ""
            },
            "type": "contourcarpet"
           }
          ],
          "heatmap": [
           {
            "colorbar": {
             "outlinewidth": 0,
             "ticks": ""
            },
            "colorscale": [
             [
              0,
              "#0d0887"
             ],
             [
              0.1111111111111111,
              "#46039f"
             ],
             [
              0.2222222222222222,
              "#7201a8"
             ],
             [
              0.3333333333333333,
              "#9c179e"
             ],
             [
              0.4444444444444444,
              "#bd3786"
             ],
             [
              0.5555555555555556,
              "#d8576b"
             ],
             [
              0.6666666666666666,
              "#ed7953"
             ],
             [
              0.7777777777777778,
              "#fb9f3a"
             ],
             [
              0.8888888888888888,
              "#fdca26"
             ],
             [
              1,
              "#f0f921"
             ]
            ],
            "type": "heatmap"
           }
          ],
          "heatmapgl": [
           {
            "colorbar": {
             "outlinewidth": 0,
             "ticks": ""
            },
            "colorscale": [
             [
              0,
              "#0d0887"
             ],
             [
              0.1111111111111111,
              "#46039f"
             ],
             [
              0.2222222222222222,
              "#7201a8"
             ],
             [
              0.3333333333333333,
              "#9c179e"
             ],
             [
              0.4444444444444444,
              "#bd3786"
             ],
             [
              0.5555555555555556,
              "#d8576b"
             ],
             [
              0.6666666666666666,
              "#ed7953"
             ],
             [
              0.7777777777777778,
              "#fb9f3a"
             ],
             [
              0.8888888888888888,
              "#fdca26"
             ],
             [
              1,
              "#f0f921"
             ]
            ],
            "type": "heatmapgl"
           }
          ],
          "histogram": [
           {
            "marker": {
             "colorbar": {
              "outlinewidth": 0,
              "ticks": ""
             }
            },
            "type": "histogram"
           }
          ],
          "histogram2d": [
           {
            "colorbar": {
             "outlinewidth": 0,
             "ticks": ""
            },
            "colorscale": [
             [
              0,
              "#0d0887"
             ],
             [
              0.1111111111111111,
              "#46039f"
             ],
             [
              0.2222222222222222,
              "#7201a8"
             ],
             [
              0.3333333333333333,
              "#9c179e"
             ],
             [
              0.4444444444444444,
              "#bd3786"
             ],
             [
              0.5555555555555556,
              "#d8576b"
             ],
             [
              0.6666666666666666,
              "#ed7953"
             ],
             [
              0.7777777777777778,
              "#fb9f3a"
             ],
             [
              0.8888888888888888,
              "#fdca26"
             ],
             [
              1,
              "#f0f921"
             ]
            ],
            "type": "histogram2d"
           }
          ],
          "histogram2dcontour": [
           {
            "colorbar": {
             "outlinewidth": 0,
             "ticks": ""
            },
            "colorscale": [
             [
              0,
              "#0d0887"
             ],
             [
              0.1111111111111111,
              "#46039f"
             ],
             [
              0.2222222222222222,
              "#7201a8"
             ],
             [
              0.3333333333333333,
              "#9c179e"
             ],
             [
              0.4444444444444444,
              "#bd3786"
             ],
             [
              0.5555555555555556,
              "#d8576b"
             ],
             [
              0.6666666666666666,
              "#ed7953"
             ],
             [
              0.7777777777777778,
              "#fb9f3a"
             ],
             [
              0.8888888888888888,
              "#fdca26"
             ],
             [
              1,
              "#f0f921"
             ]
            ],
            "type": "histogram2dcontour"
           }
          ],
          "mesh3d": [
           {
            "colorbar": {
             "outlinewidth": 0,
             "ticks": ""
            },
            "type": "mesh3d"
           }
          ],
          "parcoords": [
           {
            "line": {
             "colorbar": {
              "outlinewidth": 0,
              "ticks": ""
             }
            },
            "type": "parcoords"
           }
          ],
          "pie": [
           {
            "automargin": true,
            "type": "pie"
           }
          ],
          "scatter": [
           {
            "marker": {
             "colorbar": {
              "outlinewidth": 0,
              "ticks": ""
             }
            },
            "type": "scatter"
           }
          ],
          "scatter3d": [
           {
            "line": {
             "colorbar": {
              "outlinewidth": 0,
              "ticks": ""
             }
            },
            "marker": {
             "colorbar": {
              "outlinewidth": 0,
              "ticks": ""
             }
            },
            "type": "scatter3d"
           }
          ],
          "scattercarpet": [
           {
            "marker": {
             "colorbar": {
              "outlinewidth": 0,
              "ticks": ""
             }
            },
            "type": "scattercarpet"
           }
          ],
          "scattergeo": [
           {
            "marker": {
             "colorbar": {
              "outlinewidth": 0,
              "ticks": ""
             }
            },
            "type": "scattergeo"
           }
          ],
          "scattergl": [
           {
            "marker": {
             "colorbar": {
              "outlinewidth": 0,
              "ticks": ""
             }
            },
            "type": "scattergl"
           }
          ],
          "scattermapbox": [
           {
            "marker": {
             "colorbar": {
              "outlinewidth": 0,
              "ticks": ""
             }
            },
            "type": "scattermapbox"
           }
          ],
          "scatterpolar": [
           {
            "marker": {
             "colorbar": {
              "outlinewidth": 0,
              "ticks": ""
             }
            },
            "type": "scatterpolar"
           }
          ],
          "scatterpolargl": [
           {
            "marker": {
             "colorbar": {
              "outlinewidth": 0,
              "ticks": ""
             }
            },
            "type": "scatterpolargl"
           }
          ],
          "scatterternary": [
           {
            "marker": {
             "colorbar": {
              "outlinewidth": 0,
              "ticks": ""
             }
            },
            "type": "scatterternary"
           }
          ],
          "surface": [
           {
            "colorbar": {
             "outlinewidth": 0,
             "ticks": ""
            },
            "colorscale": [
             [
              0,
              "#0d0887"
             ],
             [
              0.1111111111111111,
              "#46039f"
             ],
             [
              0.2222222222222222,
              "#7201a8"
             ],
             [
              0.3333333333333333,
              "#9c179e"
             ],
             [
              0.4444444444444444,
              "#bd3786"
             ],
             [
              0.5555555555555556,
              "#d8576b"
             ],
             [
              0.6666666666666666,
              "#ed7953"
             ],
             [
              0.7777777777777778,
              "#fb9f3a"
             ],
             [
              0.8888888888888888,
              "#fdca26"
             ],
             [
              1,
              "#f0f921"
             ]
            ],
            "type": "surface"
           }
          ],
          "table": [
           {
            "cells": {
             "fill": {
              "color": "#EBF0F8"
             },
             "line": {
              "color": "white"
             }
            },
            "header": {
             "fill": {
              "color": "#C8D4E3"
             },
             "line": {
              "color": "white"
             }
            },
            "type": "table"
           }
          ]
         },
         "layout": {
          "annotationdefaults": {
           "arrowcolor": "#2a3f5f",
           "arrowhead": 0,
           "arrowwidth": 1
          },
          "autotypenumbers": "strict",
          "coloraxis": {
           "colorbar": {
            "outlinewidth": 0,
            "ticks": ""
           }
          },
          "colorscale": {
           "diverging": [
            [
             0,
             "#8e0152"
            ],
            [
             0.1,
             "#c51b7d"
            ],
            [
             0.2,
             "#de77ae"
            ],
            [
             0.3,
             "#f1b6da"
            ],
            [
             0.4,
             "#fde0ef"
            ],
            [
             0.5,
             "#f7f7f7"
            ],
            [
             0.6,
             "#e6f5d0"
            ],
            [
             0.7,
             "#b8e186"
            ],
            [
             0.8,
             "#7fbc41"
            ],
            [
             0.9,
             "#4d9221"
            ],
            [
             1,
             "#276419"
            ]
           ],
           "sequential": [
            [
             0,
             "#0d0887"
            ],
            [
             0.1111111111111111,
             "#46039f"
            ],
            [
             0.2222222222222222,
             "#7201a8"
            ],
            [
             0.3333333333333333,
             "#9c179e"
            ],
            [
             0.4444444444444444,
             "#bd3786"
            ],
            [
             0.5555555555555556,
             "#d8576b"
            ],
            [
             0.6666666666666666,
             "#ed7953"
            ],
            [
             0.7777777777777778,
             "#fb9f3a"
            ],
            [
             0.8888888888888888,
             "#fdca26"
            ],
            [
             1,
             "#f0f921"
            ]
           ],
           "sequentialminus": [
            [
             0,
             "#0d0887"
            ],
            [
             0.1111111111111111,
             "#46039f"
            ],
            [
             0.2222222222222222,
             "#7201a8"
            ],
            [
             0.3333333333333333,
             "#9c179e"
            ],
            [
             0.4444444444444444,
             "#bd3786"
            ],
            [
             0.5555555555555556,
             "#d8576b"
            ],
            [
             0.6666666666666666,
             "#ed7953"
            ],
            [
             0.7777777777777778,
             "#fb9f3a"
            ],
            [
             0.8888888888888888,
             "#fdca26"
            ],
            [
             1,
             "#f0f921"
            ]
           ]
          },
          "colorway": [
           "#636efa",
           "#EF553B",
           "#00cc96",
           "#ab63fa",
           "#FFA15A",
           "#19d3f3",
           "#FF6692",
           "#B6E880",
           "#FF97FF",
           "#FECB52"
          ],
          "font": {
           "color": "#2a3f5f"
          },
          "geo": {
           "bgcolor": "white",
           "lakecolor": "white",
           "landcolor": "#E5ECF6",
           "showlakes": true,
           "showland": true,
           "subunitcolor": "white"
          },
          "hoverlabel": {
           "align": "left"
          },
          "hovermode": "closest",
          "mapbox": {
           "style": "light"
          },
          "paper_bgcolor": "white",
          "plot_bgcolor": "#E5ECF6",
          "polar": {
           "angularaxis": {
            "gridcolor": "white",
            "linecolor": "white",
            "ticks": ""
           },
           "bgcolor": "#E5ECF6",
           "radialaxis": {
            "gridcolor": "white",
            "linecolor": "white",
            "ticks": ""
           }
          },
          "scene": {
           "xaxis": {
            "backgroundcolor": "#E5ECF6",
            "gridcolor": "white",
            "gridwidth": 2,
            "linecolor": "white",
            "showbackground": true,
            "ticks": "",
            "zerolinecolor": "white"
           },
           "yaxis": {
            "backgroundcolor": "#E5ECF6",
            "gridcolor": "white",
            "gridwidth": 2,
            "linecolor": "white",
            "showbackground": true,
            "ticks": "",
            "zerolinecolor": "white"
           },
           "zaxis": {
            "backgroundcolor": "#E5ECF6",
            "gridcolor": "white",
            "gridwidth": 2,
            "linecolor": "white",
            "showbackground": true,
            "ticks": "",
            "zerolinecolor": "white"
           }
          },
          "shapedefaults": {
           "line": {
            "color": "#2a3f5f"
           }
          },
          "ternary": {
           "aaxis": {
            "gridcolor": "white",
            "linecolor": "white",
            "ticks": ""
           },
           "baxis": {
            "gridcolor": "white",
            "linecolor": "white",
            "ticks": ""
           },
           "bgcolor": "#E5ECF6",
           "caxis": {
            "gridcolor": "white",
            "linecolor": "white",
            "ticks": ""
           }
          },
          "title": {
           "x": 0.05
          },
          "xaxis": {
           "automargin": true,
           "gridcolor": "white",
           "linecolor": "white",
           "ticks": "",
           "title": {
            "standoff": 15
           },
           "zerolinecolor": "white",
           "zerolinewidth": 2
          },
          "yaxis": {
           "automargin": true,
           "gridcolor": "white",
           "linecolor": "white",
           "ticks": "",
           "title": {
            "standoff": 15
           },
           "zerolinecolor": "white",
           "zerolinewidth": 2
          }
         }
        },
        "xaxis": {
         "anchor": "y",
         "domain": [
          0,
          1
         ],
         "title": {
          "text": "0"
         }
        },
        "xaxis2": {
         "anchor": "y2",
         "domain": [
          0,
          1
         ],
         "matches": "x",
         "showgrid": true,
         "showticklabels": false
        },
        "yaxis": {
         "anchor": "x",
         "domain": [
          0,
          0.8316
         ],
         "title": {
          "text": "count"
         }
        },
        "yaxis2": {
         "anchor": "x2",
         "domain": [
          0.8416,
          1
         ],
         "matches": "y2",
         "showgrid": false,
         "showline": false,
         "showticklabels": false,
         "ticks": ""
        }
       }
      },
      "text/html": [
       "<div>                            <div id=\"5b25bd01-5456-4d0e-b433-979c0824b68f\" class=\"plotly-graph-div\" style=\"height:525px; width:100%;\"></div>            <script type=\"text/javascript\">                require([\"plotly\"], function(Plotly) {                    window.PLOTLYENV=window.PLOTLYENV || {};                                    if (document.getElementById(\"5b25bd01-5456-4d0e-b433-979c0824b68f\")) {                    Plotly.newPlot(                        \"5b25bd01-5456-4d0e-b433-979c0824b68f\",                        [{\"alignmentgroup\": \"True\", \"bingroup\": \"x\", \"hovertemplate\": \"0=%{x}<br>count=%{y}<extra></extra>\", \"legendgroup\": \"\", \"marker\": {\"color\": \"#636efa\"}, \"name\": \"\", \"offsetgroup\": \"\", \"orientation\": \"v\", \"showlegend\": false, \"type\": \"histogram\", \"x\": [14, 54, 31, 19, 19, 4, 80, 137, 80, 141, 73, 44, 6, 4, 64, 30, 15, 33, 38, 30, 59, 87, 25, 20, 39, 145, 43, 80, 28, 34, 53, 79, 191, 57, 44, 68, 71, 75, 33, 29, 57, 40, 57, 11, 68, 14, 61, 109, 15, 19, 31, 130, 20, 106, 17, 156, 22, 362, 53, 51, 54, 35, 31, 15, 83, 57, 83, 39, 63, 198, 33, 78, 23, 56, 28, 60, 58, 25, 10, 56, 22, 31, 15, 14, 11, 10, 18, 36, 44, 17, 42, 37, 143, 22, 8, 27, 38, 63, 25, 34, 10, 194, 57, 68, 54, 133, 50, 24, 17, 24, 18, 17, 43, 20, 10, 23, 80, 13, 31, 61, 107, 34, 28, 6, 47, 69, 99, 65, 55, 30, 75, 31, 58, 123, 50, 28, 80, 21, 4, 7, 69, 179, 5, 46, 257, 132, 56, 19, 35, 17, 1, 21, 1, 49, 1, 21, 36, 19, 19, 1, 19, 17, 12, 19, 1, 5, 5, 5, 14, 25, 17, 1, 9, 3, 1, 6, 15, 14, 13, 18, 13, 1, 6, 18, 19, 1, 7, 11, 1, 4, 7, 11, 20, 10, 8, 14, 6, 6, 8, 7, 7, 10, 7, 3, 7, 4, 5, 6, 3, 11, 7, 4, 7, 14, 6, 8, 8, 3, 10, 9, 11, 2, 6, 8, 6, 14, 9, 7, 10, 22, 13, 19, 6, 6, 6, 12, 9, 6, 6, 10, 3, 3, 7, 6, 4, 8, 1, 93, 14, 28, 59, 40, 33, 20, 30, 16, 66, 7, 15, 37, 26, 23, 27, 8, 24, 7, 9, 4, 17, 24, 8, 10, 88, 34, 30, 9, 50, 61, 12, 19, 10, 14, 14, 26, 6, 11, 10, 12, 5, 6, 18, 1, 5, 25, 38, 23, 18, 1, 23, 24, 5, 11, 13, 3, 6, 32, 7, 15, 4, 8, 7, 9, 5, 8, 13, 10, 6, 11, 7, 2, 11, 12, 11, 10, 3, 11, 14, 13, 16, 13, 11, 10, 21, 22, 12, 21, 19, 21, 16, 76, 8, 8, 1, 12, 13, 3, 4, 2, 6, 12, 12, 6, 12, 8, 1, 14, 9, 18, 1, 7, 28, 9, 18, 33, 23, 25, 7, 21, 19, 18, 21, 10, 18, 4, 13, 9, 27, 12, 17, 16, 10, 14, 10, 13, 3, 20, 9, 7, 15, 11, 14, 11, 5, 4, 13, 5, 6, 17, 19, 19, 13, 28, 14, 38, 34, 11, 8, 16, 8, 7, 30, 6, 18, 9, 16, 14, 12, 9, 13, 6, 9, 15, 11, 9, 8, 11, 15, 2, 6, 12, 3, 32, 2, 8, 14, 9, 2, 10, 14, 27, 18, 19, 10, 25, 70, 75, 53, 104, 5, 7, 6, 2, 2, 60, 72, 111, 88, 11, 92, 34, 14, 11, 181, 6, 19, 12, 21, 11, 5, 35, 8, 18, 3, 6, 4, 4, 4, 5, 12, 6, 17, 11, 20, 7, 17, 16, 7, 49, 7, 27, 11, 43, 12, 14, 12, 49, 3, 17, 13, 11, 5, 13, 8, 24, 8, 8, 7, 6, 10, 15, 22, 9, 35, 5, 11, 11, 11, 22, 10, 5, 16, 9, 7, 21, 16, 13, 11, 11, 11, 126, 10, 30, 51, 36, 11, 25, 1, 8, 18, 4, 14, 22, 16, 4, 16, 19, 6, 13, 3, 6, 17, 3, 9, 9, 14, 3, 22, 10, 11, 3, 20, 19, 5, 9, 7, 15, 13, 15, 3, 23, 19, 13, 13, 1, 6, 9, 21, 11, 8, 15, 16, 18, 18, 26, 7, 5, 13, 8, 15, 13, 5, 8, 19, 19, 15, 3, 6, 17, 21, 15, 11, 13, 14, 6, 11, 13, 3, 14, 8, 11, 16, 14, 9, 10, 9, 9, 13, 3, 4, 7, 7, 4, 8, 2, 4, 10, 7, 6, 2, 8, 10, 4, 8, 5, 8, 2, 3, 2, 2, 7, 14, 7, 4, 7, 9, 3, 8, 11, 2, 10, 2, 4, 2, 13, 5, 12, 20, 31, 17, 11, 14, 16, 37, 22, 27, 26, 21, 18, 7, 7, 27, 11, 4, 5, 13, 14, 25, 20, 15, 14, 14, 6, 15, 15, 17, 24, 23, 18, 63, 16, 74, 43, 50, 51, 38, 42, 38, 27, 6, 50, 23, 60, 16, 74, 54, 50, 51, 38, 42, 38, 43, 27, 33, 17, 31, 2, 8, 6, 9, 2, 9, 7, 4, 7, 6, 18, 3, 7, 13, 9, 11, 16, 17, 16, 19, 16, 8, 7, 12, 10, 21, 9, 16, 5, 4, 16, 13, 14, 6, 6, 11, 29, 54, 6, 29, 35, 20, 43, 14, 40, 38, 26, 28, 19, 125, 102, 41, 82, 6, 56, 55, 41, 63, 10, 13, 18, 19], \"xaxis\": \"x\", \"yaxis\": \"y\"}, {\"alignmentgroup\": \"True\", \"boxpoints\": \"all\", \"fillcolor\": \"rgba(255,255,255,0)\", \"hoveron\": \"points\", \"hovertemplate\": \"0=%{x}<extra></extra>\", \"jitter\": 0, \"legendgroup\": \"\", \"line\": {\"color\": \"rgba(255,255,255,0)\"}, \"marker\": {\"color\": \"#636efa\", \"symbol\": \"line-ns-open\"}, \"name\": \"\", \"offsetgroup\": \"\", \"showlegend\": false, \"type\": \"box\", \"x\": [14, 54, 31, 19, 19, 4, 80, 137, 80, 141, 73, 44, 6, 4, 64, 30, 15, 33, 38, 30, 59, 87, 25, 20, 39, 145, 43, 80, 28, 34, 53, 79, 191, 57, 44, 68, 71, 75, 33, 29, 57, 40, 57, 11, 68, 14, 61, 109, 15, 19, 31, 130, 20, 106, 17, 156, 22, 362, 53, 51, 54, 35, 31, 15, 83, 57, 83, 39, 63, 198, 33, 78, 23, 56, 28, 60, 58, 25, 10, 56, 22, 31, 15, 14, 11, 10, 18, 36, 44, 17, 42, 37, 143, 22, 8, 27, 38, 63, 25, 34, 10, 194, 57, 68, 54, 133, 50, 24, 17, 24, 18, 17, 43, 20, 10, 23, 80, 13, 31, 61, 107, 34, 28, 6, 47, 69, 99, 65, 55, 30, 75, 31, 58, 123, 50, 28, 80, 21, 4, 7, 69, 179, 5, 46, 257, 132, 56, 19, 35, 17, 1, 21, 1, 49, 1, 21, 36, 19, 19, 1, 19, 17, 12, 19, 1, 5, 5, 5, 14, 25, 17, 1, 9, 3, 1, 6, 15, 14, 13, 18, 13, 1, 6, 18, 19, 1, 7, 11, 1, 4, 7, 11, 20, 10, 8, 14, 6, 6, 8, 7, 7, 10, 7, 3, 7, 4, 5, 6, 3, 11, 7, 4, 7, 14, 6, 8, 8, 3, 10, 9, 11, 2, 6, 8, 6, 14, 9, 7, 10, 22, 13, 19, 6, 6, 6, 12, 9, 6, 6, 10, 3, 3, 7, 6, 4, 8, 1, 93, 14, 28, 59, 40, 33, 20, 30, 16, 66, 7, 15, 37, 26, 23, 27, 8, 24, 7, 9, 4, 17, 24, 8, 10, 88, 34, 30, 9, 50, 61, 12, 19, 10, 14, 14, 26, 6, 11, 10, 12, 5, 6, 18, 1, 5, 25, 38, 23, 18, 1, 23, 24, 5, 11, 13, 3, 6, 32, 7, 15, 4, 8, 7, 9, 5, 8, 13, 10, 6, 11, 7, 2, 11, 12, 11, 10, 3, 11, 14, 13, 16, 13, 11, 10, 21, 22, 12, 21, 19, 21, 16, 76, 8, 8, 1, 12, 13, 3, 4, 2, 6, 12, 12, 6, 12, 8, 1, 14, 9, 18, 1, 7, 28, 9, 18, 33, 23, 25, 7, 21, 19, 18, 21, 10, 18, 4, 13, 9, 27, 12, 17, 16, 10, 14, 10, 13, 3, 20, 9, 7, 15, 11, 14, 11, 5, 4, 13, 5, 6, 17, 19, 19, 13, 28, 14, 38, 34, 11, 8, 16, 8, 7, 30, 6, 18, 9, 16, 14, 12, 9, 13, 6, 9, 15, 11, 9, 8, 11, 15, 2, 6, 12, 3, 32, 2, 8, 14, 9, 2, 10, 14, 27, 18, 19, 10, 25, 70, 75, 53, 104, 5, 7, 6, 2, 2, 60, 72, 111, 88, 11, 92, 34, 14, 11, 181, 6, 19, 12, 21, 11, 5, 35, 8, 18, 3, 6, 4, 4, 4, 5, 12, 6, 17, 11, 20, 7, 17, 16, 7, 49, 7, 27, 11, 43, 12, 14, 12, 49, 3, 17, 13, 11, 5, 13, 8, 24, 8, 8, 7, 6, 10, 15, 22, 9, 35, 5, 11, 11, 11, 22, 10, 5, 16, 9, 7, 21, 16, 13, 11, 11, 11, 126, 10, 30, 51, 36, 11, 25, 1, 8, 18, 4, 14, 22, 16, 4, 16, 19, 6, 13, 3, 6, 17, 3, 9, 9, 14, 3, 22, 10, 11, 3, 20, 19, 5, 9, 7, 15, 13, 15, 3, 23, 19, 13, 13, 1, 6, 9, 21, 11, 8, 15, 16, 18, 18, 26, 7, 5, 13, 8, 15, 13, 5, 8, 19, 19, 15, 3, 6, 17, 21, 15, 11, 13, 14, 6, 11, 13, 3, 14, 8, 11, 16, 14, 9, 10, 9, 9, 13, 3, 4, 7, 7, 4, 8, 2, 4, 10, 7, 6, 2, 8, 10, 4, 8, 5, 8, 2, 3, 2, 2, 7, 14, 7, 4, 7, 9, 3, 8, 11, 2, 10, 2, 4, 2, 13, 5, 12, 20, 31, 17, 11, 14, 16, 37, 22, 27, 26, 21, 18, 7, 7, 27, 11, 4, 5, 13, 14, 25, 20, 15, 14, 14, 6, 15, 15, 17, 24, 23, 18, 63, 16, 74, 43, 50, 51, 38, 42, 38, 27, 6, 50, 23, 60, 16, 74, 54, 50, 51, 38, 42, 38, 43, 27, 33, 17, 31, 2, 8, 6, 9, 2, 9, 7, 4, 7, 6, 18, 3, 7, 13, 9, 11, 16, 17, 16, 19, 16, 8, 7, 12, 10, 21, 9, 16, 5, 4, 16, 13, 14, 6, 6, 11, 29, 54, 6, 29, 35, 20, 43, 14, 40, 38, 26, 28, 19, 125, 102, 41, 82, 6, 56, 55, 41, 63, 10, 13, 18, 19], \"xaxis\": \"x2\", \"yaxis\": \"y2\"}],                        {\"barmode\": \"relative\", \"legend\": {\"tracegroupgap\": 0}, \"margin\": {\"t\": 60}, \"paper_bgcolor\": \"rgb(500,500,500)\", \"plot_bgcolor\": \"rgb(250,250,250)\", \"template\": {\"data\": {\"bar\": [{\"error_x\": {\"color\": \"#2a3f5f\"}, \"error_y\": {\"color\": \"#2a3f5f\"}, \"marker\": {\"line\": {\"color\": \"#E5ECF6\", \"width\": 0.5}}, \"type\": \"bar\"}], \"barpolar\": [{\"marker\": {\"line\": {\"color\": \"#E5ECF6\", \"width\": 0.5}}, \"type\": \"barpolar\"}], \"carpet\": [{\"aaxis\": {\"endlinecolor\": \"#2a3f5f\", \"gridcolor\": \"white\", \"linecolor\": \"white\", \"minorgridcolor\": \"white\", \"startlinecolor\": \"#2a3f5f\"}, \"baxis\": {\"endlinecolor\": \"#2a3f5f\", \"gridcolor\": \"white\", \"linecolor\": \"white\", \"minorgridcolor\": \"white\", \"startlinecolor\": \"#2a3f5f\"}, \"type\": \"carpet\"}], \"choropleth\": [{\"colorbar\": {\"outlinewidth\": 0, \"ticks\": \"\"}, \"type\": \"choropleth\"}], \"contour\": [{\"colorbar\": {\"outlinewidth\": 0, \"ticks\": \"\"}, \"colorscale\": [[0.0, \"#0d0887\"], [0.1111111111111111, \"#46039f\"], [0.2222222222222222, \"#7201a8\"], [0.3333333333333333, \"#9c179e\"], [0.4444444444444444, \"#bd3786\"], [0.5555555555555556, \"#d8576b\"], [0.6666666666666666, \"#ed7953\"], [0.7777777777777778, \"#fb9f3a\"], [0.8888888888888888, \"#fdca26\"], [1.0, \"#f0f921\"]], \"type\": \"contour\"}], \"contourcarpet\": [{\"colorbar\": {\"outlinewidth\": 0, \"ticks\": \"\"}, \"type\": \"contourcarpet\"}], \"heatmap\": [{\"colorbar\": {\"outlinewidth\": 0, \"ticks\": \"\"}, \"colorscale\": [[0.0, \"#0d0887\"], [0.1111111111111111, \"#46039f\"], [0.2222222222222222, \"#7201a8\"], [0.3333333333333333, \"#9c179e\"], [0.4444444444444444, \"#bd3786\"], [0.5555555555555556, \"#d8576b\"], [0.6666666666666666, \"#ed7953\"], [0.7777777777777778, \"#fb9f3a\"], [0.8888888888888888, \"#fdca26\"], [1.0, \"#f0f921\"]], \"type\": \"heatmap\"}], \"heatmapgl\": [{\"colorbar\": {\"outlinewidth\": 0, \"ticks\": \"\"}, \"colorscale\": [[0.0, \"#0d0887\"], [0.1111111111111111, \"#46039f\"], [0.2222222222222222, \"#7201a8\"], [0.3333333333333333, \"#9c179e\"], [0.4444444444444444, \"#bd3786\"], [0.5555555555555556, \"#d8576b\"], [0.6666666666666666, \"#ed7953\"], [0.7777777777777778, \"#fb9f3a\"], [0.8888888888888888, \"#fdca26\"], [1.0, \"#f0f921\"]], \"type\": \"heatmapgl\"}], \"histogram\": [{\"marker\": {\"colorbar\": {\"outlinewidth\": 0, \"ticks\": \"\"}}, \"type\": \"histogram\"}], \"histogram2d\": [{\"colorbar\": {\"outlinewidth\": 0, \"ticks\": \"\"}, \"colorscale\": [[0.0, \"#0d0887\"], [0.1111111111111111, \"#46039f\"], [0.2222222222222222, \"#7201a8\"], [0.3333333333333333, \"#9c179e\"], [0.4444444444444444, \"#bd3786\"], [0.5555555555555556, \"#d8576b\"], [0.6666666666666666, \"#ed7953\"], [0.7777777777777778, \"#fb9f3a\"], [0.8888888888888888, \"#fdca26\"], [1.0, \"#f0f921\"]], \"type\": \"histogram2d\"}], \"histogram2dcontour\": [{\"colorbar\": {\"outlinewidth\": 0, \"ticks\": \"\"}, \"colorscale\": [[0.0, \"#0d0887\"], [0.1111111111111111, \"#46039f\"], [0.2222222222222222, \"#7201a8\"], [0.3333333333333333, \"#9c179e\"], [0.4444444444444444, \"#bd3786\"], [0.5555555555555556, \"#d8576b\"], [0.6666666666666666, \"#ed7953\"], [0.7777777777777778, \"#fb9f3a\"], [0.8888888888888888, \"#fdca26\"], [1.0, \"#f0f921\"]], \"type\": \"histogram2dcontour\"}], \"mesh3d\": [{\"colorbar\": {\"outlinewidth\": 0, \"ticks\": \"\"}, \"type\": \"mesh3d\"}], \"parcoords\": [{\"line\": {\"colorbar\": {\"outlinewidth\": 0, \"ticks\": \"\"}}, \"type\": \"parcoords\"}], \"pie\": [{\"automargin\": true, \"type\": \"pie\"}], \"scatter\": [{\"marker\": {\"colorbar\": {\"outlinewidth\": 0, \"ticks\": \"\"}}, \"type\": \"scatter\"}], \"scatter3d\": [{\"line\": {\"colorbar\": {\"outlinewidth\": 0, \"ticks\": \"\"}}, \"marker\": {\"colorbar\": {\"outlinewidth\": 0, \"ticks\": \"\"}}, \"type\": \"scatter3d\"}], \"scattercarpet\": [{\"marker\": {\"colorbar\": {\"outlinewidth\": 0, \"ticks\": \"\"}}, \"type\": \"scattercarpet\"}], \"scattergeo\": [{\"marker\": {\"colorbar\": {\"outlinewidth\": 0, \"ticks\": \"\"}}, \"type\": \"scattergeo\"}], \"scattergl\": [{\"marker\": {\"colorbar\": {\"outlinewidth\": 0, \"ticks\": \"\"}}, \"type\": \"scattergl\"}], \"scattermapbox\": [{\"marker\": {\"colorbar\": {\"outlinewidth\": 0, \"ticks\": \"\"}}, \"type\": \"scattermapbox\"}], \"scatterpolar\": [{\"marker\": {\"colorbar\": {\"outlinewidth\": 0, \"ticks\": \"\"}}, \"type\": \"scatterpolar\"}], \"scatterpolargl\": [{\"marker\": {\"colorbar\": {\"outlinewidth\": 0, \"ticks\": \"\"}}, \"type\": \"scatterpolargl\"}], \"scatterternary\": [{\"marker\": {\"colorbar\": {\"outlinewidth\": 0, \"ticks\": \"\"}}, \"type\": \"scatterternary\"}], \"surface\": [{\"colorbar\": {\"outlinewidth\": 0, \"ticks\": \"\"}, \"colorscale\": [[0.0, \"#0d0887\"], [0.1111111111111111, \"#46039f\"], [0.2222222222222222, \"#7201a8\"], [0.3333333333333333, \"#9c179e\"], [0.4444444444444444, \"#bd3786\"], [0.5555555555555556, \"#d8576b\"], [0.6666666666666666, \"#ed7953\"], [0.7777777777777778, \"#fb9f3a\"], [0.8888888888888888, \"#fdca26\"], [1.0, \"#f0f921\"]], \"type\": \"surface\"}], \"table\": [{\"cells\": {\"fill\": {\"color\": \"#EBF0F8\"}, \"line\": {\"color\": \"white\"}}, \"header\": {\"fill\": {\"color\": \"#C8D4E3\"}, \"line\": {\"color\": \"white\"}}, \"type\": \"table\"}]}, \"layout\": {\"annotationdefaults\": {\"arrowcolor\": \"#2a3f5f\", \"arrowhead\": 0, \"arrowwidth\": 1}, \"autotypenumbers\": \"strict\", \"coloraxis\": {\"colorbar\": {\"outlinewidth\": 0, \"ticks\": \"\"}}, \"colorscale\": {\"diverging\": [[0, \"#8e0152\"], [0.1, \"#c51b7d\"], [0.2, \"#de77ae\"], [0.3, \"#f1b6da\"], [0.4, \"#fde0ef\"], [0.5, \"#f7f7f7\"], [0.6, \"#e6f5d0\"], [0.7, \"#b8e186\"], [0.8, \"#7fbc41\"], [0.9, \"#4d9221\"], [1, \"#276419\"]], \"sequential\": [[0.0, \"#0d0887\"], [0.1111111111111111, \"#46039f\"], [0.2222222222222222, \"#7201a8\"], [0.3333333333333333, \"#9c179e\"], [0.4444444444444444, \"#bd3786\"], [0.5555555555555556, \"#d8576b\"], [0.6666666666666666, \"#ed7953\"], [0.7777777777777778, \"#fb9f3a\"], [0.8888888888888888, \"#fdca26\"], [1.0, \"#f0f921\"]], \"sequentialminus\": [[0.0, \"#0d0887\"], [0.1111111111111111, \"#46039f\"], [0.2222222222222222, \"#7201a8\"], [0.3333333333333333, \"#9c179e\"], [0.4444444444444444, \"#bd3786\"], [0.5555555555555556, \"#d8576b\"], [0.6666666666666666, \"#ed7953\"], [0.7777777777777778, \"#fb9f3a\"], [0.8888888888888888, \"#fdca26\"], [1.0, \"#f0f921\"]]}, \"colorway\": [\"#636efa\", \"#EF553B\", \"#00cc96\", \"#ab63fa\", \"#FFA15A\", \"#19d3f3\", \"#FF6692\", \"#B6E880\", \"#FF97FF\", \"#FECB52\"], \"font\": {\"color\": \"#2a3f5f\"}, \"geo\": {\"bgcolor\": \"white\", \"lakecolor\": \"white\", \"landcolor\": \"#E5ECF6\", \"showlakes\": true, \"showland\": true, \"subunitcolor\": \"white\"}, \"hoverlabel\": {\"align\": \"left\"}, \"hovermode\": \"closest\", \"mapbox\": {\"style\": \"light\"}, \"paper_bgcolor\": \"white\", \"plot_bgcolor\": \"#E5ECF6\", \"polar\": {\"angularaxis\": {\"gridcolor\": \"white\", \"linecolor\": \"white\", \"ticks\": \"\"}, \"bgcolor\": \"#E5ECF6\", \"radialaxis\": {\"gridcolor\": \"white\", \"linecolor\": \"white\", \"ticks\": \"\"}}, \"scene\": {\"xaxis\": {\"backgroundcolor\": \"#E5ECF6\", \"gridcolor\": \"white\", \"gridwidth\": 2, \"linecolor\": \"white\", \"showbackground\": true, \"ticks\": \"\", \"zerolinecolor\": \"white\"}, \"yaxis\": {\"backgroundcolor\": \"#E5ECF6\", \"gridcolor\": \"white\", \"gridwidth\": 2, \"linecolor\": \"white\", \"showbackground\": true, \"ticks\": \"\", \"zerolinecolor\": \"white\"}, \"zaxis\": {\"backgroundcolor\": \"#E5ECF6\", \"gridcolor\": \"white\", \"gridwidth\": 2, \"linecolor\": \"white\", \"showbackground\": true, \"ticks\": \"\", \"zerolinecolor\": \"white\"}}, \"shapedefaults\": {\"line\": {\"color\": \"#2a3f5f\"}}, \"ternary\": {\"aaxis\": {\"gridcolor\": \"white\", \"linecolor\": \"white\", \"ticks\": \"\"}, \"baxis\": {\"gridcolor\": \"white\", \"linecolor\": \"white\", \"ticks\": \"\"}, \"bgcolor\": \"#E5ECF6\", \"caxis\": {\"gridcolor\": \"white\", \"linecolor\": \"white\", \"ticks\": \"\"}}, \"title\": {\"x\": 0.05}, \"xaxis\": {\"automargin\": true, \"gridcolor\": \"white\", \"linecolor\": \"white\", \"ticks\": \"\", \"title\": {\"standoff\": 15}, \"zerolinecolor\": \"white\", \"zerolinewidth\": 2}, \"yaxis\": {\"automargin\": true, \"gridcolor\": \"white\", \"linecolor\": \"white\", \"ticks\": \"\", \"title\": {\"standoff\": 15}, \"zerolinecolor\": \"white\", \"zerolinewidth\": 2}}}, \"xaxis\": {\"anchor\": \"y\", \"domain\": [0.0, 1.0], \"title\": {\"text\": \"0\"}}, \"xaxis2\": {\"anchor\": \"y2\", \"domain\": [0.0, 1.0], \"matches\": \"x\", \"showgrid\": true, \"showticklabels\": false}, \"yaxis\": {\"anchor\": \"x\", \"domain\": [0.0, 0.8316], \"title\": {\"text\": \"count\"}}, \"yaxis2\": {\"anchor\": \"x2\", \"domain\": [0.8416, 1.0], \"matches\": \"y2\", \"showgrid\": false, \"showline\": false, \"showticklabels\": false, \"ticks\": \"\"}},                        {\"responsive\": true}                    ).then(function(){\n",
       "                            \n",
       "var gd = document.getElementById('5b25bd01-5456-4d0e-b433-979c0824b68f');\n",
       "var x = new MutationObserver(function (mutations, observer) {{\n",
       "        var display = window.getComputedStyle(gd).display;\n",
       "        if (!display || display === 'none') {{\n",
       "            console.log([gd, 'removed!']);\n",
       "            Plotly.purge(gd);\n",
       "            observer.disconnect();\n",
       "        }}\n",
       "}});\n",
       "\n",
       "// Listen for the removal of the full notebook cells\n",
       "var notebookContainer = gd.closest('#notebook-container');\n",
       "if (notebookContainer) {{\n",
       "    x.observe(notebookContainer, {childList: true});\n",
       "}}\n",
       "\n",
       "// Listen for the clearing of the current output cell\n",
       "var outputEl = gd.closest('.output');\n",
       "if (outputEl) {{\n",
       "    x.observe(outputEl, {childList: true});\n",
       "}}\n",
       "\n",
       "                        })                };                });            </script>        </div>"
      ]
     },
     "metadata": {},
     "output_type": "display_data"
    }
   ],
   "source": [
    "a = pd.DataFrame([len(s) for s in tagged_sentences])\n",
    "fig = px.histogram(a, x=0, marginal=\"rug\")\n",
    "fig.update_layout(\n",
    "\n",
    "    paper_bgcolor='rgb(500,500,500)',\n",
    "    plot_bgcolor='rgb(250,250,250)',\n",
    ")\n",
    "fig.show()"
   ]
  },
  {
   "cell_type": "code",
   "execution_count": 36,
   "metadata": {},
   "outputs": [],
   "source": [
    "src_tokenizer = Tokenizer(oov_token='OOV') # 모든 단어를 사용하지만 인덱스 1에는 단어 'OOV'를 할당한다.\n",
    "src_tokenizer.fit_on_texts(sentences)\n",
    "tar_tokenizer = Tokenizer(lower=False) # 태깅 정보들은 내부적으로 대문자를 유지한채로 저장\n",
    "tar_tokenizer.fit_on_texts(ner_tags)"
   ]
  },
  {
   "cell_type": "code",
   "execution_count": 37,
   "metadata": {},
   "outputs": [
    {
     "name": "stdout",
     "output_type": "stream",
     "text": [
      "단어 집합의 크기 : 2727\n",
      "개체명 태깅 정보 집합의 크기 : 33\n"
     ]
    }
   ],
   "source": [
    "vocab_size = len(src_tokenizer.word_index) + 1\n",
    "tag_size = len(tar_tokenizer.word_index) + 1\n",
    "print('단어 집합의 크기 : {}'.format(vocab_size))\n",
    "print('개체명 태깅 정보 집합의 크기 : {}'.format(tag_size))"
   ]
  },
  {
   "cell_type": "code",
   "execution_count": 38,
   "metadata": {},
   "outputs": [],
   "source": [
    "X = src_tokenizer.texts_to_sequences(sentences)\n",
    "y= tar_tokenizer.texts_to_sequences(ner_tags)\n",
    "word_to_index = src_tokenizer.word_index\n",
    "index_to_word = src_tokenizer.index_word\n",
    "ner_to_index = tar_tokenizer.word_index\n",
    "index_to_ner = tar_tokenizer.index_word\n",
    "index_to_ner[0] = 'PAD'"
   ]
  },
  {
   "cell_type": "code",
   "execution_count": 39,
   "metadata": {},
   "outputs": [
    {
     "name": "stdout",
     "output_type": "stream",
     "text": [
      "기존 문장 : ['《', '인트', '로', '》']\n",
      "디코딩 문장 : ['《', '인트', '로', '》']\n"
     ]
    }
   ],
   "source": [
    "decoded = []\n",
    "for index in X[5] : # 첫번째 샘플 안의 인덱스들에 대해서\n",
    "    decoded.append(index_to_word[index]) # 다시 단어로 변환\n",
    "\n",
    "print('기존 문장 : {}'.format(sentences[5]))\n",
    "print('디코딩 문장 : {}'.format(decoded))"
   ]
  },
  {
   "cell_type": "code",
   "execution_count": 40,
   "metadata": {},
   "outputs": [],
   "source": [
    "max_len = 70\n",
    "# 모든 샘플들의 길이를 맞출 때 뒤의 공간에 숫자 0으로 채움.\n",
    "X = pad_sequences(X, padding='post', maxlen=max_len)\n",
    "y = pad_sequences(y, padding='post', maxlen=max_len)"
   ]
  },
  {
   "cell_type": "code",
   "execution_count": 105,
   "metadata": {},
   "outputs": [
    {
     "data": {
      "text/plain": [
       "array([1, 1, 3, 1, 1, 1, 1, 1, 1, 1, 1, 1, 1, 1, 0, 0, 0, 0, 0, 0, 0, 0,\n",
       "       0, 0, 0, 0, 0, 0, 0, 0, 0, 0, 0, 0, 0, 0, 0, 0, 0, 0, 0, 0, 0, 0,\n",
       "       0, 0, 0, 0, 0, 0, 0, 0, 0, 0, 0, 0, 0, 0, 0, 0, 0, 0, 0, 0, 0, 0,\n",
       "       0, 0, 0, 0])"
      ]
     },
     "execution_count": 105,
     "metadata": {},
     "output_type": "execute_result"
    }
   ],
   "source": [
    "y[0]"
   ]
  },
  {
   "cell_type": "code",
   "execution_count": 106,
   "metadata": {},
   "outputs": [
    {
     "data": {
      "text/plain": [
       "array([16, 22,  1,  1,  1,  1,  1,  2,  4,  1,  1,  1,  1,  1,  1,  1,  1,\n",
       "        1,  1,  0,  0,  0,  0,  0,  0,  0,  0,  0,  0,  0,  0,  0,  0,  0,\n",
       "        0,  0,  0,  0,  0,  0,  0,  0,  0,  0,  0,  0,  0,  0,  0,  0,  0,\n",
       "        0,  0,  0,  0,  0,  0,  0,  0,  0,  0,  0,  0,  0,  0,  0,  0,  0,\n",
       "        0,  0])"
      ]
     },
     "execution_count": 106,
     "metadata": {},
     "output_type": "execute_result"
    }
   ],
   "source": [
    "X_train, X_test, y_train, y_test = train_test_split(X, y, test_size=.2, random_state=777)\n",
    "y_train[0]"
   ]
  },
  {
   "cell_type": "code",
   "execution_count": 107,
   "metadata": {},
   "outputs": [],
   "source": [
    "#y_train = to_categorical(y_train, num_classes=tag_size)\n",
    "#y_test = to_categorical(y_test, num_classes=tag_size)"
   ]
  },
  {
   "cell_type": "code",
   "execution_count": 108,
   "metadata": {},
   "outputs": [
    {
     "data": {
      "text/plain": [
       "array([16, 22,  1,  1,  1,  1,  1,  2,  4,  1,  1,  1,  1,  1,  1,  1,  1,\n",
       "        1,  1,  0,  0,  0,  0,  0,  0,  0,  0,  0,  0,  0,  0,  0,  0,  0,\n",
       "        0,  0,  0,  0,  0,  0,  0,  0,  0,  0,  0,  0,  0,  0,  0,  0,  0,\n",
       "        0,  0,  0,  0,  0,  0,  0,  0,  0,  0,  0,  0,  0,  0,  0,  0,  0,\n",
       "        0,  0])"
      ]
     },
     "execution_count": 108,
     "metadata": {},
     "output_type": "execute_result"
    }
   ],
   "source": [
    "y_train[0]"
   ]
  },
  {
   "cell_type": "code",
   "execution_count": 109,
   "metadata": {},
   "outputs": [
    {
     "name": "stdout",
     "output_type": "stream",
     "text": [
      "훈련 샘플 문장의 크기 : (621, 70)\n",
      "훈련 샘플 레이블의 크기 : (621, 70)\n",
      "테스트 샘플 문장의 크기 : (156, 70)\n",
      "테스트 샘플 레이블의 크기 : (156, 70)\n"
     ]
    }
   ],
   "source": [
    "print('훈련 샘플 문장의 크기 : {}'.format(X_train.shape))\n",
    "print('훈련 샘플 레이블의 크기 : {}'.format(y_train.shape))\n",
    "print('테스트 샘플 문장의 크기 : {}'.format(X_test.shape))\n",
    "print('테스트 샘플 레이블의 크기 : {}'.format(y_test.shape))"
   ]
  },
  {
   "cell_type": "code",
   "execution_count": 41,
   "metadata": {},
   "outputs": [],
   "source": [
    "class F1score(Callback):\n",
    "    def __init__(self, value = 0.0, use_char=True ):\n",
    "        super(F1score, self).__init__()\n",
    "        self.value = value\n",
    "        self.use_char = use_char\n",
    "\n",
    "    def sequences_to_tags(self, sequences): # 예측값을 index_to_ner를 사용하여 태깅 정보로 변경하는 함수.\n",
    "        result = []\n",
    "        for sequence in sequences: # 전체 시퀀스로부터 시퀀스를 하나씩 꺼낸다.\n",
    "            tag = []\n",
    "            for pred in sequence: # 시퀀스로부터 예측값을 하나씩 꺼낸다.\n",
    "                pred_index = np.argmax(pred) # 예를 들어 [0, 0, 1, 0 ,0]라면 1의 인덱스인 2를 리턴한다.\n",
    "                tag.append(index_to_ner[pred_index].replace(\"PAD\", \"O\")) # 'PAD'는 'O'로 변경\n",
    "            result.append(tag)\n",
    "        return result\n",
    "\n",
    "    # 에포크가 끝날 때마다 실행되는 함수\n",
    "    def on_epoch_end(self, epoch, logs={}):\n",
    "        print(self.validation_data)"
   ]
  },
  {
   "cell_type": "code",
   "execution_count": 96,
   "metadata": {},
   "outputs": [
    {
     "ename": "AttributeError",
     "evalue": "'CRF' object has no attribute 'backend'",
     "output_type": "error",
     "traceback": [
      "\u001b[1;31m---------------------------------------------------------------------------\u001b[0m",
      "\u001b[1;31mAttributeError\u001b[0m                            Traceback (most recent call last)",
      "\u001b[1;32m<ipython-input-96-750c302240fa>\u001b[0m in \u001b[0;36m<module>\u001b[1;34m\u001b[0m\n\u001b[0;32m      1\u001b[0m \u001b[1;31m# address some inteeface discrepancies when using tensorflow.keras\u001b[0m\u001b[1;33m\u001b[0m\u001b[1;33m\u001b[0m\u001b[1;33m\u001b[0m\u001b[0m\n\u001b[1;32m----> 2\u001b[1;33m \u001b[1;32mif\u001b[0m \u001b[1;34m\"slice\"\u001b[0m \u001b[1;32mnot\u001b[0m \u001b[1;32min\u001b[0m \u001b[0mcrf\u001b[0m\u001b[1;33m.\u001b[0m\u001b[0m__dict__\u001b[0m \u001b[1;32mand\u001b[0m \u001b[0mcrf\u001b[0m\u001b[1;33m.\u001b[0m\u001b[0mbackend\u001b[0m\u001b[1;33m(\u001b[0m\u001b[1;33m)\u001b[0m \u001b[1;33m==\u001b[0m \u001b[1;34m\"tensorflow\"\u001b[0m\u001b[1;33m:\u001b[0m\u001b[1;33m\u001b[0m\u001b[1;33m\u001b[0m\u001b[0m\n\u001b[0m\u001b[0;32m      3\u001b[0m     \u001b[1;31m# this is a good indicator that we are using tensorflow.keras\u001b[0m\u001b[1;33m\u001b[0m\u001b[1;33m\u001b[0m\u001b[1;33m\u001b[0m\u001b[0m\n\u001b[0;32m      4\u001b[0m \u001b[1;33m\u001b[0m\u001b[0m\n\u001b[0;32m      5\u001b[0m     \u001b[1;32mtry\u001b[0m\u001b[1;33m:\u001b[0m\u001b[1;33m\u001b[0m\u001b[1;33m\u001b[0m\u001b[0m\n",
      "\u001b[1;31mAttributeError\u001b[0m: 'CRF' object has no attribute 'backend'"
     ]
    }
   ],
   "source": [
    "# address some inteeface discrepancies when using tensorflow.keras\n",
    "if \"slice\" not in K.__dict__ and K.backend() == \"tensorflow\":\n",
    "    # this is a good indicator that we are using tensorflow.keras\n",
    "\n",
    "    try:\n",
    "        # at first try to monkey patch what we need, will only work if keras-team keras is installed\n",
    "        from keras import backend as KKK\n",
    "\n",
    "        try:\n",
    "            K.__dict__.update(\n",
    "                is_tensor=KKK.is_tensor,\n",
    "                slice=KKK.slice,\n",
    "            )\n",
    "        finally:\n",
    "            del KKK\n",
    "    except ImportError:\n",
    "        # if that doesn't work we do a dirty copy of the code required\n",
    "        import tensorflow as tf\n",
    "        from tensorflow.python.framework import ops as tf_ops\n",
    "\n",
    "\n",
    "        def is_tensor(x):\n",
    "            return isinstance(x, tf_ops._TensorLike) or tf_ops.is_dense_tensor_like(x)\n",
    "\n",
    "\n",
    "        def slice(x, start, size):\n",
    "            x_shape = K.int_shape(x)\n",
    "            if (x_shape is not None) and (x_shape[0] is not None):\n",
    "                len_start = K.int_shape(start)[0] if is_tensor(start) else len(start)\n",
    "                len_size = K.int_shape(size)[0] if is_tensor(size) else len(size)\n",
    "                if not (len(K.int_shape(x)) == len_start == len_size):\n",
    "                    raise ValueError('The dimension and the size of indices should match.')\n",
    "            return tf.slice(x, start, size)"
   ]
  },
  {
   "cell_type": "code",
   "execution_count": 26,
   "metadata": {},
   "outputs": [
    {
     "data": {
      "text/plain": [
       "33"
      ]
     },
     "execution_count": 26,
     "metadata": {},
     "output_type": "execute_result"
    }
   ],
   "source": [
    "tag_size"
   ]
  },
  {
   "cell_type": "code",
   "execution_count": 111,
   "metadata": {
    "scrolled": true
   },
   "outputs": [
    {
     "ename": "ValueError",
     "evalue": "Could not interpret initializer identifier: 33",
     "output_type": "error",
     "traceback": [
      "\u001b[1;31m---------------------------------------------------------------------------\u001b[0m",
      "\u001b[1;31mValueError\u001b[0m                                Traceback (most recent call last)",
      "\u001b[1;32m<ipython-input-111-1d292770e36e>\u001b[0m in \u001b[0;36m<module>\u001b[1;34m\u001b[0m\n\u001b[0;32m      2\u001b[0m \u001b[0mmodel\u001b[0m\u001b[1;33m.\u001b[0m\u001b[0madd\u001b[0m\u001b[1;33m(\u001b[0m\u001b[0mEmbedding\u001b[0m\u001b[1;33m(\u001b[0m\u001b[0mvocab_size\u001b[0m\u001b[1;33m,\u001b[0m \u001b[1;36m128\u001b[0m\u001b[1;33m,\u001b[0m \u001b[0minput_length\u001b[0m\u001b[1;33m=\u001b[0m\u001b[0mmax_len\u001b[0m\u001b[1;33m,\u001b[0m \u001b[0mmask_zero\u001b[0m\u001b[1;33m=\u001b[0m\u001b[1;32mTrue\u001b[0m\u001b[1;33m)\u001b[0m\u001b[1;33m)\u001b[0m\u001b[1;33m\u001b[0m\u001b[1;33m\u001b[0m\u001b[0m\n\u001b[0;32m      3\u001b[0m \u001b[0mmodel\u001b[0m\u001b[1;33m.\u001b[0m\u001b[0madd\u001b[0m\u001b[1;33m(\u001b[0m\u001b[0mBidirectional\u001b[0m\u001b[1;33m(\u001b[0m\u001b[0mLSTM\u001b[0m\u001b[1;33m(\u001b[0m\u001b[1;36m256\u001b[0m\u001b[1;33m,\u001b[0m \u001b[0mreturn_sequences\u001b[0m\u001b[1;33m=\u001b[0m\u001b[1;32mTrue\u001b[0m\u001b[1;33m)\u001b[0m\u001b[1;33m)\u001b[0m\u001b[1;33m)\u001b[0m\u001b[1;33m\u001b[0m\u001b[1;33m\u001b[0m\u001b[0m\n\u001b[1;32m----> 4\u001b[1;33m \u001b[0mcrf\u001b[0m \u001b[1;33m=\u001b[0m \u001b[0mCRF\u001b[0m\u001b[1;33m(\u001b[0m\u001b[0mtag_size\u001b[0m\u001b[1;33m)\u001b[0m\u001b[1;33m\u001b[0m\u001b[1;33m\u001b[0m\u001b[0m\n\u001b[0m\u001b[0;32m      5\u001b[0m \u001b[0mmodel\u001b[0m\u001b[1;33m.\u001b[0m\u001b[0madd\u001b[0m\u001b[1;33m(\u001b[0m\u001b[0mcrf\u001b[0m\u001b[1;33m)\u001b[0m\u001b[1;33m\u001b[0m\u001b[1;33m\u001b[0m\u001b[0m\n\u001b[0;32m      6\u001b[0m \u001b[1;31m#model.add(TimeDistributed(Dense(tag_size, activation=('softmax'))))\u001b[0m\u001b[1;33m\u001b[0m\u001b[1;33m\u001b[0m\u001b[1;33m\u001b[0m\u001b[0m\n",
      "\u001b[1;32m~\\anaconda3\\lib\\site-packages\\tf2crf\\crf.py\u001b[0m in \u001b[0;36m__init__\u001b[1;34m(self, chain_initializer, **kwargs)\u001b[0m\n\u001b[0;32m     34\u001b[0m     \u001b[1;32mdef\u001b[0m \u001b[0m__init__\u001b[0m\u001b[1;33m(\u001b[0m\u001b[0mself\u001b[0m\u001b[1;33m,\u001b[0m \u001b[0mchain_initializer\u001b[0m\u001b[1;33m=\u001b[0m\u001b[1;34m\"orthogonal\"\u001b[0m\u001b[1;33m,\u001b[0m \u001b[1;33m**\u001b[0m\u001b[0mkwargs\u001b[0m\u001b[1;33m)\u001b[0m\u001b[1;33m:\u001b[0m\u001b[1;33m\u001b[0m\u001b[1;33m\u001b[0m\u001b[0m\n\u001b[0;32m     35\u001b[0m         \u001b[0msuper\u001b[0m\u001b[1;33m(\u001b[0m\u001b[0mCRF\u001b[0m\u001b[1;33m,\u001b[0m \u001b[0mself\u001b[0m\u001b[1;33m)\u001b[0m\u001b[1;33m.\u001b[0m\u001b[0m__init__\u001b[0m\u001b[1;33m(\u001b[0m\u001b[1;33m**\u001b[0m\u001b[0mkwargs\u001b[0m\u001b[1;33m)\u001b[0m\u001b[1;33m\u001b[0m\u001b[1;33m\u001b[0m\u001b[0m\n\u001b[1;32m---> 36\u001b[1;33m         \u001b[0mself\u001b[0m\u001b[1;33m.\u001b[0m\u001b[0mchain_initializer\u001b[0m \u001b[1;33m=\u001b[0m \u001b[0mtf\u001b[0m\u001b[1;33m.\u001b[0m\u001b[0mkeras\u001b[0m\u001b[1;33m.\u001b[0m\u001b[0minitializers\u001b[0m\u001b[1;33m.\u001b[0m\u001b[0mget\u001b[0m\u001b[1;33m(\u001b[0m\u001b[0mchain_initializer\u001b[0m\u001b[1;33m)\u001b[0m\u001b[1;33m\u001b[0m\u001b[1;33m\u001b[0m\u001b[0m\n\u001b[0m\u001b[0;32m     37\u001b[0m         \u001b[0mself\u001b[0m\u001b[1;33m.\u001b[0m\u001b[0mtransitions\u001b[0m \u001b[1;33m=\u001b[0m \u001b[1;32mNone\u001b[0m\u001b[1;33m\u001b[0m\u001b[1;33m\u001b[0m\u001b[0m\n\u001b[0;32m     38\u001b[0m         \u001b[0mself\u001b[0m\u001b[1;33m.\u001b[0m\u001b[0msupports_masking\u001b[0m \u001b[1;33m=\u001b[0m \u001b[1;32mTrue\u001b[0m\u001b[1;33m\u001b[0m\u001b[1;33m\u001b[0m\u001b[0m\n",
      "\u001b[1;32m~\\anaconda3\\lib\\site-packages\\tensorflow\\python\\keras\\initializers\\__init__.py\u001b[0m in \u001b[0;36mget\u001b[1;34m(identifier)\u001b[0m\n\u001b[0;32m    160\u001b[0m   \u001b[1;32melse\u001b[0m\u001b[1;33m:\u001b[0m\u001b[1;33m\u001b[0m\u001b[1;33m\u001b[0m\u001b[0m\n\u001b[0;32m    161\u001b[0m     raise ValueError('Could not interpret initializer identifier: ' +\n\u001b[1;32m--> 162\u001b[1;33m                      str(identifier))\n\u001b[0m",
      "\u001b[1;31mValueError\u001b[0m: Could not interpret initializer identifier: 33"
     ]
    }
   ],
   "source": [
    "model = Sequential()\n",
    "model.add(Embedding(vocab_size, 128, input_length=max_len, mask_zero=True))\n",
    "model.add(Bidirectional(LSTM(256, return_sequences=True)))\n",
    "crf = CRF(tag_size)\n",
    "model.add(crf)\n",
    "#model.add(TimeDistributed(Dense(tag_size, activation=('softmax'))))"
   ]
  },
  {
   "cell_type": "code",
   "execution_count": 112,
   "metadata": {
    "scrolled": true
   },
   "outputs": [],
   "source": [
    "inputs = Input(shape=(70,), dtype='int32')\n",
    "output = Embedding(vocab_size, 128, input_length=max_len, mask_zero=True)(inputs)\n",
    "output = Bidirectional(LSTM(256, return_sequences=True))(output)\n",
    "output = Dense(tag_size, activation=None)(output)\n",
    "crf = CRF(dtype='float32')\n",
    "output = crf(output)\n",
    "base_model = Model(inputs, output)"
   ]
  },
  {
   "cell_type": "code",
   "execution_count": null,
   "metadata": {},
   "outputs": [],
   "source": []
  },
  {
   "cell_type": "code",
   "execution_count": 113,
   "metadata": {},
   "outputs": [
    {
     "data": {
      "text/plain": [
       "33"
      ]
     },
     "execution_count": 113,
     "metadata": {},
     "output_type": "execute_result"
    }
   ],
   "source": [
    "tag_size"
   ]
  },
  {
   "cell_type": "code",
   "execution_count": 114,
   "metadata": {},
   "outputs": [],
   "source": [
    "model = ModelWithCRFLoss(base_model)\n",
    "model.compile(optimizer='adam', metrics=['accuracy'])"
   ]
  },
  {
   "cell_type": "code",
   "execution_count": 115,
   "metadata": {},
   "outputs": [
    {
     "data": {
      "text/plain": [
       "(621, 70)"
      ]
     },
     "execution_count": 115,
     "metadata": {},
     "output_type": "execute_result"
    }
   ],
   "source": [
    "X_train.shape"
   ]
  },
  {
   "cell_type": "code",
   "execution_count": 116,
   "metadata": {
    "scrolled": true
   },
   "outputs": [
    {
     "name": "stdout",
     "output_type": "stream",
     "text": [
      "Epoch 1/50\n",
      "5/5 [==============================] - 12s 1s/step - crf_loss: 69.4796 - accuracy: 0.0146 - val_crf_loss_val: 57.0952 - val_val_accuracy: 0.5911\n",
      "Epoch 2/50\n",
      "5/5 [==============================] - 3s 564ms/step - crf_loss: 41.4443 - accuracy: 0.7834 - val_crf_loss_val: 30.6434 - val_val_accuracy: 0.8642\n",
      "Epoch 3/50\n",
      "5/5 [==============================] - 3s 618ms/step - crf_loss: 27.8554 - accuracy: 0.8690 - val_crf_loss_val: 21.5927 - val_val_accuracy: 0.8709\n",
      "Epoch 4/50\n",
      "5/5 [==============================] - 3s 649ms/step - crf_loss: 20.2522 - accuracy: 0.8722 - val_crf_loss_val: 18.8317 - val_val_accuracy: 0.8725\n",
      "Epoch 5/50\n",
      "5/5 [==============================] - 4s 698ms/step - crf_loss: 19.0191 - accuracy: 0.8725 - val_crf_loss_val: 16.8578 - val_val_accuracy: 0.8742\n",
      "Epoch 6/50\n",
      "5/5 [==============================] - 4s 685ms/step - crf_loss: 16.7884 - accuracy: 0.8725 - val_crf_loss_val: 15.9044 - val_val_accuracy: 0.8742\n",
      "Epoch 7/50\n",
      "5/5 [==============================] - 4s 706ms/step - crf_loss: 17.0258 - accuracy: 0.8725 - val_crf_loss_val: 15.4103 - val_val_accuracy: 0.8742\n",
      "Epoch 8/50\n",
      "5/5 [==============================] - 4s 776ms/step - crf_loss: 17.9354 - accuracy: 0.8725 - val_crf_loss_val: 14.9821 - val_val_accuracy: 0.8742\n",
      "Epoch 9/50\n",
      "5/5 [==============================] - 5s 958ms/step - crf_loss: 15.5920 - accuracy: 0.8725 - val_crf_loss_val: 14.7282 - val_val_accuracy: 0.8742\n",
      "Epoch 10/50\n",
      "5/5 [==============================] - 5s 1s/step - crf_loss: 14.7224 - accuracy: 0.8725 - val_crf_loss_val: 14.2341 - val_val_accuracy: 0.8742\n",
      "Epoch 11/50\n",
      "5/5 [==============================] - 5s 1s/step - crf_loss: 16.0414 - accuracy: 0.8725 - val_crf_loss_val: 13.8308 - val_val_accuracy: 0.8742\n",
      "Epoch 12/50\n",
      "5/5 [==============================] - 8s 2s/step - crf_loss: 14.7133 - accuracy: 0.8725 - val_crf_loss_val: 13.3701 - val_val_accuracy: 0.8742\n",
      "Epoch 13/50\n",
      "5/5 [==============================] - 8s 2s/step - crf_loss: 14.4242 - accuracy: 0.8725 - val_crf_loss_val: 12.8169 - val_val_accuracy: 0.8742\n",
      "Epoch 14/50\n",
      "5/5 [==============================] - 8s 1s/step - crf_loss: 13.6861 - accuracy: 0.8725 - val_crf_loss_val: 12.1958 - val_val_accuracy: 0.8742\n",
      "Epoch 15/50\n",
      "5/5 [==============================] - 8s 2s/step - crf_loss: 13.1059 - accuracy: 0.8727 - val_crf_loss_val: 11.5312 - val_val_accuracy: 0.8742\n",
      "Epoch 16/50\n",
      "5/5 [==============================] - 8s 2s/step - crf_loss: 13.1122 - accuracy: 0.8702 - val_crf_loss_val: 10.8894 - val_val_accuracy: 0.8742\n",
      "Epoch 17/50\n",
      "5/5 [==============================] - 8s 1s/step - crf_loss: 11.8477 - accuracy: 0.8725 - val_crf_loss_val: 10.2942 - val_val_accuracy: 0.8733\n",
      "Epoch 18/50\n",
      "5/5 [==============================] - 7s 1s/step - crf_loss: 10.4162 - accuracy: 0.8730 - val_crf_loss_val: 9.7735 - val_val_accuracy: 0.8750\n",
      "Epoch 19/50\n",
      "5/5 [==============================] - 7s 1s/step - crf_loss: 9.4435 - accuracy: 0.8769 - val_crf_loss_val: 9.3387 - val_val_accuracy: 0.8891\n",
      "Epoch 20/50\n",
      "5/5 [==============================] - 8s 2s/step - crf_loss: 9.1787 - accuracy: 0.8854 - val_crf_loss_val: 9.0062 - val_val_accuracy: 0.8924\n",
      "Epoch 21/50\n",
      "5/5 [==============================] - 7s 1s/step - crf_loss: 9.6650 - accuracy: 0.8906 - val_crf_loss_val: 8.7429 - val_val_accuracy: 0.8990\n",
      "Epoch 22/50\n",
      "5/5 [==============================] - 6s 1s/step - crf_loss: 8.9391 - accuracy: 0.8929 - val_crf_loss_val: 8.5498 - val_val_accuracy: 0.8998\n",
      "Epoch 23/50\n",
      "5/5 [==============================] - 7s 1s/step - crf_loss: 8.0563 - accuracy: 0.8962 - val_crf_loss_val: 8.2856 - val_val_accuracy: 0.9023\n",
      "Epoch 24/50\n",
      "5/5 [==============================] - 6s 1s/step - crf_loss: 7.7326 - accuracy: 0.8972 - val_crf_loss_val: 8.0845 - val_val_accuracy: 0.9056\n",
      "Epoch 25/50\n",
      "5/5 [==============================] - 6s 1s/step - crf_loss: 7.5350 - accuracy: 0.9011 - val_crf_loss_val: 7.9447 - val_val_accuracy: 0.9098\n",
      "Epoch 26/50\n",
      "5/5 [==============================] - 6s 1s/step - crf_loss: 7.7603 - accuracy: 0.9018 - val_crf_loss_val: 7.7884 - val_val_accuracy: 0.9098\n",
      "Epoch 27/50\n",
      "5/5 [==============================] - 6s 1s/step - crf_loss: 8.4982 - accuracy: 0.9023 - val_crf_loss_val: 7.6997 - val_val_accuracy: 0.9114\n",
      "Epoch 28/50\n",
      "5/5 [==============================] - 6s 1s/step - crf_loss: 7.6143 - accuracy: 0.9068 - val_crf_loss_val: 7.4891 - val_val_accuracy: 0.9197\n",
      "Epoch 29/50\n",
      "5/5 [==============================] - 7s 2s/step - crf_loss: 7.3190 - accuracy: 0.9109 - val_crf_loss_val: 7.2715 - val_val_accuracy: 0.9247\n",
      "Epoch 30/50\n",
      "5/5 [==============================] - 8s 2s/step - crf_loss: 6.9522 - accuracy: 0.9137 - val_crf_loss_val: 7.0651 - val_val_accuracy: 0.9247\n",
      "Epoch 31/50\n",
      "5/5 [==============================] - 8s 1s/step - crf_loss: 6.4045 - accuracy: 0.9163 - val_crf_loss_val: 6.9348 - val_val_accuracy: 0.9296\n",
      "Epoch 32/50\n",
      "5/5 [==============================] - 6s 1s/step - crf_loss: 7.3053 - accuracy: 0.9178 - val_crf_loss_val: 6.8325 - val_val_accuracy: 0.9321\n",
      "Epoch 33/50\n",
      "5/5 [==============================] - 7s 1s/step - crf_loss: 6.3366 - accuracy: 0.9238 - val_crf_loss_val: 6.6746 - val_val_accuracy: 0.9329\n",
      "Epoch 34/50\n",
      "5/5 [==============================] - 7s 1s/step - crf_loss: 6.2757 - accuracy: 0.9267 - val_crf_loss_val: 6.5483 - val_val_accuracy: 0.9338\n",
      "Epoch 35/50\n",
      "5/5 [==============================] - 6s 1s/step - crf_loss: 5.8870 - accuracy: 0.9283 - val_crf_loss_val: 6.4330 - val_val_accuracy: 0.9363\n",
      "Epoch 36/50\n",
      "5/5 [==============================] - 6s 1s/step - crf_loss: 6.0336 - accuracy: 0.9346 - val_crf_loss_val: 6.1973 - val_val_accuracy: 0.9363\n",
      "Epoch 37/50\n",
      "5/5 [==============================] - 6s 1s/step - crf_loss: 5.0004 - accuracy: 0.9375 - val_crf_loss_val: 6.1093 - val_val_accuracy: 0.9379\n",
      "Epoch 38/50\n",
      "5/5 [==============================] - 6s 1s/step - crf_loss: 5.2646 - accuracy: 0.9399 - val_crf_loss_val: 5.9655 - val_val_accuracy: 0.9429\n",
      "Epoch 39/50\n",
      "5/5 [==============================] - 6s 1s/step - crf_loss: 5.0998 - accuracy: 0.9429 - val_crf_loss_val: 5.7993 - val_val_accuracy: 0.9487\n",
      "Epoch 40/50\n",
      "5/5 [==============================] - 6s 1s/step - crf_loss: 4.8393 - accuracy: 0.9446 - val_crf_loss_val: 5.6732 - val_val_accuracy: 0.9536\n",
      "Epoch 41/50\n",
      "5/5 [==============================] - 6s 1s/step - crf_loss: 4.6244 - accuracy: 0.9481 - val_crf_loss_val: 5.5614 - val_val_accuracy: 0.9553\n",
      "Epoch 42/50\n",
      "5/5 [==============================] - 6s 1s/step - crf_loss: 4.4385 - accuracy: 0.9494 - val_crf_loss_val: 5.4449 - val_val_accuracy: 0.9570\n",
      "Epoch 43/50\n",
      "5/5 [==============================] - 6s 1s/step - crf_loss: 4.1775 - accuracy: 0.9513 - val_crf_loss_val: 5.3906 - val_val_accuracy: 0.9570\n",
      "Epoch 44/50\n",
      "5/5 [==============================] - 6s 1s/step - crf_loss: 3.6181 - accuracy: 0.9519 - val_crf_loss_val: 5.2810 - val_val_accuracy: 0.9603\n",
      "Epoch 45/50\n",
      "5/5 [==============================] - 6s 1s/step - crf_loss: 4.2286 - accuracy: 0.9543 - val_crf_loss_val: 5.2265 - val_val_accuracy: 0.9578\n",
      "Epoch 46/50\n",
      "5/5 [==============================] - 6s 1s/step - crf_loss: 3.5931 - accuracy: 0.9568 - val_crf_loss_val: 5.1519 - val_val_accuracy: 0.9578\n",
      "Epoch 47/50\n",
      "5/5 [==============================] - 6s 1s/step - crf_loss: 3.3489 - accuracy: 0.9594 - val_crf_loss_val: 5.0321 - val_val_accuracy: 0.9594\n",
      "Epoch 48/50\n",
      "5/5 [==============================] - 6s 1s/step - crf_loss: 3.2106 - accuracy: 0.9590 - val_crf_loss_val: 4.9401 - val_val_accuracy: 0.9578\n",
      "Epoch 49/50\n",
      "5/5 [==============================] - 6s 1s/step - crf_loss: 3.0937 - accuracy: 0.9608 - val_crf_loss_val: 4.9360 - val_val_accuracy: 0.9594\n",
      "Epoch 50/50\n",
      "5/5 [==============================] - 7s 1s/step - crf_loss: 3.0383 - accuracy: 0.9630 - val_crf_loss_val: 4.8805 - val_val_accuracy: 0.9603\n"
     ]
    }
   ],
   "source": [
    "history = model.fit(X_train, y_train, batch_size=128, epochs=50,  validation_split=0.1)#, callbacks=[F1score(use_char=False)])"
   ]
  },
  {
   "cell_type": "code",
   "execution_count": 124,
   "metadata": {},
   "outputs": [
    {
     "name": "stdout",
     "output_type": "stream",
     "text": [
      "5/5 [==============================] - 1s 107ms/step - crf_loss_val: 6.1522 - val_accuracy: 0.9434\n"
     ]
    },
    {
     "data": {
      "text/plain": [
       "0.9388632774353027"
      ]
     },
     "execution_count": 124,
     "metadata": {},
     "output_type": "execute_result"
    }
   ],
   "source": [
    "loss_,accu_= model.evaluate(X_test,y_test)\n",
    "y_pred = model.predict(X_test)\n",
    "accu_"
   ]
  },
  {
   "cell_type": "code",
   "execution_count": 133,
   "metadata": {
    "scrolled": true
   },
   "outputs": [
    {
     "data": {
      "text/html": [
       "<div>\n",
       "<style scoped>\n",
       "    .dataframe tbody tr th:only-of-type {\n",
       "        vertical-align: middle;\n",
       "    }\n",
       "\n",
       "    .dataframe tbody tr th {\n",
       "        vertical-align: top;\n",
       "    }\n",
       "\n",
       "    .dataframe thead th {\n",
       "        text-align: right;\n",
       "    }\n",
       "</style>\n",
       "<table border=\"1\" class=\"dataframe\">\n",
       "  <thead>\n",
       "    <tr style=\"text-align: right;\">\n",
       "      <th></th>\n",
       "      <th>crf_loss</th>\n",
       "      <th>accuracy</th>\n",
       "      <th>val_crf_loss_val</th>\n",
       "      <th>val_val_accuracy</th>\n",
       "    </tr>\n",
       "  </thead>\n",
       "  <tbody>\n",
       "    <tr>\n",
       "      <th>45</th>\n",
       "      <td>3.373599</td>\n",
       "      <td>0.956836</td>\n",
       "      <td>5.151947</td>\n",
       "      <td>0.957781</td>\n",
       "    </tr>\n",
       "    <tr>\n",
       "      <th>46</th>\n",
       "      <td>2.877688</td>\n",
       "      <td>0.959385</td>\n",
       "      <td>5.032083</td>\n",
       "      <td>0.959437</td>\n",
       "    </tr>\n",
       "    <tr>\n",
       "      <th>47</th>\n",
       "      <td>2.807037</td>\n",
       "      <td>0.959045</td>\n",
       "      <td>4.940145</td>\n",
       "      <td>0.957781</td>\n",
       "    </tr>\n",
       "    <tr>\n",
       "      <th>48</th>\n",
       "      <td>2.818157</td>\n",
       "      <td>0.960829</td>\n",
       "      <td>4.935975</td>\n",
       "      <td>0.959437</td>\n",
       "    </tr>\n",
       "    <tr>\n",
       "      <th>49</th>\n",
       "      <td>3.044605</td>\n",
       "      <td>0.962954</td>\n",
       "      <td>4.880503</td>\n",
       "      <td>0.960265</td>\n",
       "    </tr>\n",
       "  </tbody>\n",
       "</table>\n",
       "</div>"
      ],
      "text/plain": [
       "    crf_loss  accuracy  val_crf_loss_val  val_val_accuracy\n",
       "45  3.373599  0.956836          5.151947          0.957781\n",
       "46  2.877688  0.959385          5.032083          0.959437\n",
       "47  2.807037  0.959045          4.940145          0.957781\n",
       "48  2.818157  0.960829          4.935975          0.959437\n",
       "49  3.044605  0.962954          4.880503          0.960265"
      ]
     },
     "execution_count": 133,
     "metadata": {},
     "output_type": "execute_result"
    }
   ],
   "source": [
    "hist = pd.DataFrame(history.history)\n",
    "hist.tail()"
   ]
  },
  {
   "cell_type": "code",
   "execution_count": 42,
   "metadata": {},
   "outputs": [],
   "source": [
    "def plot_history(history):\n",
    "    hist = pd.DataFrame(history.history)\n",
    "    hist['epoch'] = history.epoch\n",
    "\n",
    "    plt.figure(figsize=(12,12))\n",
    "    #plt.plot()\n",
    "    plt.subplot(2,1,1)\n",
    "    plt.xlabel('Epoch')\n",
    "    plt.ylabel('accuracy')\n",
    "    plt.plot(hist['epoch'], hist['accuracy'],\n",
    "           label='Train Error')\n",
    "    plt.plot(hist['epoch'], hist['val_val_accuracy'],\n",
    "           label = 'Val Error')\n",
    "    plt.ylim([0.6,1])\n",
    "    plt.title(\"Accuracy\")\n",
    "    plt.legend()\n",
    "    \n",
    "    plt.subplot(2,1,2)\n",
    "    plt.xlabel('Epoch')\n",
    "    plt.ylabel('accuracy')\n",
    "    plt.plot(hist['epoch'], hist['crf_loss'],\n",
    "           label='Train loss')\n",
    "    plt.plot(hist['epoch'], hist['val_crf_loss_val'],\n",
    "           label = 'Val loss')\n",
    "    #plt.ylim([0.6,1])\n",
    "    plt.title(\"Loss\")\n",
    "    plt.legend()\n",
    "    \n",
    "    plt.show()\n",
    "    return hist"
   ]
  },
  {
   "cell_type": "code",
   "execution_count": 43,
   "metadata": {},
   "outputs": [],
   "source": [
    "def plot_history2(history):\n",
    "    hist = pd.DataFrame(history.history)\n",
    "    hist['epoch'] = history.epoch\n",
    "\n",
    "    plt.figure(figsize=(12,12))\n",
    "    #plt.plot()\n",
    "    plt.subplot(2,1,1)\n",
    "    plt.xlabel('Epoch')\n",
    "    plt.ylabel('accuracy')\n",
    "    plt.plot(hist['epoch'], hist['accuracy'],\n",
    "           label='Train Error')\n",
    "    plt.plot(hist['epoch'], hist['val_accuracy'],\n",
    "           label = 'Val Error')\n",
    "    plt.ylim([0.6,1])\n",
    "    plt.title(\"Accuracy\")\n",
    "    plt.legend()\n",
    "    \n",
    "    plt.subplot(2,1,2)\n",
    "    plt.xlabel('Epoch')\n",
    "    plt.ylabel('accuracy')\n",
    "    plt.plot(hist['epoch'], hist['loss'],\n",
    "           label='Train loss')\n",
    "    plt.plot(hist['epoch'], hist['val_loss'],\n",
    "           label = 'Val loss')\n",
    "    #plt.ylim([0.6,1])\n",
    "    plt.title(\"Loss\")\n",
    "    plt.legend()\n",
    "    \n",
    "    plt.show()\n",
    "    return hist"
   ]
  },
  {
   "cell_type": "code",
   "execution_count": 150,
   "metadata": {},
   "outputs": [
    {
     "data": {
      "image/png": "[encoded data removed]",
      "text/plain": [
       "<Figure size 864x864 with 2 Axes>"
      ]
     },
     "metadata": {
      "needs_background": "light"
     },
     "output_type": "display_data"
    }
   ],
   "source": [
    "plot_history(history)"
   ]
  },
  {
   "cell_type": "code",
   "execution_count": 118,
   "metadata": {},
   "outputs": [],
   "source": [
    "f1score = F1score()\n",
    "\n",
    "y_predicted = model.predict([X_test])\n",
    "#pred_tags = f1score.sequences_to_tags(y_predicted)\n",
    "#test_tags = f1score.sequences_to_tags(y_test)"
   ]
  },
  {
   "cell_type": "code",
   "execution_count": 119,
   "metadata": {},
   "outputs": [
    {
     "data": {
      "text/plain": [
       "(array([[ 1,  1,  1, ...,  1,  1,  1],\n",
       "        [ 1,  1,  1, ...,  3,  3,  3],\n",
       "        [ 7, 11,  8, ...,  1,  1,  1],\n",
       "        ...,\n",
       "        [ 5,  5,  1, ...,  1,  1,  1],\n",
       "        [ 1,  1,  1, ...,  1,  1,  1],\n",
       "        [ 1,  1,  1, ...,  1,  1,  1]]),\n",
       " array([[[-3.6094949e+00,  4.7154903e+00, -3.6126128e-01, ...,\n",
       "          -3.1398063e+00, -2.5321140e+00, -3.7944992e+00],\n",
       "         [-2.4378443e+00,  3.3307712e+00, -3.9904572e-02, ...,\n",
       "          -2.1741998e+00, -1.5813786e+00, -2.5160348e+00],\n",
       "         [-2.9197149e+00,  5.6253953e+00, -2.9124984e-01, ...,\n",
       "          -2.8429580e+00, -1.6856391e+00, -3.0235183e+00],\n",
       "         ...,\n",
       "         [-2.4094863e-02,  2.5523528e-02, -2.3217421e-02, ...,\n",
       "          -2.6586369e-02, -2.3484878e-02, -2.4770450e-02],\n",
       "         [-2.4094863e-02,  2.5523528e-02, -2.3217421e-02, ...,\n",
       "          -2.6586369e-02, -2.3484878e-02, -2.4770450e-02],\n",
       "         [-2.4094863e-02,  2.5523528e-02, -2.3217421e-02, ...,\n",
       "          -2.6586369e-02, -2.3484878e-02, -2.4770450e-02]],\n",
       " \n",
       "        [[-4.6720934e+00,  1.8050267e+00, -8.4687227e-01, ...,\n",
       "          -4.2726588e+00, -3.6659617e+00, -5.0853400e+00],\n",
       "         [-6.7299027e+00,  8.5199518e+00, -1.0383456e+00, ...,\n",
       "          -6.2106152e+00, -4.8376932e+00, -7.2233758e+00],\n",
       "         [-6.4788318e+00,  5.6787419e+00, -7.5950867e-01, ...,\n",
       "          -6.0305848e+00, -4.6309328e+00, -6.9178028e+00],\n",
       "         ...,\n",
       "         [-2.4094863e-02,  2.5523528e-02, -2.3217421e-02, ...,\n",
       "          -2.6586369e-02, -2.3484878e-02, -2.4770450e-02],\n",
       "         [-2.4094863e-02,  2.5523528e-02, -2.3217421e-02, ...,\n",
       "          -2.6586369e-02, -2.3484878e-02, -2.4770450e-02],\n",
       "         [-2.4094863e-02,  2.5523528e-02, -2.3217421e-02, ...,\n",
       "          -2.6586369e-02, -2.3484878e-02, -2.4770450e-02]],\n",
       " \n",
       "        [[-3.5554686e+00, -2.5366902e+00,  9.1772401e-01, ...,\n",
       "          -3.0886354e+00, -2.8678541e+00, -3.9075985e+00],\n",
       "         [-3.7819533e+00,  4.9639302e-01,  7.3501751e-02, ...,\n",
       "          -3.5413067e+00, -3.1523969e+00, -4.3273129e+00],\n",
       "         [-3.5069618e+00, -5.0344586e-01,  3.0765840e-01, ...,\n",
       "          -3.1145639e+00, -2.8549962e+00, -3.8705001e+00],\n",
       "         ...,\n",
       "         [-2.4094863e-02,  2.5523528e-02, -2.3217421e-02, ...,\n",
       "          -2.6586369e-02, -2.3484878e-02, -2.4770450e-02],\n",
       "         [-2.4094863e-02,  2.5523528e-02, -2.3217421e-02, ...,\n",
       "          -2.6586369e-02, -2.3484878e-02, -2.4770450e-02],\n",
       "         [-2.4094863e-02,  2.5523528e-02, -2.3217421e-02, ...,\n",
       "          -2.6586369e-02, -2.3484878e-02, -2.4770450e-02]],\n",
       " \n",
       "        ...,\n",
       " \n",
       "        [[-4.1596704e+00,  3.7946570e-01, -1.1845726e-02, ...,\n",
       "          -4.0892587e+00, -3.5438986e+00, -4.6172256e+00],\n",
       "         [-4.5802016e+00, -3.1218988e-01, -4.3549567e-01, ...,\n",
       "          -4.3980403e+00, -3.4433296e+00, -4.8730111e+00],\n",
       "         [-5.5885110e+00,  5.2466993e+00, -1.1232214e+00, ...,\n",
       "          -5.0699911e+00, -3.8434343e+00, -5.9550128e+00],\n",
       "         ...,\n",
       "         [-2.4094863e-02,  2.5523528e-02, -2.3217421e-02, ...,\n",
       "          -2.6586369e-02, -2.3484878e-02, -2.4770450e-02],\n",
       "         [-2.4094863e-02,  2.5523528e-02, -2.3217421e-02, ...,\n",
       "          -2.6586369e-02, -2.3484878e-02, -2.4770450e-02],\n",
       "         [-2.4094863e-02,  2.5523528e-02, -2.3217421e-02, ...,\n",
       "          -2.6586369e-02, -2.3484878e-02, -2.4770450e-02]],\n",
       " \n",
       "        [[-5.0196414e+00,  2.5155082e+00, -9.5083469e-01, ...,\n",
       "          -4.4963675e+00, -3.7561710e+00, -5.3207254e+00],\n",
       "         [-7.1795869e+00,  9.4687452e+00, -1.3591720e+00, ...,\n",
       "          -6.6259875e+00, -5.0604997e+00, -7.6175528e+00],\n",
       "         [-8.4511662e+00,  1.2053571e+01, -1.1543658e+00, ...,\n",
       "          -8.0160837e+00, -5.7935786e+00, -8.9703588e+00],\n",
       "         ...,\n",
       "         [-2.4094863e-02,  2.5523528e-02, -2.3217421e-02, ...,\n",
       "          -2.6586369e-02, -2.3484878e-02, -2.4770450e-02],\n",
       "         [-2.4094863e-02,  2.5523528e-02, -2.3217421e-02, ...,\n",
       "          -2.6586369e-02, -2.3484878e-02, -2.4770450e-02],\n",
       "         [-2.4094863e-02,  2.5523528e-02, -2.3217421e-02, ...,\n",
       "          -2.6586369e-02, -2.3484878e-02, -2.4770450e-02]],\n",
       " \n",
       "        [[-7.7190447e+00,  1.1324334e+01, -7.2707224e-01, ...,\n",
       "          -7.0279508e+00, -5.3360538e+00, -8.1081696e+00],\n",
       "         [-8.0491877e+00,  1.1963061e+01, -4.1764030e-01, ...,\n",
       "          -7.4570022e+00, -5.2154179e+00, -8.4061337e+00],\n",
       "         [-8.1832323e+00,  1.3729640e+01, -2.4437653e-01, ...,\n",
       "          -7.8091936e+00, -4.5646644e+00, -8.6393385e+00],\n",
       "         ...,\n",
       "         [-2.4094863e-02,  2.5523528e-02, -2.3217421e-02, ...,\n",
       "          -2.6586369e-02, -2.3484878e-02, -2.4770450e-02],\n",
       "         [-2.4094863e-02,  2.5523528e-02, -2.3217421e-02, ...,\n",
       "          -2.6586369e-02, -2.3484878e-02, -2.4770450e-02],\n",
       "         [-2.4094863e-02,  2.5523528e-02, -2.3217421e-02, ...,\n",
       "          -2.6586369e-02, -2.3484878e-02, -2.4770450e-02]]], dtype=float32),\n",
       " array([ 4, 11,  6, 29, 36,  9, 56, 11, 16, 50, 11, 70,  4, 11,  1, 13, 70,\n",
       "        21, 10, 17,  1,  2,  5,  8, 70,  9, 70,  7,  1,  4, 49,  5, 66, 65,\n",
       "         6, 27, 13, 23,  3, 19, 60,  4,  7,  3, 16, 17, 21, 70,  3, 70,  6,\n",
       "         4, 14,  6, 20, 13, 20,  3, 18, 25, 19,  9, 13, 28, 10, 16, 16, 70,\n",
       "        70, 16, 50, 19, 32, 12, 70, 33, 16, 70, 19,  7, 14,  6, 10,  8, 22,\n",
       "         6, 11, 31,  1, 31, 14,  7, 43, 17, 17, 30, 46, 15, 22, 12,  8, 11,\n",
       "         3, 15, 15,  9,  3, 33, 18,  1, 17,  5,  2, 14, 34, 22, 11, 13, 43,\n",
       "        70, 11,  9,  5, 61, 58, 13, 22,  3, 26, 10, 54,  6, 11, 17,  4, 55,\n",
       "         6, 18, 56, 15, 70,  1,  4,  5,  9,  6,  4, 21,  1, 10,  6, 14,  6,\n",
       "         7, 13,  4]),\n",
       " array([[ 0.07188744, -0.05862558, -0.045934  , ...,  0.01258973,\n",
       "         -0.03672554,  0.08171821],\n",
       "        [-0.02494062,  0.04057159,  0.14822385, ...,  0.01831404,\n",
       "         -0.31752542,  0.07882375],\n",
       "        [ 0.00104175,  0.21809718, -0.1510966 , ...,  0.09923061,\n",
       "         -0.149275  ,  0.1771012 ],\n",
       "        ...,\n",
       "        [ 0.3085224 ,  0.08227117, -0.22329454, ..., -0.09080569,\n",
       "          0.20903693,  0.14636084],\n",
       "        [-0.3023921 ,  0.15821345,  0.20896758, ..., -0.07690737,\n",
       "         -0.07810827, -0.00600371],\n",
       "        [-0.12773478,  0.3309329 ,  0.1590558 , ...,  0.03933055,\n",
       "         -0.21120921, -0.14503998]], dtype=float32))"
      ]
     },
     "execution_count": 119,
     "metadata": {},
     "output_type": "execute_result"
    }
   ],
   "source": [
    "y_predicted"
   ]
  },
  {
   "cell_type": "code",
   "execution_count": 157,
   "metadata": {
    "scrolled": true
   },
   "outputs": [
    {
     "name": "stdout",
     "output_type": "stream",
     "text": [
      "단어             |실제값  |예측값\n",
      "-----------------------------------\n"
     ]
    },
    {
     "ename": "TypeError",
     "evalue": "zip argument #2 must support iteration",
     "output_type": "error",
     "traceback": [
      "\u001b[1;31m---------------------------------------------------------------------------\u001b[0m",
      "\u001b[1;31mTypeError\u001b[0m                                 Traceback (most recent call last)",
      "\u001b[1;32m<ipython-input-157-89419a568dde>\u001b[0m in \u001b[0;36m<module>\u001b[1;34m\u001b[0m\n\u001b[0;32m      7\u001b[0m \u001b[0mprint\u001b[0m\u001b[1;33m(\u001b[0m\u001b[1;36m35\u001b[0m \u001b[1;33m*\u001b[0m \u001b[1;34m\"-\"\u001b[0m\u001b[1;33m)\u001b[0m\u001b[1;33m\u001b[0m\u001b[1;33m\u001b[0m\u001b[0m\n\u001b[0;32m      8\u001b[0m \u001b[1;33m\u001b[0m\u001b[0m\n\u001b[1;32m----> 9\u001b[1;33m \u001b[1;32mfor\u001b[0m \u001b[0mw\u001b[0m\u001b[1;33m,\u001b[0m \u001b[0mt\u001b[0m\u001b[1;33m,\u001b[0m \u001b[0mpred\u001b[0m \u001b[1;32min\u001b[0m \u001b[0mzip\u001b[0m\u001b[1;33m(\u001b[0m\u001b[0mX_test\u001b[0m\u001b[1;33m[\u001b[0m\u001b[0mi\u001b[0m\u001b[1;33m]\u001b[0m\u001b[1;33m,\u001b[0m \u001b[0mtrue\u001b[0m\u001b[1;33m,\u001b[0m \u001b[0my_predicted\u001b[0m\u001b[1;33m)\u001b[0m\u001b[1;33m:\u001b[0m\u001b[1;33m\u001b[0m\u001b[1;33m\u001b[0m\u001b[0m\n\u001b[0m\u001b[0;32m     10\u001b[0m     \u001b[1;32mif\u001b[0m \u001b[0mw\u001b[0m \u001b[1;33m!=\u001b[0m \u001b[1;36m0\u001b[0m\u001b[1;33m:\u001b[0m \u001b[1;31m# PAD값은 제외함.\u001b[0m\u001b[1;33m\u001b[0m\u001b[1;33m\u001b[0m\u001b[0m\n\u001b[0;32m     11\u001b[0m         \u001b[0mprint\u001b[0m\u001b[1;33m(\u001b[0m\u001b[1;34m\"{:17}: {:7} {}\"\u001b[0m\u001b[1;33m.\u001b[0m\u001b[0mformat\u001b[0m\u001b[1;33m(\u001b[0m\u001b[0mindex_to_word\u001b[0m\u001b[1;33m[\u001b[0m\u001b[0mw\u001b[0m\u001b[1;33m]\u001b[0m\u001b[1;33m,\u001b[0m \u001b[0mindex_to_ner\u001b[0m\u001b[1;33m[\u001b[0m\u001b[0mt\u001b[0m\u001b[1;33m]\u001b[0m\u001b[1;33m,\u001b[0m \u001b[0mindex_to_ner\u001b[0m\u001b[1;33m[\u001b[0m\u001b[0mpred\u001b[0m\u001b[1;33m]\u001b[0m\u001b[1;33m)\u001b[0m\u001b[1;33m)\u001b[0m\u001b[1;33m\u001b[0m\u001b[1;33m\u001b[0m\u001b[0m\n",
      "\u001b[1;31mTypeError\u001b[0m: zip argument #2 must support iteration"
     ]
    }
   ],
   "source": [
    "i=54 # 확인하고 싶은 테스트용 샘플의 인덱스.\n",
    "y_predicted = model.predict(np.array([X_test[i]])) # 입력한 테스트용 샘플에 대해서 예측 y를 리턴\n",
    "#y_predicted = np.argmax(y_predicted, axis=-1) # 원-핫 인코딩을 다시 정수 인코딩으로 변경함.\n",
    "true = np.argmax(y_test[i], -1) # 원-핫 인코딩을 다시 정수 인코딩으로 변경함.\n",
    "\n",
    "print(\"{:15}|{:5}|{}\".format(\"단어\", \"실제값\", \"예측값\"))\n",
    "print(35 * \"-\")\n",
    "\n",
    "for w, t, pred in zip(X_test[i], true, y_predicted[0]):\n",
    "    if w != 0: # PAD값은 제외함.\n",
    "        print(\"{:17}: {:7} {}\".format(index_to_word[w], index_to_ner[t], index_to_ner[pred]))"
   ]
  },
  {
   "cell_type": "code",
   "execution_count": 153,
   "metadata": {},
   "outputs": [],
   "source": [
    "y_predicted = model.predict(np.array([X_test[i]]))"
   ]
  },
  {
   "cell_type": "code",
   "execution_count": 158,
   "metadata": {},
   "outputs": [
    {
     "data": {
      "text/plain": [
       "2"
      ]
     },
     "execution_count": 158,
     "metadata": {},
     "output_type": "execute_result"
    }
   ],
   "source": [
    "true"
   ]
  },
  {
   "cell_type": "code",
   "execution_count": 160,
   "metadata": {},
   "outputs": [
    {
     "data": {
      "text/plain": [
       "array([1, 5, 8, 8, 1, 1, 1, 5, 1, 1, 1, 1, 1, 1, 1, 1, 1, 1, 1, 1, 0, 0,\n",
       "       0, 0, 0, 0, 0, 0, 0, 0, 0, 0, 0, 0, 0, 0, 0, 0, 0, 0, 0, 0, 0, 0,\n",
       "       0, 0, 0, 0, 0, 0, 0, 0, 0, 0, 0, 0, 0, 0, 0, 0, 0, 0, 0, 0, 0, 0,\n",
       "       0, 0, 0, 0])"
      ]
     },
     "execution_count": 160,
     "metadata": {},
     "output_type": "execute_result"
    }
   ],
   "source": [
    "y_test[i]"
   ]
  },
  {
   "cell_type": "code",
   "execution_count": 159,
   "metadata": {},
   "outputs": [
    {
     "data": {
      "text/plain": [
       "array([[1, 5, 1, 1, 1, 1, 1, 5, 1, 1, 7, 1, 1, 1, 1, 1, 1, 1, 1, 1, 1, 1,\n",
       "        1, 1, 1, 1, 1, 1, 1, 1, 1, 1, 1, 1, 1, 1, 1, 1, 1, 1, 1, 1, 1, 1,\n",
       "        1, 1, 1, 1, 1, 1, 1, 1, 1, 1, 1, 1, 1, 1, 1, 1, 1, 1, 1, 1, 1, 1,\n",
       "        1, 1, 1, 1]])"
      ]
     },
     "execution_count": 159,
     "metadata": {},
     "output_type": "execute_result"
    }
   ],
   "source": [
    "y_predicted[0]"
   ]
  },
  {
   "cell_type": "markdown",
   "metadata": {},
   "source": [
    "# LSTM"
   ]
  },
  {
   "cell_type": "code",
   "execution_count": 131,
   "metadata": {},
   "outputs": [],
   "source": [
    "X = pad_sequences(X, padding='post', maxlen=max_len)\n",
    "y = pad_sequences(y, padding='post', maxlen=max_len)\n",
    "X_train, X_test, y_train, y_test = train_test_split(X, y, test_size=.2, random_state=777)\n",
    "y_train = to_categorical(y_train, num_classes=tag_size)\n",
    "y_test = to_categorical(y_test, num_classes=tag_size)"
   ]
  },
  {
   "cell_type": "code",
   "execution_count": 48,
   "metadata": {},
   "outputs": [
    {
     "data": {
      "image/png": "[encoded data removed]",
      "text/plain": [
       "<IPython.core.display.Image object>"
      ]
     },
     "execution_count": 48,
     "metadata": {},
     "output_type": "execute_result"
    }
   ],
   "source": [
    "model2 = Sequential()\n",
    "model2.add(Embedding(vocab_size, 128, input_length=max_len, mask_zero=True))\n",
    "model2.add(Bidirectional(LSTM(256, return_sequences=True)))\n",
    "model2.add(TimeDistributed(Dense(tag_size, activation=('softmax'))))\n",
    "model2.compile(loss='categorical_crossentropy', optimizer=Adam(0.001), metrics=['accuracy'])\n",
    "plot_model(model2, to_file='model_plot.png', show_shapes=True, show_layer_names=True)"
   ]
  },
  {
   "cell_type": "code",
   "execution_count": 203,
   "metadata": {
    "scrolled": true
   },
   "outputs": [
    {
     "name": "stdout",
     "output_type": "stream",
     "text": [
      "Epoch 1/50\n",
      "5/5 [==============================] - 12s 2s/step - loss: 1.0486 - accuracy: 0.5064 - val_loss: 0.8499 - val_accuracy: 0.8750\n",
      "Epoch 2/50\n",
      "5/5 [==============================] - 6s 1s/step - loss: 0.7547 - accuracy: 0.8724 - val_loss: 0.4309 - val_accuracy: 0.8750\n",
      "Epoch 3/50\n",
      "5/5 [==============================] - 6s 1s/step - loss: 0.4056 - accuracy: 0.8721 - val_loss: 0.3150 - val_accuracy: 0.8750\n",
      "Epoch 4/50\n",
      "5/5 [==============================] - 6s 1s/step - loss: 0.3207 - accuracy: 0.8753 - val_loss: 0.2615 - val_accuracy: 0.8750\n",
      "Epoch 5/50\n",
      "5/5 [==============================] - 6s 1s/step - loss: 0.2696 - accuracy: 0.8750 - val_loss: 0.2529 - val_accuracy: 0.8750\n",
      "Epoch 6/50\n",
      "5/5 [==============================] - 7s 1s/step - loss: 0.2751 - accuracy: 0.8727 - val_loss: 0.2315 - val_accuracy: 0.8750\n",
      "Epoch 7/50\n",
      "5/5 [==============================] - 7s 1s/step - loss: 0.2582 - accuracy: 0.8709 - val_loss: 0.2270 - val_accuracy: 0.8750\n",
      "Epoch 8/50\n",
      "5/5 [==============================] - 7s 1s/step - loss: 0.2558 - accuracy: 0.8670 - val_loss: 0.2200 - val_accuracy: 0.8750\n",
      "Epoch 9/50\n",
      "5/5 [==============================] - 7s 1s/step - loss: 0.2277 - accuracy: 0.8731 - val_loss: 0.2158 - val_accuracy: 0.8750\n",
      "Epoch 10/50\n",
      "5/5 [==============================] - 7s 1s/step - loss: 0.2291 - accuracy: 0.8768 - val_loss: 0.2117 - val_accuracy: 0.8750\n",
      "Epoch 11/50\n",
      "5/5 [==============================] - 7s 1s/step - loss: 0.2353 - accuracy: 0.8687 - val_loss: 0.2045 - val_accuracy: 0.8750\n",
      "Epoch 12/50\n",
      "5/5 [==============================] - 7s 1s/step - loss: 0.2249 - accuracy: 0.8698 - val_loss: 0.1991 - val_accuracy: 0.8750\n",
      "Epoch 13/50\n",
      "5/5 [==============================] - 7s 1s/step - loss: 0.2163 - accuracy: 0.8707 - val_loss: 0.1933 - val_accuracy: 0.8750\n",
      "Epoch 14/50\n",
      "5/5 [==============================] - 7s 1s/step - loss: 0.2061 - accuracy: 0.8705 - val_loss: 0.1876 - val_accuracy: 0.8750\n",
      "Epoch 15/50\n",
      "5/5 [==============================] - 7s 1s/step - loss: 0.2125 - accuracy: 0.8673 - val_loss: 0.1791 - val_accuracy: 0.8750\n",
      "Epoch 16/50\n",
      "5/5 [==============================] - 7s 1s/step - loss: 0.1871 - accuracy: 0.8734 - val_loss: 0.1712 - val_accuracy: 0.8750\n",
      "Epoch 17/50\n",
      "5/5 [==============================] - 8s 2s/step - loss: 0.1903 - accuracy: 0.8706 - val_loss: 0.1636 - val_accuracy: 0.8750\n",
      "Epoch 18/50\n",
      "5/5 [==============================] - 8s 2s/step - loss: 0.1705 - accuracy: 0.8764 - val_loss: 0.1559 - val_accuracy: 0.8750\n",
      "Epoch 19/50\n",
      "5/5 [==============================] - 8s 2s/step - loss: 0.1560 - accuracy: 0.8760 - val_loss: 0.1488 - val_accuracy: 0.8742\n",
      "Epoch 20/50\n",
      "5/5 [==============================] - 8s 2s/step - loss: 0.1539 - accuracy: 0.8747 - val_loss: 0.1423 - val_accuracy: 0.8767\n",
      "Epoch 21/50\n",
      "5/5 [==============================] - 8s 2s/step - loss: 0.1414 - accuracy: 0.8771 - val_loss: 0.1368 - val_accuracy: 0.8833\n",
      "Epoch 22/50\n",
      "5/5 [==============================] - 8s 2s/step - loss: 0.1389 - accuracy: 0.8798 - val_loss: 0.1318 - val_accuracy: 0.8924\n",
      "Epoch 23/50\n",
      "5/5 [==============================] - 8s 2s/step - loss: 0.1304 - accuracy: 0.8849 - val_loss: 0.1280 - val_accuracy: 0.8965\n",
      "Epoch 24/50\n",
      "5/5 [==============================] - 9s 2s/step - loss: 0.1358 - accuracy: 0.8887 - val_loss: 0.1252 - val_accuracy: 0.9031\n",
      "Epoch 25/50\n",
      "5/5 [==============================] - 8s 2s/step - loss: 0.1225 - accuracy: 0.8927 - val_loss: 0.1222 - val_accuracy: 0.9040\n",
      "Epoch 26/50\n",
      "5/5 [==============================] - 8s 2s/step - loss: 0.1262 - accuracy: 0.8902 - val_loss: 0.1195 - val_accuracy: 0.9040\n",
      "Epoch 27/50\n",
      "5/5 [==============================] - 8s 2s/step - loss: 0.1136 - accuracy: 0.8994 - val_loss: 0.1172 - val_accuracy: 0.9156\n",
      "Epoch 28/50\n",
      "5/5 [==============================] - 8s 2s/step - loss: 0.1127 - accuracy: 0.9082 - val_loss: 0.1147 - val_accuracy: 0.9205\n",
      "Epoch 29/50\n",
      "5/5 [==============================] - 9s 2s/step - loss: 0.1140 - accuracy: 0.9095 - val_loss: 0.1128 - val_accuracy: 0.9131\n",
      "Epoch 30/50\n",
      "5/5 [==============================] - 9s 2s/step - loss: 0.1075 - accuracy: 0.9109 - val_loss: 0.1095 - val_accuracy: 0.9197\n",
      "Epoch 31/50\n",
      "5/5 [==============================] - 8s 2s/step - loss: 0.1047 - accuracy: 0.9130 - val_loss: 0.1062 - val_accuracy: 0.9263\n",
      "Epoch 32/50\n",
      "5/5 [==============================] - 10s 2s/step - loss: 0.0976 - accuracy: 0.9176 - val_loss: 0.1034 - val_accuracy: 0.9296\n",
      "Epoch 33/50\n",
      "5/5 [==============================] - 9s 2s/step - loss: 0.0989 - accuracy: 0.9192 - val_loss: 0.1007 - val_accuracy: 0.9255\n",
      "Epoch 34/50\n",
      "5/5 [==============================] - 9s 2s/step - loss: 0.0925 - accuracy: 0.9214 - val_loss: 0.0982 - val_accuracy: 0.9288\n",
      "Epoch 35/50\n",
      "5/5 [==============================] - 9s 2s/step - loss: 0.0887 - accuracy: 0.9240 - val_loss: 0.0958 - val_accuracy: 0.9338\n",
      "Epoch 36/50\n",
      "5/5 [==============================] - 10s 2s/step - loss: 0.0903 - accuracy: 0.9263 - val_loss: 0.0938 - val_accuracy: 0.9379\n",
      "Epoch 37/50\n",
      "5/5 [==============================] - 10s 2s/step - loss: 0.0872 - accuracy: 0.9295 - val_loss: 0.0904 - val_accuracy: 0.9363\n",
      "Epoch 38/50\n",
      "5/5 [==============================] - 9s 2s/step - loss: 0.0831 - accuracy: 0.9305 - val_loss: 0.0887 - val_accuracy: 0.9421\n",
      "Epoch 39/50\n",
      "5/5 [==============================] - 9s 2s/step - loss: 0.0768 - accuracy: 0.9354 - val_loss: 0.0851 - val_accuracy: 0.9478\n",
      "Epoch 40/50\n",
      "5/5 [==============================] - 10s 2s/step - loss: 0.0742 - accuracy: 0.9387 - val_loss: 0.0827 - val_accuracy: 0.9503\n",
      "Epoch 41/50\n",
      "5/5 [==============================] - 10s 2s/step - loss: 0.0715 - accuracy: 0.9401 - val_loss: 0.0812 - val_accuracy: 0.9512\n",
      "Epoch 42/50\n",
      "5/5 [==============================] - 9s 2s/step - loss: 0.0649 - accuracy: 0.9452 - val_loss: 0.0804 - val_accuracy: 0.9503\n",
      "Epoch 43/50\n",
      "5/5 [==============================] - 9s 2s/step - loss: 0.0637 - accuracy: 0.9466 - val_loss: 0.0788 - val_accuracy: 0.9528\n",
      "Epoch 44/50\n",
      "5/5 [==============================] - 9s 2s/step - loss: 0.0592 - accuracy: 0.9484 - val_loss: 0.0768 - val_accuracy: 0.9512\n",
      "Epoch 45/50\n",
      "5/5 [==============================] - 9s 2s/step - loss: 0.0560 - accuracy: 0.9528 - val_loss: 0.0756 - val_accuracy: 0.9553\n",
      "Epoch 46/50\n",
      "5/5 [==============================] - 9s 2s/step - loss: 0.0560 - accuracy: 0.9517 - val_loss: 0.0745 - val_accuracy: 0.9536\n",
      "Epoch 47/50\n",
      "5/5 [==============================] - 9s 2s/step - loss: 0.0540 - accuracy: 0.9544 - val_loss: 0.0736 - val_accuracy: 0.9578\n",
      "Epoch 48/50\n",
      "5/5 [==============================] - 9s 2s/step - loss: 0.0499 - accuracy: 0.9566 - val_loss: 0.0713 - val_accuracy: 0.9586\n",
      "Epoch 49/50\n",
      "5/5 [==============================] - 9s 2s/step - loss: 0.0482 - accuracy: 0.9593 - val_loss: 0.0702 - val_accuracy: 0.9561\n",
      "Epoch 50/50\n",
      "5/5 [==============================] - 9s 2s/step - loss: 0.0448 - accuracy: 0.9627 - val_loss: 0.0719 - val_accuracy: 0.9553\n"
     ]
    }
   ],
   "source": [
    "\n",
    "\n",
    "\n",
    "\n",
    "history2 = model2.fit(X_train, y_train, batch_size=128, epochs=50,  validation_split=0.1)#, callbacks=[F1score(use_char=False)])\n"
   ]
  },
  {
   "cell_type": "code",
   "execution_count": null,
   "metadata": {},
   "outputs": [],
   "source": []
  },
  {
   "cell_type": "code",
   "execution_count": 205,
   "metadata": {},
   "outputs": [
    {
     "name": "stderr",
     "output_type": "stream",
     "text": [
      "WARNING:absl:Found untraced functions such as lstm_cell_58_layer_call_fn, lstm_cell_58_layer_call_and_return_conditional_losses, lstm_cell_59_layer_call_fn, lstm_cell_59_layer_call_and_return_conditional_losses, lstm_cell_58_layer_call_fn while saving (showing 5 of 10). These functions will not be directly callable after loading.\n",
      "WARNING:absl:Found untraced functions such as lstm_cell_58_layer_call_fn, lstm_cell_58_layer_call_and_return_conditional_losses, lstm_cell_59_layer_call_fn, lstm_cell_59_layer_call_and_return_conditional_losses, lstm_cell_58_layer_call_fn while saving (showing 5 of 10). These functions will not be directly callable after loading.\n"
     ]
    },
    {
     "name": "stdout",
     "output_type": "stream",
     "text": [
      "INFO:tensorflow:Assets written to: C:\\Users\\Samsung\\jupyter\\Project_Deep_learning_2020\\data\\NER\\model\\LSTM\\assets\n"
     ]
    },
    {
     "name": "stderr",
     "output_type": "stream",
     "text": [
      "INFO:tensorflow:Assets written to: C:\\Users\\Samsung\\jupyter\\Project_Deep_learning_2020\\data\\NER\\model\\LSTM\\assets\n"
     ]
    }
   ],
   "source": [
    "tf.keras.models.save_model(model2, r'C:\\Users\\Samsung\\jupyter\\Project_Deep_learning_2020\\data\\NER\\model\\LSTM')"
   ]
  },
  {
   "cell_type": "code",
   "execution_count": 206,
   "metadata": {},
   "outputs": [
    {
     "name": "stdout",
     "output_type": "stream",
     "text": [
      "5/5 [==============================] - 1s 145ms/step - loss: 0.0982 - accuracy: 0.9272\n"
     ]
    },
    {
     "data": {
      "text/plain": [
       "0.9271889328956604"
      ]
     },
     "execution_count": 206,
     "metadata": {},
     "output_type": "execute_result"
    }
   ],
   "source": [
    "loss_,accu_= model2.evaluate(X_test,y_test)\n",
    "y_pred = model2.predict(X_test)\n",
    "accu_"
   ]
  },
  {
   "cell_type": "code",
   "execution_count": null,
   "metadata": {},
   "outputs": [],
   "source": []
  },
  {
   "cell_type": "code",
   "execution_count": 211,
   "metadata": {},
   "outputs": [
    {
     "data": {
      "image/png": "[encoded data removed]",
      "text/plain": [
       "<Figure size 864x864 with 2 Axes>"
      ]
     },
     "metadata": {
      "needs_background": "light"
     },
     "output_type": "display_data"
    }
   ],
   "source": [
    "hist2 = plot_history2(history2)"
   ]
  },
  {
   "cell_type": "code",
   "execution_count": 212,
   "metadata": {},
   "outputs": [
    {
     "data": {
      "text/html": [
       "<div>\n",
       "<style scoped>\n",
       "    .dataframe tbody tr th:only-of-type {\n",
       "        vertical-align: middle;\n",
       "    }\n",
       "\n",
       "    .dataframe tbody tr th {\n",
       "        vertical-align: top;\n",
       "    }\n",
       "\n",
       "    .dataframe thead th {\n",
       "        text-align: right;\n",
       "    }\n",
       "</style>\n",
       "<table border=\"1\" class=\"dataframe\">\n",
       "  <thead>\n",
       "    <tr style=\"text-align: right;\">\n",
       "      <th></th>\n",
       "      <th>loss</th>\n",
       "      <th>accuracy</th>\n",
       "      <th>val_loss</th>\n",
       "      <th>val_accuracy</th>\n",
       "      <th>epoch</th>\n",
       "    </tr>\n",
       "  </thead>\n",
       "  <tbody>\n",
       "    <tr>\n",
       "      <th>45</th>\n",
       "      <td>0.054804</td>\n",
       "      <td>0.952502</td>\n",
       "      <td>0.074533</td>\n",
       "      <td>0.953642</td>\n",
       "      <td>45</td>\n",
       "    </tr>\n",
       "    <tr>\n",
       "      <th>46</th>\n",
       "      <td>0.052223</td>\n",
       "      <td>0.955391</td>\n",
       "      <td>0.073617</td>\n",
       "      <td>0.957781</td>\n",
       "      <td>46</td>\n",
       "    </tr>\n",
       "    <tr>\n",
       "      <th>47</th>\n",
       "      <td>0.049852</td>\n",
       "      <td>0.957770</td>\n",
       "      <td>0.071322</td>\n",
       "      <td>0.958609</td>\n",
       "      <td>47</td>\n",
       "    </tr>\n",
       "    <tr>\n",
       "      <th>48</th>\n",
       "      <td>0.047219</td>\n",
       "      <td>0.959300</td>\n",
       "      <td>0.070208</td>\n",
       "      <td>0.956126</td>\n",
       "      <td>48</td>\n",
       "    </tr>\n",
       "    <tr>\n",
       "      <th>49</th>\n",
       "      <td>0.044651</td>\n",
       "      <td>0.960914</td>\n",
       "      <td>0.071925</td>\n",
       "      <td>0.955298</td>\n",
       "      <td>49</td>\n",
       "    </tr>\n",
       "  </tbody>\n",
       "</table>\n",
       "</div>"
      ],
      "text/plain": [
       "        loss  accuracy  val_loss  val_accuracy  epoch\n",
       "45  0.054804  0.952502  0.074533      0.953642     45\n",
       "46  0.052223  0.955391  0.073617      0.957781     46\n",
       "47  0.049852  0.957770  0.071322      0.958609     47\n",
       "48  0.047219  0.959300  0.070208      0.956126     48\n",
       "49  0.044651  0.960914  0.071925      0.955298     49"
      ]
     },
     "execution_count": 212,
     "metadata": {},
     "output_type": "execute_result"
    }
   ],
   "source": [
    "hist2.tail()"
   ]
  },
  {
   "cell_type": "code",
   "execution_count": 219,
   "metadata": {
    "scrolled": true
   },
   "outputs": [
    {
     "name": "stdout",
     "output_type": "stream",
     "text": [
      "target:  54\n",
      "단어             |실제값  |예측값\n",
      "-----------------------------------\n",
      "(                : O       O\n",
      "노이즈              : B-NC    B-NC\n",
      "켄                : I-NC    O\n",
      "슬링               : I-NC    I-NC\n",
      ")                : O       O\n",
      "생각               : O       O\n",
      "보다               : O       O\n",
      "차단               : B-NC    B-DE\n",
      "이                : O       O\n",
      "100              : O       O\n",
      "프로               : O       I-SQ\n",
      "안되다              : O       O\n",
      ".                : O       O\n",
      "바깥               : O       O\n",
      "소리               : O       O\n",
      "가                : O       O\n",
      "웅웅               : O       O\n",
      "울리다              : O       O\n",
      "들리다              : O       O\n",
      ".                : O       O\n",
      "==================================\n",
      "target:  20\n",
      "단어             |실제값  |예측값\n",
      "-----------------------------------\n",
      "안좋다              : O       O\n",
      "==================================\n",
      "target:  100\n",
      "단어             |실제값  |예측값\n",
      "-----------------------------------\n",
      "뚜껑               : B-CA    B-COM\n",
      "만                : O       O\n",
      "열                : O       O\n",
      "어도               : O       O\n",
      "연결               : B-PAR   B-COM\n",
      "잘                : O       O\n",
      "되다               : O       O\n",
      ".                : O       O\n",
      "==================================\n",
      "target:  22\n",
      "단어             |실제값  |예측값\n",
      "-----------------------------------\n",
      "음질               : B-SQ    B-SQ\n",
      "대단하다             : O       O\n",
      "훌륭하다             : O       O\n",
      "같다               : O       O\n",
      ".                : O       O\n",
      "==================================\n",
      "target:  25\n",
      "단어             |실제값  |예측값\n",
      "-----------------------------------\n",
      "버즈               : B-TK    O\n",
      "보다               : O       O\n",
      "소음               : B-NC    B-NC\n",
      "조금               : O       O\n",
      "잡다               : O       O\n",
      "귀엽다              : B-DE    B-DE\n",
      "강낭콩              : B-DE    I-DE\n",
      "모양               : I-DE    I-DE\n",
      "에                : O       O\n",
      "==================================\n",
      "target:  150\n",
      "단어             |실제값  |예측값\n",
      "-----------------------------------\n",
      "⭐️               : O       O\n",
      "애플               : O       O\n",
      "기기               : O       O\n",
      "와의               : O       O\n",
      "호환성              : B-CMP   B-DE\n",
      "?:               : O       I-SQ\n",
      "==================================\n",
      "target:  40\n",
      "단어             |실제값  |예측값\n",
      "-----------------------------------\n",
      "ps               : O       O\n",
      "8                : O       O\n",
      ":                : O       O\n",
      "갠                : O       O\n",
      "적                : O       O\n",
      "으로               : O       O\n",
      "삼성               : O       O\n",
      "이                : O       O\n",
      "인수               : O       O\n",
      "한                : O       O\n",
      "음향               : B-SQ    B-SQ\n",
      "장비               : O       O\n",
      "회사               : O       O\n",
      "하만카돈             : O       O\n",
      "의                : O       O\n",
      "계                : O       O\n",
      "열사               : O       O\n",
      "베이스              : B-SQ    B-SQ\n",
      "들                : O       O\n",
      "을                : O       O\n",
      "좋아하다             : O       O\n",
      "(                : O       O\n",
      "akg              : B-SQ    B-SQ\n",
      ",                : O       O\n",
      "jbl              : B-COM   O\n",
      ")                : O       O\n",
      "풍부하다             : B-SQ    B-SQ\n",
      "저음               : B-SQ    I-SQ\n",
      "에도               : O       O\n",
      "돌                : O       O\n",
      "굴러가다             : O       O\n",
      "소리               : B-SQ    I-SQ\n",
      "저                : O       O\n",
      "음부               : O       O\n",
      "의                : O       O\n",
      "고음               : B-SQ    B-SQ\n",
      "부분               : O       O\n",
      "도                : O       O\n",
      "자다               : O       O\n",
      "캐치               : B-SQ    O\n",
      "하다               : O       O\n",
      "표현               : O       O\n",
      "함                : O       O\n",
      ".                : O       O\n",
      "그리고              : O       O\n",
      "이                : O       O\n",
      "브랜드              : O       O\n",
      "들                : O       O\n",
      "이                : O       O\n",
      "저                : O       O\n",
      "음부               : O       O\n",
      "의                : O       O\n",
      "공간               : O       B-SQ\n",
      "감                : O       O\n",
      ",                : O       O\n",
      "타                : B-SQ    B-SQ\n",
      "격감               : I-SQ    I-SQ\n",
      "이                : O       O\n",
      "우수하다             : O       O\n",
      ".                : O       O\n",
      "==================================\n"
     ]
    }
   ],
   "source": [
    "for i in [54,20,100,22,25,150,40]:\n",
    "    y_predicted = model2.predict(np.array([X_test[i]])) # 입력한 테스트용 샘플에 대해서 예측 y를 리턴\n",
    "    y_predicted = np.argmax(y_predicted, axis=-1) # 원-핫 인코딩을 다시 정수 인코딩으로 변경함.\n",
    "    true = np.argmax(y_test[i], -1) # 원-핫 인코딩을 다시 정수 인코딩으로 변경함.\n",
    "    print(\"target: \",i)\n",
    "    print(\"{:15}|{:5}|{}\".format(\"단어\", \"실제값\", \"예측값\"))\n",
    "    print(35 * \"-\")\n",
    "\n",
    "    for w, t, pred in zip(X_test[i], true, y_predicted[0]):\n",
    "        if w != 0: # PAD값은 제외함.\n",
    "            print(\"{:17}: {:7} {}\".format(index_to_word[w], index_to_ner[t], index_to_ner[pred]))\n",
    "    print(\"==================================\")"
   ]
  },
  {
   "cell_type": "code",
   "execution_count": 132,
   "metadata": {},
   "outputs": [],
   "source": [
    "f1score = F1score()\n",
    "\n",
    "y_predicted = model2.predict([X_test])\n",
    "pred_tags = f1score.sequences_to_tags(y_predicted)\n",
    "test_tags = f1score.sequences_to_tags(y_test)"
   ]
  },
  {
   "cell_type": "code",
   "execution_count": 133,
   "metadata": {
    "scrolled": true
   },
   "outputs": [
    {
     "data": {
      "text/plain": [
       "array([[[0.03046859, 0.03032652, 0.02999104, ..., 0.03016053,\n",
       "         0.03024398, 0.03019759],\n",
       "        [0.03012526, 0.0302436 , 0.03006522, ..., 0.03029002,\n",
       "         0.03017601, 0.03022243],\n",
       "        [0.0300211 , 0.03038581, 0.03009569, ..., 0.03007861,\n",
       "         0.0303952 , 0.03028714],\n",
       "        ...,\n",
       "        [0.03030303, 0.03030303, 0.03030303, ..., 0.03030303,\n",
       "         0.03030303, 0.03030303],\n",
       "        [0.03030303, 0.03030303, 0.03030303, ..., 0.03030303,\n",
       "         0.03030303, 0.03030303],\n",
       "        [0.03030303, 0.03030303, 0.03030303, ..., 0.03030303,\n",
       "         0.03030303, 0.03030303]],\n",
       "\n",
       "       [[0.0302997 , 0.03027827, 0.03034431, ..., 0.03015583,\n",
       "         0.03035885, 0.03028188],\n",
       "        [0.03046917, 0.03026876, 0.03053729, ..., 0.03027705,\n",
       "         0.03036135, 0.03027155],\n",
       "        [0.03066705, 0.03022236, 0.03043394, ..., 0.03029709,\n",
       "         0.03041087, 0.0303925 ],\n",
       "        ...,\n",
       "        [0.03030303, 0.03030303, 0.03030303, ..., 0.03030303,\n",
       "         0.03030303, 0.03030303],\n",
       "        [0.03030303, 0.03030303, 0.03030303, ..., 0.03030303,\n",
       "         0.03030303, 0.03030303],\n",
       "        [0.03030303, 0.03030303, 0.03030303, ..., 0.03030303,\n",
       "         0.03030303, 0.03030303]],\n",
       "\n",
       "       [[0.03031866, 0.03026513, 0.03042712, ..., 0.03022302,\n",
       "         0.03056029, 0.03020874],\n",
       "        [0.03038205, 0.03025463, 0.03044198, ..., 0.03037922,\n",
       "         0.03050325, 0.03023063],\n",
       "        [0.03019156, 0.03016767, 0.03036998, ..., 0.03020191,\n",
       "         0.03037768, 0.03002547],\n",
       "        ...,\n",
       "        [0.03030303, 0.03030303, 0.03030303, ..., 0.03030303,\n",
       "         0.03030303, 0.03030303],\n",
       "        [0.03030303, 0.03030303, 0.03030303, ..., 0.03030303,\n",
       "         0.03030303, 0.03030303],\n",
       "        [0.03030303, 0.03030303, 0.03030303, ..., 0.03030303,\n",
       "         0.03030303, 0.03030303]],\n",
       "\n",
       "       ...,\n",
       "\n",
       "       [[0.03019909, 0.03042676, 0.03013542, ..., 0.02982963,\n",
       "         0.03048185, 0.03006857],\n",
       "        [0.03038522, 0.03041914, 0.03019644, ..., 0.03020006,\n",
       "         0.03030102, 0.02993658],\n",
       "        [0.03028536, 0.03025272, 0.02996482, ..., 0.03018245,\n",
       "         0.03039671, 0.02990789],\n",
       "        ...,\n",
       "        [0.03030303, 0.03030303, 0.03030303, ..., 0.03030303,\n",
       "         0.03030303, 0.03030303],\n",
       "        [0.03030303, 0.03030303, 0.03030303, ..., 0.03030303,\n",
       "         0.03030303, 0.03030303],\n",
       "        [0.03030303, 0.03030303, 0.03030303, ..., 0.03030303,\n",
       "         0.03030303, 0.03030303]],\n",
       "\n",
       "       [[0.03023957, 0.03030449, 0.03028491, ..., 0.03039768,\n",
       "         0.03016574, 0.03049158],\n",
       "        [0.03039118, 0.03044523, 0.03039281, ..., 0.03028492,\n",
       "         0.03028452, 0.03047449],\n",
       "        [0.03032685, 0.03039391, 0.0303226 , ..., 0.03019597,\n",
       "         0.0301116 , 0.03036625],\n",
       "        ...,\n",
       "        [0.03030303, 0.03030303, 0.03030303, ..., 0.03030303,\n",
       "         0.03030303, 0.03030303],\n",
       "        [0.03030303, 0.03030303, 0.03030303, ..., 0.03030303,\n",
       "         0.03030303, 0.03030303],\n",
       "        [0.03030303, 0.03030303, 0.03030303, ..., 0.03030303,\n",
       "         0.03030303, 0.03030303]],\n",
       "\n",
       "       [[0.03004867, 0.03041569, 0.03051027, ..., 0.03016496,\n",
       "         0.03005892, 0.03002775],\n",
       "        [0.03028476, 0.03044808, 0.03047065, ..., 0.03018339,\n",
       "         0.03005766, 0.02995361],\n",
       "        [0.03043321, 0.03038029, 0.03062411, ..., 0.03013739,\n",
       "         0.03015709, 0.02984927],\n",
       "        ...,\n",
       "        [0.03030303, 0.03030303, 0.03030303, ..., 0.03030303,\n",
       "         0.03030303, 0.03030303],\n",
       "        [0.03030303, 0.03030303, 0.03030303, ..., 0.03030303,\n",
       "         0.03030303, 0.03030303],\n",
       "        [0.03030303, 0.03030303, 0.03030303, ..., 0.03030303,\n",
       "         0.03030303, 0.03030303]]], dtype=float32)"
      ]
     },
     "execution_count": 133,
     "metadata": {},
     "output_type": "execute_result"
    }
   ],
   "source": [
    "y_predicted"
   ]
  },
  {
   "cell_type": "code",
   "execution_count": 134,
   "metadata": {
    "scrolled": true
   },
   "outputs": [
    {
     "data": {
      "text/plain": [
       "array([[[0., 1., 0., ..., 0., 0., 0.],\n",
       "        [0., 1., 0., ..., 0., 0., 0.],\n",
       "        [0., 1., 0., ..., 0., 0., 0.],\n",
       "        ...,\n",
       "        [1., 0., 0., ..., 0., 0., 0.],\n",
       "        [1., 0., 0., ..., 0., 0., 0.],\n",
       "        [1., 0., 0., ..., 0., 0., 0.]],\n",
       "\n",
       "       [[0., 1., 0., ..., 0., 0., 0.],\n",
       "        [0., 1., 0., ..., 0., 0., 0.],\n",
       "        [0., 1., 0., ..., 0., 0., 0.],\n",
       "        ...,\n",
       "        [1., 0., 0., ..., 0., 0., 0.],\n",
       "        [1., 0., 0., ..., 0., 0., 0.],\n",
       "        [1., 0., 0., ..., 0., 0., 0.]],\n",
       "\n",
       "       [[0., 0., 0., ..., 0., 0., 0.],\n",
       "        [0., 1., 0., ..., 0., 0., 0.],\n",
       "        [0., 0., 0., ..., 0., 0., 0.],\n",
       "        ...,\n",
       "        [1., 0., 0., ..., 0., 0., 0.],\n",
       "        [1., 0., 0., ..., 0., 0., 0.],\n",
       "        [1., 0., 0., ..., 0., 0., 0.]],\n",
       "\n",
       "       ...,\n",
       "\n",
       "       [[0., 0., 0., ..., 0., 0., 0.],\n",
       "        [0., 0., 0., ..., 0., 0., 0.],\n",
       "        [0., 1., 0., ..., 0., 0., 0.],\n",
       "        ...,\n",
       "        [1., 0., 0., ..., 0., 0., 0.],\n",
       "        [1., 0., 0., ..., 0., 0., 0.],\n",
       "        [1., 0., 0., ..., 0., 0., 0.]],\n",
       "\n",
       "       [[0., 1., 0., ..., 0., 0., 0.],\n",
       "        [0., 1., 0., ..., 0., 0., 0.],\n",
       "        [0., 1., 0., ..., 0., 0., 0.],\n",
       "        ...,\n",
       "        [1., 0., 0., ..., 0., 0., 0.],\n",
       "        [1., 0., 0., ..., 0., 0., 0.],\n",
       "        [1., 0., 0., ..., 0., 0., 0.]],\n",
       "\n",
       "       [[0., 1., 0., ..., 0., 0., 0.],\n",
       "        [0., 1., 0., ..., 0., 0., 0.],\n",
       "        [0., 1., 0., ..., 0., 0., 0.],\n",
       "        ...,\n",
       "        [1., 0., 0., ..., 0., 0., 0.],\n",
       "        [1., 0., 0., ..., 0., 0., 0.],\n",
       "        [1., 0., 0., ..., 0., 0., 0.]]], dtype=float32)"
      ]
     },
     "execution_count": 134,
     "metadata": {},
     "output_type": "execute_result"
    }
   ],
   "source": [
    "y_test"
   ]
  },
  {
   "cell_type": "code",
   "execution_count": 103,
   "metadata": {
    "scrolled": true
   },
   "outputs": [
    {
     "data": {
      "text/plain": [
       "['B-PR',\n",
       " 'B-AS',\n",
       " 'B-AS',\n",
       " 'I-CMP',\n",
       " 'O',\n",
       " 'O',\n",
       " 'O',\n",
       " 'O',\n",
       " 'O',\n",
       " 'O',\n",
       " 'O',\n",
       " 'O',\n",
       " 'O',\n",
       " 'O',\n",
       " 'O',\n",
       " 'O',\n",
       " 'O',\n",
       " 'O',\n",
       " 'O',\n",
       " 'O',\n",
       " 'O',\n",
       " 'O',\n",
       " 'O',\n",
       " 'O',\n",
       " 'O',\n",
       " 'O',\n",
       " 'O',\n",
       " 'O',\n",
       " 'O',\n",
       " 'O',\n",
       " 'O',\n",
       " 'O',\n",
       " 'O',\n",
       " 'O',\n",
       " 'O',\n",
       " 'O',\n",
       " 'O',\n",
       " 'O',\n",
       " 'O',\n",
       " 'O',\n",
       " 'O',\n",
       " 'O',\n",
       " 'O',\n",
       " 'O',\n",
       " 'O',\n",
       " 'O',\n",
       " 'O',\n",
       " 'O',\n",
       " 'O',\n",
       " 'O',\n",
       " 'O',\n",
       " 'O',\n",
       " 'O',\n",
       " 'O',\n",
       " 'O',\n",
       " 'O',\n",
       " 'O',\n",
       " 'O',\n",
       " 'O',\n",
       " 'O',\n",
       " 'O',\n",
       " 'O',\n",
       " 'O',\n",
       " 'O',\n",
       " 'O',\n",
       " 'O',\n",
       " 'O',\n",
       " 'O',\n",
       " 'O',\n",
       " 'O']"
      ]
     },
     "execution_count": 103,
     "metadata": {},
     "output_type": "execute_result"
    }
   ],
   "source": [
    "pred_tags[0]"
   ]
  },
  {
   "cell_type": "code",
   "execution_count": 104,
   "metadata": {
    "scrolled": true
   },
   "outputs": [
    {
     "data": {
      "text/plain": [
       "['O',\n",
       " 'O',\n",
       " 'O',\n",
       " 'O',\n",
       " 'O',\n",
       " 'O',\n",
       " 'O',\n",
       " 'O',\n",
       " 'O',\n",
       " 'O',\n",
       " 'O',\n",
       " 'O',\n",
       " 'O',\n",
       " 'O',\n",
       " 'O',\n",
       " 'O',\n",
       " 'O',\n",
       " 'O',\n",
       " 'O',\n",
       " 'O',\n",
       " 'O',\n",
       " 'O',\n",
       " 'O',\n",
       " 'O',\n",
       " 'O',\n",
       " 'O',\n",
       " 'O',\n",
       " 'O',\n",
       " 'O',\n",
       " 'O',\n",
       " 'O',\n",
       " 'O',\n",
       " 'O',\n",
       " 'O',\n",
       " 'O',\n",
       " 'O',\n",
       " 'O',\n",
       " 'O',\n",
       " 'O',\n",
       " 'O',\n",
       " 'O',\n",
       " 'O',\n",
       " 'O',\n",
       " 'O',\n",
       " 'O',\n",
       " 'O',\n",
       " 'O',\n",
       " 'O',\n",
       " 'O',\n",
       " 'O',\n",
       " 'O',\n",
       " 'O',\n",
       " 'O',\n",
       " 'O',\n",
       " 'O',\n",
       " 'O',\n",
       " 'O',\n",
       " 'O',\n",
       " 'O',\n",
       " 'O',\n",
       " 'O',\n",
       " 'O',\n",
       " 'O',\n",
       " 'O',\n",
       " 'O',\n",
       " 'O',\n",
       " 'O',\n",
       " 'O',\n",
       " 'O',\n",
       " 'O']"
      ]
     },
     "execution_count": 104,
     "metadata": {},
     "output_type": "execute_result"
    }
   ],
   "source": [
    "test_tags[0]"
   ]
  },
  {
   "cell_type": "code",
   "execution_count": 86,
   "metadata": {},
   "outputs": [
    {
     "data": {
      "text/plain": [
       "(70, 70)"
      ]
     },
     "execution_count": 86,
     "metadata": {},
     "output_type": "execute_result"
    }
   ],
   "source": [
    "len(pred_tags[0]),len(test_tags[0])"
   ]
  },
  {
   "cell_type": "code",
   "execution_count": 75,
   "metadata": {},
   "outputs": [
    {
     "data": {
      "text/plain": [
       "(156, 156)"
      ]
     },
     "execution_count": 75,
     "metadata": {},
     "output_type": "execute_result"
    }
   ],
   "source": [
    "len(np.array(test_tags)),len(np.array(pred_tags))"
   ]
  },
  {
   "cell_type": "code",
   "execution_count": 70,
   "metadata": {},
   "outputs": [
    {
     "name": "stdout",
     "output_type": "stream",
     "text": [
      "              precision    recall  f1-score   support\n",
      "\n",
      "          AS       0.00      0.00      0.00         3\n",
      "         BAT       0.00      0.00      0.00        11\n",
      "          CA       0.00      0.00      0.00         7\n",
      "         CAQ       0.00      0.00      0.00        10\n",
      "         CMP       0.01      0.07      0.01        15\n",
      "         CNV       0.00      0.00      0.00         7\n",
      "         COM       0.01      0.11      0.03        27\n",
      "          DE       0.01      0.03      0.01        40\n",
      "          FA       0.00      0.00      0.00         3\n",
      "         FIT       0.01      0.02      0.01        96\n",
      "          NC       0.00      0.00      0.00        27\n",
      "         PAR       0.01      0.07      0.01        15\n",
      "          PR       0.00      0.00      0.00         9\n",
      "          SQ       0.02      0.04      0.02        51\n",
      "          TK       0.00      0.00      0.00         7\n",
      "         WEI       0.00      0.00      0.00         3\n",
      "\n",
      "   micro avg       0.00      0.03      0.01       331\n",
      "   macro avg       0.00      0.02      0.01       331\n",
      "weighted avg       0.01      0.03      0.01       331\n",
      "\n"
     ]
    }
   ],
   "source": [
    "print(classification_report(test_tags, pred_tags))"
   ]
  },
  {
   "cell_type": "markdown",
   "metadata": {},
   "source": [
    "# LSTM-CRF"
   ]
  },
  {
   "cell_type": "code",
   "execution_count": 135,
   "metadata": {},
   "outputs": [],
   "source": [
    "X = pad_sequences(X, padding='post', maxlen=max_len)\n",
    "y = pad_sequences(y, padding='post', maxlen=max_len)\n",
    "X_train, X_test, y_train, y_test = train_test_split(X, y, test_size=.2, random_state=777)"
   ]
  },
  {
   "cell_type": "code",
   "execution_count": 57,
   "metadata": {},
   "outputs": [
    {
     "data": {
      "image/png": "[encoded data removed]",
      "text/plain": [
       "<IPython.core.display.Image object>"
      ]
     },
     "execution_count": 57,
     "metadata": {},
     "output_type": "execute_result"
    }
   ],
   "source": [
    "inputs = Input(shape=(70,), dtype='int32')\n",
    "output = Embedding(vocab_size, 128, input_length=max_len, mask_zero=True)(inputs)\n",
    "output = Bidirectional(LSTM(256, return_sequences=True))(output)\n",
    "output = Dense(tag_size, activation=None)(output)\n",
    "crf = CRF(dtype='float32')\n",
    "output = crf(output)\n",
    "base_model = Model(inputs, output)\n",
    "#model = ModelWithCRFLoss(base_model)\n",
    "#model.compile(optimizer='adam', metrics=['accuracy'])\n",
    "plot_model(base_model, to_file='model_plot.png', show_shapes=True, show_layer_names=True)"
   ]
  },
  {
   "cell_type": "code",
   "execution_count": 106,
   "metadata": {},
   "outputs": [
    {
     "name": "stderr",
     "output_type": "stream",
     "text": [
      "C:\\Users\\Samsung\\AppData\\Roaming\\Python\\Python37\\site-packages\\tensorflow\\python\\autograph\\impl\\api.py:390: UserWarning:\n",
      "\n",
      "CRF Decoding does not work with KerasTensors in TF2.4. The bug has since been fixed in tensorflow/tensorflow##45534\n",
      "\n"
     ]
    },
    {
     "data": {
      "image/png": "[encoded data removed]",
      "text/plain": [
       "<IPython.core.display.Image object>"
      ]
     },
     "execution_count": 106,
     "metadata": {},
     "output_type": "execute_result"
    }
   ],
   "source": [
    "inputs = Input(shape=(70,), dtype='int32')\n",
    "output = Embedding(vocab_size, 128, input_length=max_len, mask_zero=True)(inputs)\n",
    "output = Bidirectional(LSTM(256, return_sequences=True))(output)\n",
    "output = Dense(tag_size, activation=None)(output)\n",
    "crf = CRF(dtype='float32')\n",
    "output = crf(output)\n",
    "base_model = Model(inputs, output)\n",
    "model = ModelWithCRFLoss(base_model)\n",
    "model.compile(optimizer='adam', metrics=['accuracy'])\n",
    "plot_model(model3, to_file='model_plot.png', show_shapes=True, show_layer_names=True)"
   ]
  },
  {
   "cell_type": "code",
   "execution_count": 107,
   "metadata": {
    "scrolled": true
   },
   "outputs": [
    {
     "name": "stdout",
     "output_type": "stream",
     "text": [
      "Epoch 1/50\n",
      "5/5 [==============================] - 12s 1s/step - crf_loss: 74.8503 - accuracy: 0.0036 - val_crf_loss_val: 61.7564 - val_val_accuracy: 0.3560\n",
      "Epoch 2/50\n",
      "5/5 [==============================] - 3s 630ms/step - crf_loss: 44.2406 - accuracy: 0.6853 - val_crf_loss_val: 31.5190 - val_val_accuracy: 0.8452\n",
      "Epoch 3/50\n",
      "5/5 [==============================] - 3s 654ms/step - crf_loss: 32.3711 - accuracy: 0.8629 - val_crf_loss_val: 22.0080 - val_val_accuracy: 0.8692\n",
      "Epoch 4/50\n",
      "5/5 [==============================] - 3s 668ms/step - crf_loss: 21.9972 - accuracy: 0.8698 - val_crf_loss_val: 19.1482 - val_val_accuracy: 0.8692\n",
      "Epoch 5/50\n",
      "5/5 [==============================] - 4s 711ms/step - crf_loss: 20.7034 - accuracy: 0.8711 - val_crf_loss_val: 17.5346 - val_val_accuracy: 0.8717\n",
      "Epoch 6/50\n",
      "5/5 [==============================] - 4s 792ms/step - crf_loss: 18.4668 - accuracy: 0.8724 - val_crf_loss_val: 16.3431 - val_val_accuracy: 0.8742\n",
      "Epoch 7/50\n",
      "5/5 [==============================] - 5s 1s/step - crf_loss: 17.7141 - accuracy: 0.8725 - val_crf_loss_val: 15.8359 - val_val_accuracy: 0.8742\n",
      "Epoch 8/50\n",
      "5/5 [==============================] - 6s 1s/step - crf_loss: 16.5839 - accuracy: 0.8725 - val_crf_loss_val: 15.3016 - val_val_accuracy: 0.8742\n",
      "Epoch 9/50\n",
      "5/5 [==============================] - 6s 1s/step - crf_loss: 15.6296 - accuracy: 0.8725 - val_crf_loss_val: 15.0032 - val_val_accuracy: 0.8742\n",
      "Epoch 10/50\n",
      "5/5 [==============================] - 5s 1s/step - crf_loss: 15.4503 - accuracy: 0.8725 - val_crf_loss_val: 14.5330 - val_val_accuracy: 0.8750\n",
      "Epoch 11/50\n",
      "5/5 [==============================] - 6s 1s/step - crf_loss: 14.6970 - accuracy: 0.8725 - val_crf_loss_val: 14.1012 - val_val_accuracy: 0.8750\n",
      "Epoch 12/50\n",
      "5/5 [==============================] - 6s 1s/step - crf_loss: 14.2078 - accuracy: 0.8725 - val_crf_loss_val: 13.6407 - val_val_accuracy: 0.8750\n",
      "Epoch 13/50\n",
      "5/5 [==============================] - 6s 1s/step - crf_loss: 13.5658 - accuracy: 0.8725 - val_crf_loss_val: 13.1758 - val_val_accuracy: 0.8750\n",
      "Epoch 14/50\n",
      "5/5 [==============================] - 7s 2s/step - crf_loss: 14.2054 - accuracy: 0.8725 - val_crf_loss_val: 12.6228 - val_val_accuracy: 0.8750\n",
      "Epoch 15/50\n",
      "5/5 [==============================] - 7s 1s/step - crf_loss: 14.8171 - accuracy: 0.8721 - val_crf_loss_val: 11.9727 - val_val_accuracy: 0.8750\n",
      "Epoch 16/50\n",
      "5/5 [==============================] - 6s 1s/step - crf_loss: 11.7897 - accuracy: 0.8726 - val_crf_loss_val: 11.3793 - val_val_accuracy: 0.8750\n",
      "Epoch 17/50\n",
      "5/5 [==============================] - 6s 1s/step - crf_loss: 12.0856 - accuracy: 0.8709 - val_crf_loss_val: 10.7175 - val_val_accuracy: 0.8750\n",
      "Epoch 18/50\n",
      "5/5 [==============================] - 6s 1s/step - crf_loss: 10.3800 - accuracy: 0.8731 - val_crf_loss_val: 10.1261 - val_val_accuracy: 0.8750\n",
      "Epoch 19/50\n",
      "5/5 [==============================] - 6s 1s/step - crf_loss: 9.9681 - accuracy: 0.8758 - val_crf_loss_val: 9.5840 - val_val_accuracy: 0.8882\n",
      "Epoch 20/50\n",
      "5/5 [==============================] - 6s 1s/step - crf_loss: 9.8557 - accuracy: 0.8828 - val_crf_loss_val: 9.1998 - val_val_accuracy: 0.8924\n",
      "Epoch 21/50\n",
      "5/5 [==============================] - 9s 2s/step - crf_loss: 9.3740 - accuracy: 0.8872 - val_crf_loss_val: 8.8778 - val_val_accuracy: 0.8965\n",
      "Epoch 22/50\n",
      "5/5 [==============================] - 6s 1s/step - crf_loss: 8.5359 - accuracy: 0.8885 - val_crf_loss_val: 8.6723 - val_val_accuracy: 0.9007\n",
      "Epoch 23/50\n",
      "5/5 [==============================] - 6s 1s/step - crf_loss: 8.1856 - accuracy: 0.8937 - val_crf_loss_val: 8.4778 - val_val_accuracy: 0.9031\n",
      "Epoch 24/50\n",
      "5/5 [==============================] - 6s 1s/step - crf_loss: 8.8619 - accuracy: 0.8991 - val_crf_loss_val: 8.2412 - val_val_accuracy: 0.9123\n",
      "Epoch 25/50\n",
      "5/5 [==============================] - 6s 1s/step - crf_loss: 7.8109 - accuracy: 0.9070 - val_crf_loss_val: 8.0536 - val_val_accuracy: 0.9147\n",
      "Epoch 26/50\n",
      "5/5 [==============================] - 6s 1s/step - crf_loss: 7.9599 - accuracy: 0.9081 - val_crf_loss_val: 7.8409 - val_val_accuracy: 0.9180\n",
      "Epoch 27/50\n",
      "5/5 [==============================] - 6s 1s/step - crf_loss: 7.4382 - accuracy: 0.9104 - val_crf_loss_val: 7.6172 - val_val_accuracy: 0.9205\n",
      "Epoch 28/50\n",
      "5/5 [==============================] - 6s 1s/step - crf_loss: 7.8894 - accuracy: 0.9109 - val_crf_loss_val: 7.4641 - val_val_accuracy: 0.9214\n",
      "Epoch 29/50\n",
      "5/5 [==============================] - 6s 1s/step - crf_loss: 7.1490 - accuracy: 0.9142 - val_crf_loss_val: 7.3393 - val_val_accuracy: 0.9205\n",
      "Epoch 30/50\n",
      "5/5 [==============================] - 6s 1s/step - crf_loss: 6.7396 - accuracy: 0.9123 - val_crf_loss_val: 7.2783 - val_val_accuracy: 0.9230\n",
      "Epoch 31/50\n",
      "5/5 [==============================] - 6s 1s/step - crf_loss: 6.6152 - accuracy: 0.9192 - val_crf_loss_val: 7.0093 - val_val_accuracy: 0.9272\n",
      "Epoch 32/50\n",
      "5/5 [==============================] - 7s 1s/step - crf_loss: 6.2155 - accuracy: 0.9213 - val_crf_loss_val: 6.8631 - val_val_accuracy: 0.9296\n",
      "Epoch 33/50\n",
      "5/5 [==============================] - 7s 1s/step - crf_loss: 6.4194 - accuracy: 0.9234 - val_crf_loss_val: 6.7125 - val_val_accuracy: 0.9305\n",
      "Epoch 34/50\n",
      "5/5 [==============================] - 6s 1s/step - crf_loss: 6.7867 - accuracy: 0.9254 - val_crf_loss_val: 6.5112 - val_val_accuracy: 0.9346\n",
      "Epoch 35/50\n",
      "5/5 [==============================] - 7s 1s/step - crf_loss: 5.6997 - accuracy: 0.9279 - val_crf_loss_val: 6.3639 - val_val_accuracy: 0.9371\n",
      "Epoch 36/50\n",
      "5/5 [==============================] - 6s 1s/step - crf_loss: 5.9140 - accuracy: 0.9313 - val_crf_loss_val: 6.2345 - val_val_accuracy: 0.9429\n",
      "Epoch 37/50\n",
      "5/5 [==============================] - 7s 1s/step - crf_loss: 5.6868 - accuracy: 0.9367 - val_crf_loss_val: 6.0842 - val_val_accuracy: 0.9429\n",
      "Epoch 38/50\n",
      "5/5 [==============================] - 7s 1s/step - crf_loss: 5.0009 - accuracy: 0.9372 - val_crf_loss_val: 6.0016 - val_val_accuracy: 0.9454\n",
      "Epoch 39/50\n",
      "5/5 [==============================] - 7s 1s/step - crf_loss: 4.8393 - accuracy: 0.9404 - val_crf_loss_val: 5.8366 - val_val_accuracy: 0.9462\n",
      "Epoch 40/50\n",
      "5/5 [==============================] - 6s 1s/step - crf_loss: 4.8495 - accuracy: 0.9423 - val_crf_loss_val: 5.7457 - val_val_accuracy: 0.9487\n",
      "Epoch 41/50\n",
      "5/5 [==============================] - 7s 1s/step - crf_loss: 5.1096 - accuracy: 0.9454 - val_crf_loss_val: 5.6231 - val_val_accuracy: 0.9512\n",
      "Epoch 42/50\n",
      "5/5 [==============================] - 7s 1s/step - crf_loss: 4.3577 - accuracy: 0.9472 - val_crf_loss_val: 5.4589 - val_val_accuracy: 0.9536\n",
      "Epoch 43/50\n",
      "5/5 [==============================] - 7s 1s/step - crf_loss: 4.2111 - accuracy: 0.9491 - val_crf_loss_val: 5.3868 - val_val_accuracy: 0.9586\n",
      "Epoch 44/50\n",
      "5/5 [==============================] - 7s 1s/step - crf_loss: 4.0329 - accuracy: 0.9513 - val_crf_loss_val: 5.3797 - val_val_accuracy: 0.9561\n",
      "Epoch 45/50\n",
      "5/5 [==============================] - 7s 1s/step - crf_loss: 4.0313 - accuracy: 0.9533 - val_crf_loss_val: 5.1899 - val_val_accuracy: 0.9594\n",
      "Epoch 46/50\n",
      "5/5 [==============================] - 7s 1s/step - crf_loss: 4.1019 - accuracy: 0.9545 - val_crf_loss_val: 5.0926 - val_val_accuracy: 0.9611\n",
      "Epoch 47/50\n",
      "5/5 [==============================] - 7s 1s/step - crf_loss: 3.3685 - accuracy: 0.9567 - val_crf_loss_val: 5.0292 - val_val_accuracy: 0.9603\n",
      "Epoch 48/50\n",
      "5/5 [==============================] - 7s 1s/step - crf_loss: 3.3388 - accuracy: 0.9600 - val_crf_loss_val: 4.9608 - val_val_accuracy: 0.9627\n",
      "Epoch 49/50\n",
      "5/5 [==============================] - 7s 1s/step - crf_loss: 3.1935 - accuracy: 0.9617 - val_crf_loss_val: 4.9429 - val_val_accuracy: 0.9627\n",
      "Epoch 50/50\n",
      "5/5 [==============================] - 7s 1s/step - crf_loss: 2.7934 - accuracy: 0.9630 - val_crf_loss_val: 4.8543 - val_val_accuracy: 0.9636\n",
      "5/5 [==============================] - 1s 137ms/step - crf_loss_val: 6.0121 - val_accuracy: 0.9399\n"
     ]
    },
    {
     "data": {
      "text/plain": [
       "0.9364055395126343"
      ]
     },
     "execution_count": 107,
     "metadata": {},
     "output_type": "execute_result"
    }
   ],
   "source": [
    "\n",
    "\n",
    "history1 = model.fit(X_train, y_train, batch_size=128, epochs=50,  validation_split=0.1)#, callbacks=[F1score(use_char=False)])\n",
    "loss_,accu_= model.evaluate(X_test,y_test)\n",
    "\n",
    "accu_"
   ]
  },
  {
   "cell_type": "code",
   "execution_count": 221,
   "metadata": {},
   "outputs": [
    {
     "name": "stderr",
     "output_type": "stream",
     "text": [
      "WARNING:absl:Found untraced functions such as lstm_cell_52_layer_call_fn, lstm_cell_52_layer_call_and_return_conditional_losses, lstm_cell_53_layer_call_fn, lstm_cell_53_layer_call_and_return_conditional_losses, lstm_cell_52_layer_call_fn while saving (showing 5 of 10). These functions will not be directly callable after loading.\n",
      "WARNING:absl:Found untraced functions such as lstm_cell_52_layer_call_fn, lstm_cell_52_layer_call_and_return_conditional_losses, lstm_cell_53_layer_call_fn, lstm_cell_53_layer_call_and_return_conditional_losses, lstm_cell_52_layer_call_fn while saving (showing 5 of 10). These functions will not be directly callable after loading.\n"
     ]
    },
    {
     "name": "stdout",
     "output_type": "stream",
     "text": [
      "INFO:tensorflow:Assets written to: C:\\Users\\Samsung\\jupyter\\Project_Deep_learning_2020\\data\\NER\\model\\LSTM-CRF\\assets\n"
     ]
    },
    {
     "name": "stderr",
     "output_type": "stream",
     "text": [
      "INFO:tensorflow:Assets written to: C:\\Users\\Samsung\\jupyter\\Project_Deep_learning_2020\\data\\NER\\model\\LSTM-CRF\\assets\n"
     ]
    }
   ],
   "source": [
    "tf.keras.models.save_model(model, r'C:\\Users\\Samsung\\jupyter\\Project_Deep_learning_2020\\data\\NER\\model\\LSTM-CRF')"
   ]
  },
  {
   "cell_type": "code",
   "execution_count": 166,
   "metadata": {},
   "outputs": [
    {
     "data": {
      "image/png": "[encoded data removed]",
      "text/plain": [
       "<Figure size 864x864 with 2 Axes>"
      ]
     },
     "metadata": {
      "needs_background": "light"
     },
     "output_type": "display_data"
    }
   ],
   "source": [
    "plot_history(history)"
   ]
  },
  {
   "cell_type": "code",
   "execution_count": 167,
   "metadata": {},
   "outputs": [
    {
     "data": {
      "text/html": [
       "<div>\n",
       "<style scoped>\n",
       "    .dataframe tbody tr th:only-of-type {\n",
       "        vertical-align: middle;\n",
       "    }\n",
       "\n",
       "    .dataframe tbody tr th {\n",
       "        vertical-align: top;\n",
       "    }\n",
       "\n",
       "    .dataframe thead th {\n",
       "        text-align: right;\n",
       "    }\n",
       "</style>\n",
       "<table border=\"1\" class=\"dataframe\">\n",
       "  <thead>\n",
       "    <tr style=\"text-align: right;\">\n",
       "      <th></th>\n",
       "      <th>crf_loss</th>\n",
       "      <th>accuracy</th>\n",
       "      <th>val_crf_loss_val</th>\n",
       "      <th>val_val_accuracy</th>\n",
       "    </tr>\n",
       "  </thead>\n",
       "  <tbody>\n",
       "    <tr>\n",
       "      <th>45</th>\n",
       "      <td>3.373599</td>\n",
       "      <td>0.956836</td>\n",
       "      <td>5.151947</td>\n",
       "      <td>0.957781</td>\n",
       "    </tr>\n",
       "    <tr>\n",
       "      <th>46</th>\n",
       "      <td>2.877688</td>\n",
       "      <td>0.959385</td>\n",
       "      <td>5.032083</td>\n",
       "      <td>0.959437</td>\n",
       "    </tr>\n",
       "    <tr>\n",
       "      <th>47</th>\n",
       "      <td>2.807037</td>\n",
       "      <td>0.959045</td>\n",
       "      <td>4.940145</td>\n",
       "      <td>0.957781</td>\n",
       "    </tr>\n",
       "    <tr>\n",
       "      <th>48</th>\n",
       "      <td>2.818157</td>\n",
       "      <td>0.960829</td>\n",
       "      <td>4.935975</td>\n",
       "      <td>0.959437</td>\n",
       "    </tr>\n",
       "    <tr>\n",
       "      <th>49</th>\n",
       "      <td>3.044605</td>\n",
       "      <td>0.962954</td>\n",
       "      <td>4.880503</td>\n",
       "      <td>0.960265</td>\n",
       "    </tr>\n",
       "  </tbody>\n",
       "</table>\n",
       "</div>"
      ],
      "text/plain": [
       "    crf_loss  accuracy  val_crf_loss_val  val_val_accuracy\n",
       "45  3.373599  0.956836          5.151947          0.957781\n",
       "46  2.877688  0.959385          5.032083          0.959437\n",
       "47  2.807037  0.959045          4.940145          0.957781\n",
       "48  2.818157  0.960829          4.935975          0.959437\n",
       "49  3.044605  0.962954          4.880503          0.960265"
      ]
     },
     "execution_count": 167,
     "metadata": {},
     "output_type": "execute_result"
    }
   ],
   "source": [
    "hist.tail()"
   ]
  },
  {
   "cell_type": "code",
   "execution_count": 223,
   "metadata": {
    "scrolled": true
   },
   "outputs": [
    {
     "name": "stdout",
     "output_type": "stream",
     "text": [
      "target:  54\n",
      "단어             |실제값  |예측값\n",
      "-----------------------------------\n",
      "(                : O       O\n",
      "노이즈              : B-NC    B-NC\n",
      "켄                : I-NC    O\n",
      "슬링               : I-NC    I-NC\n",
      ")                : O       O\n",
      "생각               : O       O\n",
      "보다               : O       O\n",
      "차단               : B-NC    B-NC\n",
      "이                : O       O\n",
      "100              : O       O\n",
      "프로               : O       O\n",
      "안되다              : O       O\n",
      ".                : O       O\n",
      "바깥               : O       O\n",
      "소리               : O       O\n",
      "가                : O       O\n",
      "웅웅               : O       O\n",
      "울리다              : O       O\n",
      "들리다              : O       O\n",
      ".                : O       O\n",
      "==================================\n",
      "target:  20\n",
      "단어             |실제값  |예측값\n",
      "-----------------------------------\n",
      "안좋다              : O       O\n",
      "==================================\n",
      "target:  100\n",
      "단어             |실제값  |예측값\n",
      "-----------------------------------\n",
      "뚜껑               : B-CA    B-COM\n",
      "만                : O       O\n",
      "열                : O       O\n",
      "어도               : O       O\n",
      "연결               : B-PAR   B-COM\n",
      "잘                : O       O\n",
      "되다               : O       O\n",
      ".                : O       O\n",
      "==================================\n",
      "target:  22\n",
      "단어             |실제값  |예측값\n",
      "-----------------------------------\n",
      "음질               : B-SQ    B-SQ\n",
      "대단하다             : O       O\n",
      "훌륭하다             : O       O\n",
      "같다               : O       O\n",
      ".                : O       O\n",
      "==================================\n",
      "target:  25\n",
      "단어             |실제값  |예측값\n",
      "-----------------------------------\n",
      "버즈               : B-TK    O\n",
      "보다               : O       O\n",
      "소음               : B-NC    B-NC\n",
      "조금               : O       O\n",
      "잡다               : O       O\n",
      "귀엽다              : B-DE    B-DE\n",
      "강낭콩              : B-DE    I-DE\n",
      "모양               : I-DE    I-DE\n",
      "에                : O       O\n",
      "==================================\n",
      "target:  150\n",
      "단어             |실제값  |예측값\n",
      "-----------------------------------\n",
      "⭐️               : O       O\n",
      "애플               : O       O\n",
      "기기               : O       O\n",
      "와의               : O       O\n",
      "호환성              : B-CMP   B-PAR\n",
      "?:               : O       I-SQ\n",
      "==================================\n",
      "target:  40\n",
      "단어             |실제값  |예측값\n",
      "-----------------------------------\n",
      "ps               : O       O\n",
      "8                : O       O\n",
      ":                : O       O\n",
      "갠                : O       O\n",
      "적                : O       O\n",
      "으로               : O       O\n",
      "삼성               : O       O\n",
      "이                : O       O\n",
      "인수               : O       O\n",
      "한                : O       O\n",
      "음향               : B-SQ    B-SQ\n",
      "장비               : O       O\n",
      "회사               : O       O\n",
      "하만카돈             : O       O\n",
      "의                : O       O\n",
      "계                : O       O\n",
      "열사               : O       O\n",
      "베이스              : B-SQ    B-SQ\n",
      "들                : O       O\n",
      "을                : O       O\n",
      "좋아하다             : O       O\n",
      "(                : O       O\n",
      "akg              : B-SQ    O\n",
      ",                : O       O\n",
      "jbl              : B-COM   O\n",
      ")                : O       O\n",
      "풍부하다             : B-SQ    B-SQ\n",
      "저음               : B-SQ    I-SQ\n",
      "에도               : O       O\n",
      "돌                : O       O\n",
      "굴러가다             : O       O\n",
      "소리               : B-SQ    B-SQ\n",
      "저                : O       O\n",
      "음부               : O       O\n",
      "의                : O       O\n",
      "고음               : B-SQ    B-SQ\n",
      "부분               : O       O\n",
      "도                : O       O\n",
      "자다               : O       O\n",
      "캐치               : B-SQ    O\n",
      "하다               : O       O\n",
      "표현               : O       O\n",
      "함                : O       O\n",
      ".                : O       O\n",
      "그리고              : O       O\n",
      "이                : O       O\n",
      "브랜드              : O       O\n",
      "들                : O       O\n",
      "이                : O       O\n",
      "저                : O       O\n",
      "음부               : O       O\n",
      "의                : O       O\n",
      "공간               : O       B-SQ\n",
      "감                : O       I-FIT\n",
      ",                : O       O\n",
      "타                : B-SQ    B-SQ\n",
      "격감               : I-SQ    I-SQ\n",
      "이                : O       O\n",
      "우수하다             : O       O\n",
      ".                : O       O\n",
      "==================================\n"
     ]
    }
   ],
   "source": [
    "#i=54 # 확인하고 싶은 테스트용 샘플의 인덱스.\n",
    "y_pred = model.predict(X_test)\n",
    "for i in [54,20,100,22,25,150,40]:\n",
    "    print(\"target: \",i)\n",
    "    print(\"{:15}|{:5}|{}\".format(\"단어\", \"실제값\", \"예측값\"))\n",
    "    print(35 * \"-\")\n",
    "\n",
    "    for w, t, pred in zip(X_test[i], y_test[i], y_pred[0][i]):\n",
    "        if w != 0: # PAD값은 제외함.\n",
    "            print(\"{:17}: {:7} {}\".format(index_to_word[w], index_to_ner[t], index_to_ner[pred]))\n",
    "    print(\"==================================\")"
   ]
  },
  {
   "cell_type": "code",
   "execution_count": 136,
   "metadata": {},
   "outputs": [],
   "source": [
    "f1score = F1score()\n",
    "\n",
    "y_predicted = model.predict([X_test])\n",
    "pred_tags = f1score.sequences_to_tags(y_predicted[1])\n",
    "y_test = to_categorical(y_test, num_classes=tag_size)\n",
    "test_tags = f1score.sequences_to_tags(y_test)"
   ]
  },
  {
   "cell_type": "code",
   "execution_count": null,
   "metadata": {},
   "outputs": [],
   "source": []
  },
  {
   "cell_type": "code",
   "execution_count": 137,
   "metadata": {},
   "outputs": [
    {
     "data": {
      "text/plain": [
       "(70, 70)"
      ]
     },
     "execution_count": 137,
     "metadata": {},
     "output_type": "execute_result"
    }
   ],
   "source": [
    "len(pred_tags[0]),len(test_tags[0])"
   ]
  },
  {
   "cell_type": "code",
   "execution_count": 138,
   "metadata": {},
   "outputs": [
    {
     "data": {
      "text/plain": [
       "(156, 156)"
      ]
     },
     "execution_count": 138,
     "metadata": {},
     "output_type": "execute_result"
    }
   ],
   "source": [
    "len(np.array(test_tags)),len(np.array(pred_tags))"
   ]
  },
  {
   "cell_type": "code",
   "execution_count": 139,
   "metadata": {},
   "outputs": [
    {
     "name": "stdout",
     "output_type": "stream",
     "text": [
      "              precision    recall  f1-score   support\n",
      "\n",
      "          AS       0.00      0.00      0.00         3\n",
      "         BAT       0.00      0.00      0.00        11\n",
      "          CA       0.00      0.00      0.00         7\n",
      "         CAQ       0.15      0.20      0.17        10\n",
      "         CMP       0.00      0.00      0.00        15\n",
      "         CNV       1.00      0.14      0.25         7\n",
      "         COM       0.30      0.52      0.38        27\n",
      "          DE       0.66      0.53      0.58        40\n",
      "          FA       0.00      0.00      0.00         3\n",
      "         FIT       0.82      0.85      0.84        96\n",
      "          NC       0.62      0.89      0.73        27\n",
      "         PAR       0.38      0.20      0.26        15\n",
      "          PR       0.00      0.00      0.00         9\n",
      "          SQ       0.70      0.59      0.64        51\n",
      "          TK       0.11      0.14      0.12         7\n",
      "         WEI       0.00      0.00      0.00         3\n",
      "\n",
      "   micro avg       0.61      0.54      0.57       331\n",
      "   macro avg       0.30      0.25      0.25       331\n",
      "weighted avg       0.54      0.54      0.53       331\n",
      "\n"
     ]
    },
    {
     "name": "stderr",
     "output_type": "stream",
     "text": [
      "C:\\Users\\Samsung\\anaconda3\\lib\\site-packages\\seqeval\\metrics\\v1.py:57: UndefinedMetricWarning:\n",
      "\n",
      "Precision and F-score are ill-defined and being set to 0.0 in labels with no predicted samples. Use `zero_division` parameter to control this behavior.\n",
      "\n"
     ]
    }
   ],
   "source": [
    "print(classification_report(test_tags, pred_tags))"
   ]
  },
  {
   "cell_type": "code",
   "execution_count": null,
   "metadata": {},
   "outputs": [],
   "source": []
  },
  {
   "cell_type": "code",
   "execution_count": null,
   "metadata": {},
   "outputs": [],
   "source": []
  },
  {
   "cell_type": "markdown",
   "metadata": {},
   "source": [
    "# CRF"
   ]
  },
  {
   "cell_type": "code",
   "execution_count": 163,
   "metadata": {},
   "outputs": [],
   "source": [
    "X = pad_sequences(X, padding='post', maxlen=max_len)\n",
    "y = pad_sequences(y, padding='post', maxlen=max_len)\n",
    "X_train, X_test, y_train, y_test = train_test_split(X, y, test_size=.2, random_state=777)"
   ]
  },
  {
   "cell_type": "code",
   "execution_count": 113,
   "metadata": {},
   "outputs": [
    {
     "data": {
      "image/png": "[encoded data removed]",
      "text/plain": [
       "<IPython.core.display.Image object>"
      ]
     },
     "execution_count": 113,
     "metadata": {},
     "output_type": "execute_result"
    }
   ],
   "source": [
    "\n",
    "inputs = Input(shape=(70,), dtype='int32')\n",
    "output = Embedding(vocab_size, 128, input_length=max_len, mask_zero=True)(inputs)\n",
    "output = TimeDistributed(Dense(tag_size, activation=('softmax')))(output)\n",
    "output = Dense(tag_size, activation=None)(output)\n",
    "base_model = Model(inputs, output)\n",
    "model3 = ModelWithCRFLoss(base_model)\n",
    "model3.compile(optimizer='adam', metrics=['accuracy'])\n",
    "plot_model(base_model, to_file='model_plot.png', show_shapes=True, show_layer_names=True)"
   ]
  },
  {
   "cell_type": "code",
   "execution_count": 166,
   "metadata": {},
   "outputs": [
    {
     "name": "stderr",
     "output_type": "stream",
     "text": [
      "C:\\Users\\Samsung\\AppData\\Roaming\\Python\\Python37\\site-packages\\tensorflow\\python\\autograph\\impl\\api.py:390: UserWarning:\n",
      "\n",
      "CRF Decoding does not work with KerasTensors in TF2.4. The bug has since been fixed in tensorflow/tensorflow##45534\n",
      "\n"
     ]
    },
    {
     "data": {
      "image/png": "[encoded data removed]",
      "text/plain": [
       "<IPython.core.display.Image object>"
      ]
     },
     "execution_count": 166,
     "metadata": {},
     "output_type": "execute_result"
    }
   ],
   "source": [
    "X = pad_sequences(X, padding='post', maxlen=max_len)\n",
    "y = pad_sequences(y, padding='post', maxlen=max_len)\n",
    "X_train, X_test, y_train, y_test = train_test_split(X, y, test_size=.2, random_state=777)\n",
    "inputs = Input(shape=(70,), dtype='int32')\n",
    "output = Embedding(vocab_size, 128, input_length=max_len, mask_zero=True)(inputs)\n",
    "output = TimeDistributed(Dense(tag_size, activation=('softmax')))(output)\n",
    "output = Dense(tag_size, activation=None)(output)\n",
    "crf = CRF(dtype='float32')\n",
    "output = crf(output)\n",
    "base_model = Model(inputs, output)\n",
    "model3 = ModelWithCRFLoss(base_model)\n",
    "model3.compile(optimizer='adam', metrics=['accuracy'])\n",
    "plot_model(model3, to_file='model_plot.png', show_shapes=True, show_layer_names=True)"
   ]
  },
  {
   "cell_type": "code",
   "execution_count": 167,
   "metadata": {
    "scrolled": true
   },
   "outputs": [
    {
     "name": "stdout",
     "output_type": "stream",
     "text": [
      "Epoch 1/50\n",
      "5/5 [==============================] - 3s 225ms/step - crf_loss: 72.4031 - accuracy: 0.0024 - val_crf_loss_val: 68.2266 - val_val_accuracy: 0.0050\n",
      "Epoch 2/50\n",
      "5/5 [==============================] - 0s 99ms/step - crf_loss: 76.4939 - accuracy: 0.0028 - val_crf_loss_val: 67.6807 - val_val_accuracy: 0.0075\n",
      "Epoch 3/50\n",
      "5/5 [==============================] - 0s 91ms/step - crf_loss: 73.8036 - accuracy: 0.0068 - val_crf_loss_val: 67.1207 - val_val_accuracy: 0.0099\n",
      "Epoch 4/50\n",
      "5/5 [==============================] - 0s 96ms/step - crf_loss: 70.0541 - accuracy: 0.0151 - val_crf_loss_val: 66.5443 - val_val_accuracy: 0.0331\n",
      "Epoch 5/50\n",
      "5/5 [==============================] - 0s 92ms/step - crf_loss: 76.9052 - accuracy: 0.0591 - val_crf_loss_val: 65.9526 - val_val_accuracy: 0.0985\n",
      "Epoch 6/50\n",
      "5/5 [==============================] - 0s 92ms/step - crf_loss: 75.8251 - accuracy: 0.1006 - val_crf_loss_val: 65.3313 - val_val_accuracy: 0.1126\n",
      "Epoch 7/50\n",
      "5/5 [==============================] - 0s 91ms/step - crf_loss: 71.2228 - accuracy: 0.1123 - val_crf_loss_val: 64.6801 - val_val_accuracy: 0.1184\n",
      "Epoch 8/50\n",
      "5/5 [==============================] - 0s 94ms/step - crf_loss: 71.0875 - accuracy: 0.1207 - val_crf_loss_val: 63.9994 - val_val_accuracy: 0.1233\n",
      "Epoch 9/50\n",
      "5/5 [==============================] - 0s 95ms/step - crf_loss: 73.6226 - accuracy: 0.1284 - val_crf_loss_val: 63.2870 - val_val_accuracy: 0.1349\n",
      "Epoch 10/50\n",
      "5/5 [==============================] - 0s 95ms/step - crf_loss: 68.7862 - accuracy: 0.1382 - val_crf_loss_val: 62.5340 - val_val_accuracy: 0.1606\n",
      "Epoch 11/50\n",
      "5/5 [==============================] - 1s 236ms/step - crf_loss: 65.9888 - accuracy: 0.1607 - val_crf_loss_val: 61.7516 - val_val_accuracy: 0.1921\n",
      "Epoch 12/50\n",
      "5/5 [==============================] - 0s 89ms/step - crf_loss: 66.0342 - accuracy: 0.2204 - val_crf_loss_val: 60.9530 - val_val_accuracy: 0.2815\n",
      "Epoch 13/50\n",
      "5/5 [==============================] - 0s 96ms/step - crf_loss: 67.0917 - accuracy: 0.2920 - val_crf_loss_val: 60.1374 - val_val_accuracy: 0.3253\n",
      "Epoch 14/50\n",
      "5/5 [==============================] - 0s 99ms/step - crf_loss: 64.9995 - accuracy: 0.3315 - val_crf_loss_val: 59.3100 - val_val_accuracy: 0.3709\n",
      "Epoch 15/50\n",
      "5/5 [==============================] - 0s 100ms/step - crf_loss: 60.9229 - accuracy: 0.4214 - val_crf_loss_val: 58.4914 - val_val_accuracy: 0.6242\n",
      "Epoch 16/50\n",
      "5/5 [==============================] - 0s 93ms/step - crf_loss: 68.9829 - accuracy: 0.6840 - val_crf_loss_val: 57.6995 - val_val_accuracy: 0.7152\n",
      "Epoch 17/50\n",
      "5/5 [==============================] - 0s 101ms/step - crf_loss: 62.8607 - accuracy: 0.7832 - val_crf_loss_val: 56.9179 - val_val_accuracy: 0.7748\n",
      "Epoch 18/50\n",
      "5/5 [==============================] - 0s 95ms/step - crf_loss: 61.5148 - accuracy: 0.8605 - val_crf_loss_val: 56.1663 - val_val_accuracy: 0.8038\n",
      "Epoch 19/50\n",
      "5/5 [==============================] - 0s 95ms/step - crf_loss: 62.1894 - accuracy: 0.8802 - val_crf_loss_val: 55.4470 - val_val_accuracy: 0.8079\n",
      "Epoch 20/50\n",
      "5/5 [==============================] - 1s 107ms/step - crf_loss: 62.0995 - accuracy: 0.8821 - val_crf_loss_val: 54.7473 - val_val_accuracy: 0.8079\n",
      "Epoch 21/50\n",
      "5/5 [==============================] - 1s 104ms/step - crf_loss: 57.4518 - accuracy: 0.8813 - val_crf_loss_val: 54.0672 - val_val_accuracy: 0.8096\n",
      "Epoch 22/50\n",
      "5/5 [==============================] - 0s 97ms/step - crf_loss: 62.0530 - accuracy: 0.8816 - val_crf_loss_val: 53.4078 - val_val_accuracy: 0.8104\n",
      "Epoch 23/50\n",
      "5/5 [==============================] - 0s 96ms/step - crf_loss: 57.8824 - accuracy: 0.8818 - val_crf_loss_val: 52.7578 - val_val_accuracy: 0.8137\n",
      "Epoch 24/50\n",
      "5/5 [==============================] - 0s 100ms/step - crf_loss: 58.5659 - accuracy: 0.8818 - val_crf_loss_val: 52.1192 - val_val_accuracy: 0.8171\n",
      "Epoch 25/50\n",
      "5/5 [==============================] - 0s 94ms/step - crf_loss: 57.1254 - accuracy: 0.8825 - val_crf_loss_val: 51.4883 - val_val_accuracy: 0.8286\n",
      "Epoch 26/50\n",
      "5/5 [==============================] - 0s 102ms/step - crf_loss: 53.6554 - accuracy: 0.8871 - val_crf_loss_val: 50.8665 - val_val_accuracy: 0.8320\n",
      "Epoch 27/50\n",
      "5/5 [==============================] - 0s 102ms/step - crf_loss: 57.1819 - accuracy: 0.8871 - val_crf_loss_val: 50.2577 - val_val_accuracy: 0.8336\n",
      "Epoch 28/50\n",
      "5/5 [==============================] - 0s 101ms/step - crf_loss: 55.6327 - accuracy: 0.8870 - val_crf_loss_val: 49.6500 - val_val_accuracy: 0.8369\n",
      "Epoch 29/50\n",
      "5/5 [==============================] - 0s 97ms/step - crf_loss: 52.6672 - accuracy: 0.8871 - val_crf_loss_val: 49.0420 - val_val_accuracy: 0.8427\n",
      "Epoch 30/50\n",
      "5/5 [==============================] - 0s 102ms/step - crf_loss: 52.8936 - accuracy: 0.8872 - val_crf_loss_val: 48.4389 - val_val_accuracy: 0.8502\n",
      "Epoch 31/50\n",
      "5/5 [==============================] - 0s 96ms/step - crf_loss: 51.2329 - accuracy: 0.8872 - val_crf_loss_val: 47.8421 - val_val_accuracy: 0.8634\n",
      "Epoch 32/50\n",
      "5/5 [==============================] - 0s 101ms/step - crf_loss: 51.8194 - accuracy: 0.8872 - val_crf_loss_val: 47.2454 - val_val_accuracy: 0.8717\n",
      "Epoch 33/50\n",
      "5/5 [==============================] - 0s 95ms/step - crf_loss: 51.6873 - accuracy: 0.8889 - val_crf_loss_val: 46.6498 - val_val_accuracy: 0.8882\n",
      "Epoch 34/50\n",
      "5/5 [==============================] - 1s 109ms/step - crf_loss: 50.4616 - accuracy: 0.8928 - val_crf_loss_val: 46.0483 - val_val_accuracy: 0.8949\n",
      "Epoch 35/50\n",
      "5/5 [==============================] - 0s 97ms/step - crf_loss: 46.9234 - accuracy: 0.8926 - val_crf_loss_val: 45.4460 - val_val_accuracy: 0.9031\n",
      "Epoch 36/50\n",
      "5/5 [==============================] - 1s 107ms/step - crf_loss: 48.8264 - accuracy: 0.8925 - val_crf_loss_val: 44.8507 - val_val_accuracy: 0.9040\n",
      "Epoch 37/50\n",
      "5/5 [==============================] - 0s 96ms/step - crf_loss: 45.3298 - accuracy: 0.8929 - val_crf_loss_val: 44.2543 - val_val_accuracy: 0.9048\n",
      "Epoch 38/50\n",
      "5/5 [==============================] - 1s 153ms/step - crf_loss: 49.1619 - accuracy: 0.8930 - val_crf_loss_val: 43.6671 - val_val_accuracy: 0.9048\n",
      "Epoch 39/50\n",
      "5/5 [==============================] - 1s 105ms/step - crf_loss: 45.8588 - accuracy: 0.8930 - val_crf_loss_val: 43.0722 - val_val_accuracy: 0.9048\n",
      "Epoch 40/50\n",
      "5/5 [==============================] - 1s 103ms/step - crf_loss: 46.8865 - accuracy: 0.8930 - val_crf_loss_val: 42.4799 - val_val_accuracy: 0.9048\n",
      "Epoch 41/50\n",
      "5/5 [==============================] - 0s 100ms/step - crf_loss: 47.0975 - accuracy: 0.8930 - val_crf_loss_val: 41.8904 - val_val_accuracy: 0.9048\n",
      "Epoch 42/50\n",
      "5/5 [==============================] - 0s 101ms/step - crf_loss: 43.7004 - accuracy: 0.8930 - val_crf_loss_val: 41.2978 - val_val_accuracy: 0.9048\n",
      "Epoch 43/50\n",
      "5/5 [==============================] - 0s 99ms/step - crf_loss: 46.3048 - accuracy: 0.8934 - val_crf_loss_val: 40.7124 - val_val_accuracy: 0.9048\n",
      "Epoch 44/50\n",
      "5/5 [==============================] - 0s 99ms/step - crf_loss: 42.9856 - accuracy: 0.8942 - val_crf_loss_val: 40.1227 - val_val_accuracy: 0.9048\n",
      "Epoch 45/50\n",
      "5/5 [==============================] - 0s 100ms/step - crf_loss: 41.6542 - accuracy: 0.8946 - val_crf_loss_val: 39.5366 - val_val_accuracy: 0.9098\n",
      "Epoch 46/50\n",
      "5/5 [==============================] - 0s 104ms/step - crf_loss: 41.2730 - accuracy: 0.8970 - val_crf_loss_val: 38.9599 - val_val_accuracy: 0.9098\n",
      "Epoch 47/50\n",
      "5/5 [==============================] - 0s 98ms/step - crf_loss: 42.2259 - accuracy: 0.8970 - val_crf_loss_val: 38.3840 - val_val_accuracy: 0.9098\n",
      "Epoch 48/50\n",
      "5/5 [==============================] - 0s 102ms/step - crf_loss: 41.2441 - accuracy: 0.8974 - val_crf_loss_val: 37.8091 - val_val_accuracy: 0.9098\n",
      "Epoch 49/50\n",
      "5/5 [==============================] - 1s 105ms/step - crf_loss: 40.9177 - accuracy: 0.8974 - val_crf_loss_val: 37.2370 - val_val_accuracy: 0.9098\n",
      "Epoch 50/50\n",
      "5/5 [==============================] - 1s 107ms/step - crf_loss: 39.2999 - accuracy: 0.8992 - val_crf_loss_val: 36.6748 - val_val_accuracy: 0.9098\n"
     ]
    }
   ],
   "source": [
    "history3 = model3.fit(X_train, y_train, batch_size=128, epochs=50,  validation_split=0.1)#, callbacks=[F1score(use_char=False)])\n"
   ]
  },
  {
   "cell_type": "code",
   "execution_count": null,
   "metadata": {},
   "outputs": [],
   "source": []
  },
  {
   "cell_type": "code",
   "execution_count": 225,
   "metadata": {},
   "outputs": [
    {
     "name": "stdout",
     "output_type": "stream",
     "text": [
      "INFO:tensorflow:Assets written to: C:\\Users\\Samsung\\jupyter\\Project_Deep_learning_2020\\data\\NER\\model\\CRF\\assets\n"
     ]
    },
    {
     "name": "stderr",
     "output_type": "stream",
     "text": [
      "INFO:tensorflow:Assets written to: C:\\Users\\Samsung\\jupyter\\Project_Deep_learning_2020\\data\\NER\\model\\CRF\\assets\n"
     ]
    }
   ],
   "source": [
    "tf.keras.models.save_model(model3, r'C:\\Users\\Samsung\\jupyter\\Project_Deep_learning_2020\\data\\NER\\model\\CRF')"
   ]
  },
  {
   "cell_type": "code",
   "execution_count": 226,
   "metadata": {},
   "outputs": [
    {
     "name": "stdout",
     "output_type": "stream",
     "text": [
      "5/5 [==============================] - 0s 43ms/step - crf_loss_val: 10.7930 - val_accuracy: 0.8987\n"
     ]
    },
    {
     "data": {
      "text/plain": [
       "0.8943164348602295"
      ]
     },
     "execution_count": 226,
     "metadata": {},
     "output_type": "execute_result"
    }
   ],
   "source": [
    "loss_,accu_= model3.evaluate(X_test,y_test)\n",
    "\n",
    "accu_"
   ]
  },
  {
   "cell_type": "code",
   "execution_count": 230,
   "metadata": {},
   "outputs": [
    {
     "data": {
      "image/png": "[encoded data removed]",
      "text/plain": [
       "<Figure size 864x864 with 2 Axes>"
      ]
     },
     "metadata": {
      "needs_background": "light"
     },
     "output_type": "display_data"
    }
   ],
   "source": [
    "hist3 = plot_history(history)"
   ]
  },
  {
   "cell_type": "code",
   "execution_count": 232,
   "metadata": {
    "scrolled": true
   },
   "outputs": [
    {
     "data": {
      "text/html": [
       "<div>\n",
       "<style scoped>\n",
       "    .dataframe tbody tr th:only-of-type {\n",
       "        vertical-align: middle;\n",
       "    }\n",
       "\n",
       "    .dataframe tbody tr th {\n",
       "        vertical-align: top;\n",
       "    }\n",
       "\n",
       "    .dataframe thead th {\n",
       "        text-align: right;\n",
       "    }\n",
       "</style>\n",
       "<table border=\"1\" class=\"dataframe\">\n",
       "  <thead>\n",
       "    <tr style=\"text-align: right;\">\n",
       "      <th></th>\n",
       "      <th>crf_loss</th>\n",
       "      <th>accuracy</th>\n",
       "      <th>val_crf_loss_val</th>\n",
       "      <th>val_val_accuracy</th>\n",
       "      <th>epoch</th>\n",
       "    </tr>\n",
       "  </thead>\n",
       "  <tbody>\n",
       "    <tr>\n",
       "      <th>45</th>\n",
       "      <td>3.373599</td>\n",
       "      <td>0.956836</td>\n",
       "      <td>5.151947</td>\n",
       "      <td>0.957781</td>\n",
       "      <td>45</td>\n",
       "    </tr>\n",
       "    <tr>\n",
       "      <th>46</th>\n",
       "      <td>2.877688</td>\n",
       "      <td>0.959385</td>\n",
       "      <td>5.032083</td>\n",
       "      <td>0.959437</td>\n",
       "      <td>46</td>\n",
       "    </tr>\n",
       "    <tr>\n",
       "      <th>47</th>\n",
       "      <td>2.807037</td>\n",
       "      <td>0.959045</td>\n",
       "      <td>4.940145</td>\n",
       "      <td>0.957781</td>\n",
       "      <td>47</td>\n",
       "    </tr>\n",
       "    <tr>\n",
       "      <th>48</th>\n",
       "      <td>2.818157</td>\n",
       "      <td>0.960829</td>\n",
       "      <td>4.935975</td>\n",
       "      <td>0.959437</td>\n",
       "      <td>48</td>\n",
       "    </tr>\n",
       "    <tr>\n",
       "      <th>49</th>\n",
       "      <td>3.044605</td>\n",
       "      <td>0.962954</td>\n",
       "      <td>4.880503</td>\n",
       "      <td>0.960265</td>\n",
       "      <td>49</td>\n",
       "    </tr>\n",
       "  </tbody>\n",
       "</table>\n",
       "</div>"
      ],
      "text/plain": [
       "    crf_loss  accuracy  val_crf_loss_val  val_val_accuracy  epoch\n",
       "45  3.373599  0.956836          5.151947          0.957781     45\n",
       "46  2.877688  0.959385          5.032083          0.959437     46\n",
       "47  2.807037  0.959045          4.940145          0.957781     47\n",
       "48  2.818157  0.960829          4.935975          0.959437     48\n",
       "49  3.044605  0.962954          4.880503          0.960265     49"
      ]
     },
     "execution_count": 232,
     "metadata": {},
     "output_type": "execute_result"
    }
   ],
   "source": [
    "hist3.tail()"
   ]
  },
  {
   "cell_type": "code",
   "execution_count": 229,
   "metadata": {
    "scrolled": true
   },
   "outputs": [
    {
     "name": "stdout",
     "output_type": "stream",
     "text": [
      "target:  54\n",
      "단어             |실제값  |예측값\n",
      "-----------------------------------\n",
      "(                : O       O\n",
      "노이즈              : B-NC    B-NC\n",
      "켄                : I-NC    O\n",
      "슬링               : I-NC    I-NC\n",
      ")                : O       O\n",
      "생각               : O       O\n",
      "보다               : O       O\n",
      "차단               : B-NC    B-NC\n",
      "이                : O       O\n",
      "100              : O       O\n",
      "프로               : O       O\n",
      "안되다              : O       O\n",
      ".                : O       O\n",
      "바깥               : O       O\n",
      "소리               : O       O\n",
      "가                : O       O\n",
      "웅웅               : O       O\n",
      "울리다              : O       O\n",
      "들리다              : O       O\n",
      ".                : O       O\n",
      "==================================\n",
      "target:  20\n",
      "단어             |실제값  |예측값\n",
      "-----------------------------------\n",
      "안좋다              : O       O\n",
      "==================================\n",
      "target:  100\n",
      "단어             |실제값  |예측값\n",
      "-----------------------------------\n",
      "뚜껑               : B-CA    B-COM\n",
      "만                : O       O\n",
      "열                : O       O\n",
      "어도               : O       O\n",
      "연결               : B-PAR   B-COM\n",
      "잘                : O       O\n",
      "되다               : O       O\n",
      ".                : O       O\n",
      "==================================\n",
      "target:  22\n",
      "단어             |실제값  |예측값\n",
      "-----------------------------------\n",
      "음질               : B-SQ    B-SQ\n",
      "대단하다             : O       O\n",
      "훌륭하다             : O       O\n",
      "같다               : O       O\n",
      ".                : O       O\n",
      "==================================\n",
      "target:  25\n",
      "단어             |실제값  |예측값\n",
      "-----------------------------------\n",
      "버즈               : B-TK    O\n",
      "보다               : O       O\n",
      "소음               : B-NC    B-NC\n",
      "조금               : O       O\n",
      "잡다               : O       O\n",
      "귀엽다              : B-DE    B-DE\n",
      "강낭콩              : B-DE    I-DE\n",
      "모양               : I-DE    I-DE\n",
      "에                : O       O\n",
      "==================================\n",
      "target:  150\n",
      "단어             |실제값  |예측값\n",
      "-----------------------------------\n",
      "⭐️               : O       O\n",
      "애플               : O       O\n",
      "기기               : O       O\n",
      "와의               : O       O\n",
      "호환성              : B-CMP   B-PAR\n",
      "?:               : O       I-SQ\n",
      "==================================\n",
      "target:  40\n",
      "단어             |실제값  |예측값\n",
      "-----------------------------------\n",
      "ps               : O       O\n",
      "8                : O       O\n",
      ":                : O       O\n",
      "갠                : O       O\n",
      "적                : O       O\n",
      "으로               : O       O\n",
      "삼성               : O       O\n",
      "이                : O       O\n",
      "인수               : O       O\n",
      "한                : O       O\n",
      "음향               : B-SQ    B-SQ\n",
      "장비               : O       O\n",
      "회사               : O       O\n",
      "하만카돈             : O       O\n",
      "의                : O       O\n",
      "계                : O       O\n",
      "열사               : O       O\n",
      "베이스              : B-SQ    B-SQ\n",
      "들                : O       O\n",
      "을                : O       O\n",
      "좋아하다             : O       O\n",
      "(                : O       O\n",
      "akg              : B-SQ    O\n",
      ",                : O       O\n",
      "jbl              : B-COM   O\n",
      ")                : O       O\n",
      "풍부하다             : B-SQ    B-SQ\n",
      "저음               : B-SQ    I-SQ\n",
      "에도               : O       O\n",
      "돌                : O       O\n",
      "굴러가다             : O       O\n",
      "소리               : B-SQ    B-SQ\n",
      "저                : O       O\n",
      "음부               : O       O\n",
      "의                : O       O\n",
      "고음               : B-SQ    B-SQ\n",
      "부분               : O       O\n",
      "도                : O       O\n",
      "자다               : O       O\n",
      "캐치               : B-SQ    O\n",
      "하다               : O       O\n",
      "표현               : O       O\n",
      "함                : O       O\n",
      ".                : O       O\n",
      "그리고              : O       O\n",
      "이                : O       O\n",
      "브랜드              : O       O\n",
      "들                : O       O\n",
      "이                : O       O\n",
      "저                : O       O\n",
      "음부               : O       O\n",
      "의                : O       O\n",
      "공간               : O       B-SQ\n",
      "감                : O       I-FIT\n",
      ",                : O       O\n",
      "타                : B-SQ    B-SQ\n",
      "격감               : I-SQ    I-SQ\n",
      "이                : O       O\n",
      "우수하다             : O       O\n",
      ".                : O       O\n",
      "==================================\n"
     ]
    }
   ],
   "source": [
    "y_pred = model3.predict(X_test)\n",
    "#i=54 # 확인하고 싶은 테스트용 샘플의 인덱스.\n",
    "y_pred = model.predict(X_test)\n",
    "for i in [54,20,100,22,25,150,40]:\n",
    "    print(\"target: \",i)\n",
    "    print(\"{:15}|{:5}|{}\".format(\"단어\", \"실제값\", \"예측값\"))\n",
    "    print(35 * \"-\")\n",
    "\n",
    "    for w, t, pred in zip(X_test[i], y_test[i], y_pred[0][i]):\n",
    "        if w != 0: # PAD값은 제외함.\n",
    "            print(\"{:17}: {:7} {}\".format(index_to_word[w], index_to_ner[t], index_to_ner[pred]))\n",
    "    print(\"==================================\")"
   ]
  },
  {
   "cell_type": "code",
   "execution_count": 173,
   "metadata": {},
   "outputs": [],
   "source": [
    "f1score = F1score()\n",
    "\n",
    "y_predicted = model3.predict([X_test])\n",
    "pred_tags = f1score.sequences_to_tags(y_predicted[1])\n",
    "y_test = to_categorical(y_test, num_classes=tag_size)\n",
    "test_tags = f1score.sequences_to_tags(y_test)"
   ]
  },
  {
   "cell_type": "code",
   "execution_count": 175,
   "metadata": {},
   "outputs": [
    {
     "name": "stdout",
     "output_type": "stream",
     "text": [
      "              precision    recall  f1-score   support\n",
      "\n",
      "          AS       0.00      0.00      0.00         3\n",
      "         BAT       0.00      0.00      0.00        11\n",
      "          CA       0.00      0.00      0.00         7\n",
      "         CAQ       0.00      0.00      0.00        10\n",
      "         CMP       0.00      0.00      0.00        15\n",
      "         CNV       0.00      0.00      0.00         7\n",
      "         COM       0.00      0.00      0.00        27\n",
      "          DE       0.00      0.00      0.00        40\n",
      "          FA       0.00      0.00      0.00         3\n",
      "         FIT       0.00      0.00      0.00        96\n",
      "          NC       0.67      0.44      0.53        27\n",
      "         PAR       0.00      0.00      0.00        15\n",
      "          PR       0.00      0.00      0.00         9\n",
      "          SQ       0.00      0.00      0.00        51\n",
      "          TK       0.00      0.00      0.00         7\n",
      "         WEI       0.00      0.00      0.00         3\n",
      "\n",
      "   micro avg       0.32      0.04      0.07       331\n",
      "   macro avg       0.04      0.03      0.03       331\n",
      "weighted avg       0.05      0.04      0.04       331\n",
      "\n"
     ]
    }
   ],
   "source": [
    "print(classification_report(test_tags, pred_tags))"
   ]
  },
  {
   "cell_type": "code",
   "execution_count": null,
   "metadata": {},
   "outputs": [],
   "source": []
  },
  {
   "cell_type": "code",
   "execution_count": null,
   "metadata": {},
   "outputs": [],
   "source": []
  }
 ],
 "metadata": {
  "kernelspec": {
   "display_name": "Python 3",
   "language": "python",
   "name": "python3"
  },
  "language_info": {
   "codemirror_mode": {
    "name": "ipython",
    "version": 3
   },
   "file_extension": ".py",
   "mimetype": "text/x-python",
   "name": "python",
   "nbconvert_exporter": "python",
   "pygments_lexer": "ipython3",
   "version": "3.7.6"
  }
 },
 "nbformat": 4,
 "nbformat_minor": 4
}
