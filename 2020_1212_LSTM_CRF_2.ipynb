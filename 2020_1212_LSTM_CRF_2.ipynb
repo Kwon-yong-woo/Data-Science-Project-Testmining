{
 "cells": [
  {
   "cell_type": "code",
   "execution_count": 2,
   "metadata": {},
   "outputs": [],
   "source": [
    "import numpy as np\n",
    "import pandas as pd\n",
    "import re\n",
    "\n",
    "from collections import Counter\n",
    "import string\n",
    "\n",
    "import re\n",
    "\n",
    "from tensorflow.keras.preprocessing.text import Tokenizer\n",
    "from tensorflow.keras.preprocessing.sequence import pad_sequences\n",
    "from tensorflow.keras.utils import to_categorical\n",
    "from sklearn.model_selection import train_test_split\n",
    "from tensorflow import keras\n",
    "from keras.models import Sequential\n",
    "from keras.layers import Dense, LSTM, InputLayer, Bidirectional, TimeDistributed, Embedding, Dropout\n",
    "from keras.layers import Input\n",
    "from keras.optimizers import Adam\n",
    "from keras.models import load_model\n",
    "from keras.losses import CategoricalCrossentropy\n",
    "from keras.losses import SparseCategoricalCrossentropy\n",
    "from keras import Model\n",
    "\n",
    "from keras_contrib.layers import CRF\n",
    "# from sklearn_crfsuite import CRF\n",
    "from keras_contrib.losses import crf_loss\n",
    "from keras_contrib.metrics import crf_viterbi_accuracy\n",
    "\n",
    "from konlpy.tag import Kkma\n",
    "from konlpy.tag import Mecab\n",
    "from konlpy.utils import pprint\n",
    "from konlpy.tag import Twitter,Okt\n",
    "\n",
    "from transformers import BertModel\n",
    "# from tokenization_kobert import KoBertTokenizer\n",
    "\n",
    "import os\n",
    "\n",
    "from tqdm import tqdm"
   ]
  },
  {
   "cell_type": "code",
   "execution_count": 3,
   "metadata": {
    "scrolled": true
   },
   "outputs": [
    {
     "name": "stdout",
     "output_type": "stream",
     "text": [
      "2.3.0\n"
     ]
    }
   ],
   "source": [
    "import tensorflow as tf\n",
    "print(tf.__version__)"
   ]
  },
  {
   "cell_type": "code",
   "execution_count": 4,
   "metadata": {},
   "outputs": [],
   "source": [
    "okt = Okt()"
   ]
  },
  {
   "cell_type": "code",
   "execution_count": 5,
   "metadata": {},
   "outputs": [
    {
     "data": {
      "text/plain": [
       "['air.xlsx', 'air_pro.xlsx', 'buds.xlsx', 'buds_live.xlsx', 'buds_plus.xlsx']"
      ]
     },
     "execution_count": 5,
     "metadata": {},
     "output_type": "execute_result"
    }
   ],
   "source": [
    "path_ = r\"C:\\Users\\user\\Documents\\DL_project\\NER\"\n",
    "file_list = os.listdir(path_)\n",
    "file_list_xlsx = [f for f in file_list if f.endswith(\".xlsx\")]\n",
    "file_list_xlsx"
   ]
  },
  {
   "cell_type": "code",
   "execution_count": 6,
   "metadata": {},
   "outputs": [],
   "source": [
    "for f in file_list_xlsx:\n",
    "    file_path = path_ + \"\\\\\" + f\n",
    "    name = f.replace(\".xlsx\",\"\")\n",
    "    globals () [\"df_{}\".format(name)] =  pd.read_excel(file_path, sheet_name=\"Sheet2\", index_col = 0)"
   ]
  },
  {
   "cell_type": "code",
   "execution_count": 7,
   "metadata": {
    "scrolled": true
   },
   "outputs": [
    {
     "data": {
      "text/html": [
       "<div>\n",
       "<style scoped>\n",
       "    .dataframe tbody tr th:only-of-type {\n",
       "        vertical-align: middle;\n",
       "    }\n",
       "\n",
       "    .dataframe tbody tr th {\n",
       "        vertical-align: top;\n",
       "    }\n",
       "\n",
       "    .dataframe thead th {\n",
       "        text-align: right;\n",
       "    }\n",
       "</style>\n",
       "<table border=\"1\" class=\"dataframe\">\n",
       "  <thead>\n",
       "    <tr style=\"text-align: right;\">\n",
       "      <th></th>\n",
       "      <th>word</th>\n",
       "      <th>rule_label</th>\n",
       "      <th>IOB</th>\n",
       "      <th>sentence</th>\n",
       "      <th>enter</th>\n",
       "      <th>review</th>\n",
       "      <th>pos</th>\n",
       "    </tr>\n",
       "  </thead>\n",
       "  <tbody>\n",
       "    <tr>\n",
       "      <th>0</th>\n",
       "      <td>☆☆</td>\n",
       "      <td>O</td>\n",
       "      <td>NaN</td>\n",
       "      <td>0</td>\n",
       "      <td>0</td>\n",
       "      <td>0</td>\n",
       "      <td>Foreign</td>\n",
       "    </tr>\n",
       "    <tr>\n",
       "      <th>1</th>\n",
       "      <td>나름</td>\n",
       "      <td>O</td>\n",
       "      <td>NaN</td>\n",
       "      <td>0</td>\n",
       "      <td>0</td>\n",
       "      <td>0</td>\n",
       "      <td>Noun</td>\n",
       "    </tr>\n",
       "    <tr>\n",
       "      <th>2</th>\n",
       "      <td>음향</td>\n",
       "      <td>SQ</td>\n",
       "      <td>B</td>\n",
       "      <td>0</td>\n",
       "      <td>0</td>\n",
       "      <td>0</td>\n",
       "      <td>Noun</td>\n",
       "    </tr>\n",
       "    <tr>\n",
       "      <th>3</th>\n",
       "      <td>기기</td>\n",
       "      <td>O</td>\n",
       "      <td>NaN</td>\n",
       "      <td>0</td>\n",
       "      <td>0</td>\n",
       "      <td>0</td>\n",
       "      <td>Noun</td>\n",
       "    </tr>\n",
       "    <tr>\n",
       "      <th>4</th>\n",
       "      <td>좋아하다</td>\n",
       "      <td>O</td>\n",
       "      <td>NaN</td>\n",
       "      <td>0</td>\n",
       "      <td>0</td>\n",
       "      <td>0</td>\n",
       "      <td>Adjective</td>\n",
       "    </tr>\n",
       "  </tbody>\n",
       "</table>\n",
       "</div>"
      ],
      "text/plain": [
       "   word rule_label  IOB  sentence  enter  review        pos\n",
       "0    ☆☆          O  NaN         0      0       0    Foreign\n",
       "1    나름          O  NaN         0      0       0       Noun\n",
       "2    음향         SQ    B         0      0       0       Noun\n",
       "3    기기          O  NaN         0      0       0       Noun\n",
       "4  좋아하다          O  NaN         0      0       0  Adjective"
      ]
     },
     "execution_count": 7,
     "metadata": {},
     "output_type": "execute_result"
    }
   ],
   "source": [
    "df_buds_live.head()"
   ]
  },
  {
   "cell_type": "code",
   "execution_count": 8,
   "metadata": {},
   "outputs": [],
   "source": [
    "def NER_generator(df):\n",
    "    df[\"IOB\"] = df[\"IOB\"].fillna(\"O\")\n",
    "    df[\"rule_label\"] = df.rule_label.replace(\"O\",\"\")\n",
    "    df[\"NER\"] = df[\"IOB\"] + \"-\" + df[\"rule_label\"]\n",
    "    df[\"NER\"] = df.NER.replace(\"O-\",\"O\")"
   ]
  },
  {
   "cell_type": "code",
   "execution_count": 9,
   "metadata": {},
   "outputs": [],
   "source": [
    "NER_generator(df_buds_live)"
   ]
  },
  {
   "cell_type": "code",
   "execution_count": 10,
   "metadata": {},
   "outputs": [
    {
     "data": {
      "text/html": [
       "<div>\n",
       "<style scoped>\n",
       "    .dataframe tbody tr th:only-of-type {\n",
       "        vertical-align: middle;\n",
       "    }\n",
       "\n",
       "    .dataframe tbody tr th {\n",
       "        vertical-align: top;\n",
       "    }\n",
       "\n",
       "    .dataframe thead th {\n",
       "        text-align: right;\n",
       "    }\n",
       "</style>\n",
       "<table border=\"1\" class=\"dataframe\">\n",
       "  <thead>\n",
       "    <tr style=\"text-align: right;\">\n",
       "      <th></th>\n",
       "      <th>word</th>\n",
       "      <th>rule_label</th>\n",
       "      <th>IOB</th>\n",
       "      <th>sentence</th>\n",
       "      <th>enter</th>\n",
       "      <th>review</th>\n",
       "      <th>pos</th>\n",
       "      <th>NER</th>\n",
       "    </tr>\n",
       "  </thead>\n",
       "  <tbody>\n",
       "    <tr>\n",
       "      <th>0</th>\n",
       "      <td>☆☆</td>\n",
       "      <td></td>\n",
       "      <td>O</td>\n",
       "      <td>0</td>\n",
       "      <td>0</td>\n",
       "      <td>0</td>\n",
       "      <td>Foreign</td>\n",
       "      <td>O</td>\n",
       "    </tr>\n",
       "    <tr>\n",
       "      <th>1</th>\n",
       "      <td>나름</td>\n",
       "      <td></td>\n",
       "      <td>O</td>\n",
       "      <td>0</td>\n",
       "      <td>0</td>\n",
       "      <td>0</td>\n",
       "      <td>Noun</td>\n",
       "      <td>O</td>\n",
       "    </tr>\n",
       "    <tr>\n",
       "      <th>2</th>\n",
       "      <td>음향</td>\n",
       "      <td>SQ</td>\n",
       "      <td>B</td>\n",
       "      <td>0</td>\n",
       "      <td>0</td>\n",
       "      <td>0</td>\n",
       "      <td>Noun</td>\n",
       "      <td>B-SQ</td>\n",
       "    </tr>\n",
       "    <tr>\n",
       "      <th>3</th>\n",
       "      <td>기기</td>\n",
       "      <td></td>\n",
       "      <td>O</td>\n",
       "      <td>0</td>\n",
       "      <td>0</td>\n",
       "      <td>0</td>\n",
       "      <td>Noun</td>\n",
       "      <td>O</td>\n",
       "    </tr>\n",
       "    <tr>\n",
       "      <th>4</th>\n",
       "      <td>좋아하다</td>\n",
       "      <td></td>\n",
       "      <td>O</td>\n",
       "      <td>0</td>\n",
       "      <td>0</td>\n",
       "      <td>0</td>\n",
       "      <td>Adjective</td>\n",
       "      <td>O</td>\n",
       "    </tr>\n",
       "    <tr>\n",
       "      <th>...</th>\n",
       "      <td>...</td>\n",
       "      <td>...</td>\n",
       "      <td>...</td>\n",
       "      <td>...</td>\n",
       "      <td>...</td>\n",
       "      <td>...</td>\n",
       "      <td>...</td>\n",
       "      <td>...</td>\n",
       "    </tr>\n",
       "    <tr>\n",
       "      <th>18506</th>\n",
       "      <td>가</td>\n",
       "      <td></td>\n",
       "      <td>O</td>\n",
       "      <td>1044</td>\n",
       "      <td>776</td>\n",
       "      <td>40</td>\n",
       "      <td>Josa</td>\n",
       "      <td>O</td>\n",
       "    </tr>\n",
       "    <tr>\n",
       "      <th>18507</th>\n",
       "      <td>훨씬</td>\n",
       "      <td></td>\n",
       "      <td>O</td>\n",
       "      <td>1044</td>\n",
       "      <td>776</td>\n",
       "      <td>40</td>\n",
       "      <td>Adverb</td>\n",
       "      <td>O</td>\n",
       "    </tr>\n",
       "    <tr>\n",
       "      <th>18508</th>\n",
       "      <td>좋다</td>\n",
       "      <td></td>\n",
       "      <td>O</td>\n",
       "      <td>1044</td>\n",
       "      <td>776</td>\n",
       "      <td>40</td>\n",
       "      <td>Adjective</td>\n",
       "      <td>O</td>\n",
       "    </tr>\n",
       "    <tr>\n",
       "      <th>18509</th>\n",
       "      <td>거</td>\n",
       "      <td></td>\n",
       "      <td>O</td>\n",
       "      <td>1044</td>\n",
       "      <td>776</td>\n",
       "      <td>40</td>\n",
       "      <td>Noun</td>\n",
       "      <td>O</td>\n",
       "    </tr>\n",
       "    <tr>\n",
       "      <th>18510</th>\n",
       "      <td>같다</td>\n",
       "      <td></td>\n",
       "      <td>O</td>\n",
       "      <td>1044</td>\n",
       "      <td>776</td>\n",
       "      <td>40</td>\n",
       "      <td>Adjective</td>\n",
       "      <td>O</td>\n",
       "    </tr>\n",
       "  </tbody>\n",
       "</table>\n",
       "<p>18511 rows × 8 columns</p>\n",
       "</div>"
      ],
      "text/plain": [
       "       word rule_label IOB  sentence  enter  review        pos   NER\n",
       "0        ☆☆              O         0      0       0    Foreign     O\n",
       "1        나름              O         0      0       0       Noun     O\n",
       "2        음향         SQ   B         0      0       0       Noun  B-SQ\n",
       "3        기기              O         0      0       0       Noun     O\n",
       "4      좋아하다              O         0      0       0  Adjective     O\n",
       "...     ...        ...  ..       ...    ...     ...        ...   ...\n",
       "18506     가              O      1044    776      40       Josa     O\n",
       "18507    훨씬              O      1044    776      40     Adverb     O\n",
       "18508    좋다              O      1044    776      40  Adjective     O\n",
       "18509     거              O      1044    776      40       Noun     O\n",
       "18510    같다              O      1044    776      40  Adjective     O\n",
       "\n",
       "[18511 rows x 8 columns]"
      ]
     },
     "execution_count": 10,
     "metadata": {},
     "output_type": "execute_result"
    }
   ],
   "source": [
    "df_buds_live"
   ]
  },
  {
   "cell_type": "code",
   "execution_count": 11,
   "metadata": {},
   "outputs": [
    {
     "data": {
      "text/plain": [
       "count    777.000000\n",
       "mean      23.823681\n",
       "std       31.254502\n",
       "min        1.000000\n",
       "25%        7.000000\n",
       "50%       14.000000\n",
       "75%       26.000000\n",
       "max      362.000000\n",
       "Name: word, dtype: float64"
      ]
     },
     "execution_count": 11,
     "metadata": {},
     "output_type": "execute_result"
    }
   ],
   "source": [
    "elw = df_buds_live.groupby('enter').count()\n",
    "iqr = elw['word'].describe()\n",
    "iqr"
   ]
  },
  {
   "cell_type": "code",
   "execution_count": 12,
   "metadata": {},
   "outputs": [
    {
     "data": {
      "text/plain": [
       "54.5"
      ]
     },
     "execution_count": 12,
     "metadata": {},
     "output_type": "execute_result"
    }
   ],
   "source": [
    "iqr_v = iqr['75%'] - iqr['25%']\n",
    "iqr['75%'] + 1.5* iqr_v"
   ]
  },
  {
   "cell_type": "code",
   "execution_count": 13,
   "metadata": {},
   "outputs": [
    {
     "data": {
      "text/plain": [
       "{'whiskers': [<matplotlib.lines.Line2D at 0x21518b5a850>,\n",
       "  <matplotlib.lines.Line2D at 0x21518b5abb0>],\n",
       " 'caps': [<matplotlib.lines.Line2D at 0x21518b5af10>,\n",
       "  <matplotlib.lines.Line2D at 0x21579ea72b0>],\n",
       " 'boxes': [<matplotlib.lines.Line2D at 0x21518b5a4f0>],\n",
       " 'medians': [<matplotlib.lines.Line2D at 0x21579ea7610>],\n",
       " 'fliers': [<matplotlib.lines.Line2D at 0x21579ea7970>],\n",
       " 'means': []}"
      ]
     },
     "execution_count": 13,
     "metadata": {},
     "output_type": "execute_result"
    },
    {
     "data": {
      "image/png": "[encoded data removed]",
      "text/plain": [
       "<Figure size 432x288 with 1 Axes>"
      ]
     },
     "metadata": {
      "needs_background": "light"
     },
     "output_type": "display_data"
    }
   ],
   "source": [
    "import matplotlib.pyplot as plt\n",
    "%matplotlib inline\n",
    "\n",
    "plt.boxplot(elw['word'])"
   ]
  },
  {
   "cell_type": "code",
   "execution_count": 14,
   "metadata": {},
   "outputs": [],
   "source": [
    "elw = df_buds_live.groupby('enter').count()\n",
    "slw = df_buds_live.groupby('sentence').count()"
   ]
  },
  {
   "cell_type": "code",
   "execution_count": 15,
   "metadata": {},
   "outputs": [
    {
     "data": {
      "text/html": [
       "<div>\n",
       "<style scoped>\n",
       "    .dataframe tbody tr th:only-of-type {\n",
       "        vertical-align: middle;\n",
       "    }\n",
       "\n",
       "    .dataframe tbody tr th {\n",
       "        vertical-align: top;\n",
       "    }\n",
       "\n",
       "    .dataframe thead th {\n",
       "        text-align: right;\n",
       "    }\n",
       "</style>\n",
       "<table border=\"1\" class=\"dataframe\">\n",
       "  <thead>\n",
       "    <tr style=\"text-align: right;\">\n",
       "      <th></th>\n",
       "      <th>word</th>\n",
       "      <th>rule_label</th>\n",
       "      <th>IOB</th>\n",
       "      <th>sentence</th>\n",
       "      <th>review</th>\n",
       "      <th>pos</th>\n",
       "      <th>NER</th>\n",
       "    </tr>\n",
       "    <tr>\n",
       "      <th>enter</th>\n",
       "      <th></th>\n",
       "      <th></th>\n",
       "      <th></th>\n",
       "      <th></th>\n",
       "      <th></th>\n",
       "      <th></th>\n",
       "      <th></th>\n",
       "    </tr>\n",
       "  </thead>\n",
       "  <tbody>\n",
       "    <tr>\n",
       "      <th>0</th>\n",
       "      <td>14</td>\n",
       "      <td>14</td>\n",
       "      <td>14</td>\n",
       "      <td>14</td>\n",
       "      <td>14</td>\n",
       "      <td>14</td>\n",
       "      <td>14</td>\n",
       "    </tr>\n",
       "    <tr>\n",
       "      <th>1</th>\n",
       "      <td>54</td>\n",
       "      <td>54</td>\n",
       "      <td>54</td>\n",
       "      <td>54</td>\n",
       "      <td>54</td>\n",
       "      <td>54</td>\n",
       "      <td>54</td>\n",
       "    </tr>\n",
       "    <tr>\n",
       "      <th>2</th>\n",
       "      <td>31</td>\n",
       "      <td>31</td>\n",
       "      <td>31</td>\n",
       "      <td>31</td>\n",
       "      <td>31</td>\n",
       "      <td>31</td>\n",
       "      <td>31</td>\n",
       "    </tr>\n",
       "    <tr>\n",
       "      <th>3</th>\n",
       "      <td>19</td>\n",
       "      <td>19</td>\n",
       "      <td>19</td>\n",
       "      <td>19</td>\n",
       "      <td>19</td>\n",
       "      <td>19</td>\n",
       "      <td>19</td>\n",
       "    </tr>\n",
       "    <tr>\n",
       "      <th>4</th>\n",
       "      <td>19</td>\n",
       "      <td>19</td>\n",
       "      <td>19</td>\n",
       "      <td>19</td>\n",
       "      <td>19</td>\n",
       "      <td>19</td>\n",
       "      <td>19</td>\n",
       "    </tr>\n",
       "    <tr>\n",
       "      <th>...</th>\n",
       "      <td>...</td>\n",
       "      <td>...</td>\n",
       "      <td>...</td>\n",
       "      <td>...</td>\n",
       "      <td>...</td>\n",
       "      <td>...</td>\n",
       "      <td>...</td>\n",
       "    </tr>\n",
       "    <tr>\n",
       "      <th>772</th>\n",
       "      <td>63</td>\n",
       "      <td>63</td>\n",
       "      <td>63</td>\n",
       "      <td>63</td>\n",
       "      <td>63</td>\n",
       "      <td>63</td>\n",
       "      <td>63</td>\n",
       "    </tr>\n",
       "    <tr>\n",
       "      <th>773</th>\n",
       "      <td>10</td>\n",
       "      <td>10</td>\n",
       "      <td>10</td>\n",
       "      <td>10</td>\n",
       "      <td>10</td>\n",
       "      <td>10</td>\n",
       "      <td>10</td>\n",
       "    </tr>\n",
       "    <tr>\n",
       "      <th>774</th>\n",
       "      <td>13</td>\n",
       "      <td>13</td>\n",
       "      <td>13</td>\n",
       "      <td>13</td>\n",
       "      <td>13</td>\n",
       "      <td>13</td>\n",
       "      <td>13</td>\n",
       "    </tr>\n",
       "    <tr>\n",
       "      <th>775</th>\n",
       "      <td>18</td>\n",
       "      <td>18</td>\n",
       "      <td>18</td>\n",
       "      <td>18</td>\n",
       "      <td>18</td>\n",
       "      <td>18</td>\n",
       "      <td>18</td>\n",
       "    </tr>\n",
       "    <tr>\n",
       "      <th>776</th>\n",
       "      <td>19</td>\n",
       "      <td>19</td>\n",
       "      <td>19</td>\n",
       "      <td>19</td>\n",
       "      <td>19</td>\n",
       "      <td>19</td>\n",
       "      <td>19</td>\n",
       "    </tr>\n",
       "  </tbody>\n",
       "</table>\n",
       "<p>777 rows × 7 columns</p>\n",
       "</div>"
      ],
      "text/plain": [
       "       word  rule_label  IOB  sentence  review  pos  NER\n",
       "enter                                                   \n",
       "0        14          14   14        14      14   14   14\n",
       "1        54          54   54        54      54   54   54\n",
       "2        31          31   31        31      31   31   31\n",
       "3        19          19   19        19      19   19   19\n",
       "4        19          19   19        19      19   19   19\n",
       "...     ...         ...  ...       ...     ...  ...  ...\n",
       "772      63          63   63        63      63   63   63\n",
       "773      10          10   10        10      10   10   10\n",
       "774      13          13   13        13      13   13   13\n",
       "775      18          18   18        18      18   18   18\n",
       "776      19          19   19        19      19   19   19\n",
       "\n",
       "[777 rows x 7 columns]"
      ]
     },
     "execution_count": 15,
     "metadata": {},
     "output_type": "execute_result"
    }
   ],
   "source": [
    "elw"
   ]
  },
  {
   "cell_type": "code",
   "execution_count": 16,
   "metadata": {},
   "outputs": [],
   "source": [
    "length = df_buds_live['enter'].unique()"
   ]
  },
  {
   "cell_type": "code",
   "execution_count": 17,
   "metadata": {
    "scrolled": true
   },
   "outputs": [
    {
     "name": "stdout",
     "output_type": "stream",
     "text": [
      "전체 샘플 개수: 777\n"
     ]
    }
   ],
   "source": [
    "func = lambda temp: [(w, t) for w, t in zip(temp[\"word\"].values.tolist(), temp[\"NER\"].values.tolist())]\n",
    "tagged_sentences=[t for t in df_buds_live.groupby(\"enter\").apply(func)]\n",
    "print(\"전체 샘플 개수: {}\".format(len(tagged_sentences)))"
   ]
  },
  {
   "cell_type": "code",
   "execution_count": 18,
   "metadata": {
    "scrolled": true
   },
   "outputs": [
    {
     "data": {
      "text/plain": [
       "[('현', 'O'),\n",
       " ('존', 'O'),\n",
       " ('시장', 'O'),\n",
       " ('에', 'O'),\n",
       " ('나오다', 'O'),\n",
       " ('블투', 'O'),\n",
       " ('이어폰', 'O'),\n",
       " ('들', 'O'),\n",
       " ('중', 'O'),\n",
       " ('에서는', 'O'),\n",
       " ('음질', 'B-SQ'),\n",
       " ('면', 'O'),\n",
       " ('에서', 'O'),\n",
       " ('나름', 'O'),\n",
       " ('상급', 'O'),\n",
       " ('티어', 'O'),\n",
       " ('라고', 'O'),\n",
       " ('보다', 'O'),\n",
       " ('무방', 'O'),\n",
       " ('하다', 'O'),\n",
       " ('듯', 'O'),\n",
       " ('(', 'O'),\n",
       " ('N', 'O'),\n",
       " ('400', 'O'),\n",
       " ('이', 'O'),\n",
       " ('블투중', 'O'),\n",
       " ('음질', 'B-SQ'),\n",
       " ('이', 'O'),\n",
       " ('차다', 'O'),\n",
       " ('좋다', 'O'),\n",
       " ('하다', 'O'),\n",
       " ('안', 'O'),\n",
       " ('들다', 'O'),\n",
       " ('보다', 'O'),\n",
       " ('모르다', 'O'),\n",
       " ('개인', 'O'),\n",
       " ('적', 'O'),\n",
       " ('으로', 'O'),\n",
       " ('아이팟', 'O'),\n",
       " ('프로', 'B-COM'),\n",
       " ('보다는', 'O'),\n",
       " ('더', 'O'),\n",
       " ('좋다', 'O'),\n",
       " ('생각', 'O'),\n",
       " (')', 'O'),\n",
       " ('그리고', 'O'),\n",
       " ('커널', 'B-FIT'),\n",
       " ('형', 'I-FIT'),\n",
       " ('도', 'O'),\n",
       " ('아니다', 'O'),\n",
       " ('오픈', 'B-FIT'),\n",
       " ('형', 'I-FIT'),\n",
       " ('이어폰', 'O'),\n",
       " ('이다', 'O'),\n",
       " ('불구', 'O'),\n",
       " ('하고', 'O'),\n",
       " ('풍부하다', 'B-SQ'),\n",
       " ('중', 'O'),\n",
       " ('저음', 'B-SQ'),\n",
       " ('부스트', 'O'),\n",
       " ('를', 'O'),\n",
       " ('제', 'O'),\n",
       " ('공함', 'O'),\n",
       " ('.', 'O'),\n",
       " ('중', 'B-SQ'),\n",
       " ('저음', 'I-SQ'),\n",
       " ('이', 'O'),\n",
       " ('꽤', 'O'),\n",
       " ('나', 'O'),\n",
       " ('훌륭하다', 'O'),\n",
       " ('(', 'O'),\n",
       " ('물론', 'O'),\n",
       " ('자다', 'O'),\n",
       " ('착용', 'B-FIT'),\n",
       " ('시', 'O'),\n",
       " (',', 'O'),\n",
       " ('내이', 'O'),\n",
       " ('도', 'O'),\n",
       " ('밀착', 'B-FIT'),\n",
       " (')', 'O'),\n",
       " ('힙합', 'B-SQ'),\n",
       " (',', 'O'),\n",
       " ('EDM', 'O'),\n",
       " (',', 'O'),\n",
       " ('락', 'B-SQ'),\n",
       " ('등', 'O'),\n",
       " ('매우', 'O'),\n",
       " ('자다', 'O'),\n",
       " ('소화', 'O'),\n",
       " ('시킴', 'O'),\n",
       " ('.', 'O'),\n",
       " ('약간', 'O'),\n",
       " ('인위', 'O'),\n",
       " ('적', 'O'),\n",
       " ('인', 'O'),\n",
       " ('베이스', 'B-SQ'),\n",
       " ('소리', 'I-SQ'),\n",
       " ('처럼', 'O'),\n",
       " ('들리다', 'B-SQ'),\n",
       " ('기도', 'O'),\n",
       " ('하나', 'O'),\n",
       " ('그게', 'O'),\n",
       " ('깔끔하다', 'B-SQ'),\n",
       " ('저음', 'B-SQ'),\n",
       " ('역대', 'O'),\n",
       " ('소리', 'B-SQ'),\n",
       " ('를', 'O'),\n",
       " ('표현', 'O'),\n",
       " ('해주다', 'O'),\n",
       " ('저음', 'B-SQ'),\n",
       " ('을', 'O'),\n",
       " ('감당', 'O'),\n",
       " ('못', 'O'),\n",
       " ('하다', 'O'),\n",
       " ('소리', 'B-SQ'),\n",
       " ('가', 'O'),\n",
       " ('찢어지다', 'O'),\n",
       " ('뭉개', 'O'),\n",
       " ('지는', 'O'),\n",
       " ('소리', 'B-SQ'),\n",
       " ('없이', 'O'),\n",
       " ('강하다', 'O'),\n",
       " ('풍부하다', 'B-SQ'),\n",
       " ('베이스', 'B-SQ'),\n",
       " ('비트', 'O'),\n",
       " ('를', 'O'),\n",
       " ('자다', 'O'),\n",
       " ('소화', 'O'),\n",
       " ('해내다', 'O'),\n",
       " ('.', 'O'),\n",
       " ('오픈', 'B-FIT'),\n",
       " ('형', 'I-FIT'),\n",
       " ('인데', 'O'),\n",
       " ('도', 'O'),\n",
       " ('불구', 'O'),\n",
       " ('하고', 'O'),\n",
       " ('구조', 'O'),\n",
       " ('가', 'O'),\n",
       " ('내이', 'O'),\n",
       " ('도', 'O'),\n",
       " ('밀착', 'B-FIT'),\n",
       " ('되다', 'O'),\n",
       " ('오픈', 'B-FIT'),\n",
       " ('형', 'I-FIT'),\n",
       " ('이라', 'O'),\n",
       " ('그렇다', 'O'),\n",
       " ('일반', 'O'),\n",
       " ('오픈', 'B-FIT'),\n",
       " ('형', 'I-FIT'),\n",
       " ('처럼', 'O'),\n",
       " ('저음', 'B-SQ'),\n",
       " ('이', 'O'),\n",
       " ('나르다', 'O'),\n",
       " ('새다', 'O'),\n",
       " ('느낌', 'O'),\n",
       " ('이', 'O'),\n",
       " ('없다', 'O'),\n",
       " ('좋다', 'O'),\n",
       " ('.(', 'O'),\n",
       " ('당연하다', 'O'),\n",
       " ('하이엔드', 'O'),\n",
       " ('급', 'O'),\n",
       " ('오픈', 'B-FIT'),\n",
       " ('형', 'I-FIT'),\n",
       " ('이어폰', 'O'),\n",
       " ('상품', 'O'),\n",
       " ('들', 'O'),\n",
       " ('도', 'O'),\n",
       " ('대부분', 'O'),\n",
       " ('그러하다', 'O'),\n",
       " (')', 'O'),\n",
       " ('내', 'O'),\n",
       " ('이도', 'O'),\n",
       " ('에', 'O'),\n",
       " ('밀착', 'B-FIT'),\n",
       " ('착용', 'I-FIT'),\n",
       " ('시', 'O'),\n",
       " ('골', 'O'),\n",
       " ('전도', 'O'),\n",
       " ('효과', 'O'),\n",
       " ('처럼', 'O'),\n",
       " ('마치', 'O'),\n",
       " ('커널', 'B-FIT'),\n",
       " ('형', 'I-FIT'),\n",
       " ('이어폰', 'O'),\n",
       " ('쓸다', 'O'),\n",
       " ('때', 'O'),\n",
       " ('와', 'O'),\n",
       " ('비슷하다', 'O'),\n",
       " ('머리', 'O'),\n",
       " ('속', 'O'),\n",
       " ('한가운데', 'O'),\n",
       " ('서', 'O'),\n",
       " ('둥둥', 'O'),\n",
       " ('튀기다', 'O'),\n",
       " ('베이스', 'B-SQ'),\n",
       " ('부스트', 'O'),\n",
       " ('를', 'O'),\n",
       " ('경험', 'O'),\n",
       " ('하다', 'O'),\n",
       " ('수', 'O'),\n",
       " ('있다', 'O'),\n",
       " ('(', 'O'),\n",
       " ('볼륨', 'B-SQ'),\n",
       " ('60%', 'O'),\n",
       " ('이상일', 'O'),\n",
       " ('경우', 'O'),\n",
       " (',', 'O'),\n",
       " ('진짜', 'O'),\n",
       " ('두뇌', 'O'),\n",
       " ('하다', 'O'),\n",
       " ('가운데', 'O'),\n",
       " ('서', 'O'),\n",
       " ('둥둥', 'O'),\n",
       " ('튀기다', 'O'),\n",
       " ('타', 'B-SQ'),\n",
       " ('격감', 'I-SQ'),\n",
       " ('과', 'O'),\n",
       " ('공간', 'O'),\n",
       " ('감', 'O'),\n",
       " ('있다', 'O'),\n",
       " ('풍부하다', 'B-SQ'),\n",
       " ('베이스', 'B-SQ'),\n",
       " ('를', 'O'),\n",
       " ('경험', 'O'),\n",
       " ('하다', 'O'),\n",
       " ('수', 'O'),\n",
       " ('있다', 'O'),\n",
       " ('.', 'O'),\n",
       " ('들다', 'O'),\n",
       " ('수록', 'O'),\n",
       " ('가슴', 'O'),\n",
       " ('이', 'O'),\n",
       " ('웅장', 'O'),\n",
       " ('하다', 'O'),\n",
       " ('짐', 'O'),\n",
       " ('ㅋㅋㅋ', 'O'),\n",
       " (')', 'O'),\n",
       " ('ㅋ', 'O'),\n",
       " ('진짜', 'O'),\n",
       " ('오픈', 'B-FIT'),\n",
       " ('형', 'I-FIT'),\n",
       " ('이어폰', 'O'),\n",
       " ('인데', 'O'),\n",
       " ('커널', 'B-FIT'),\n",
       " ('형', 'I-FIT'),\n",
       " ('처럼', 'O'),\n",
       " ('작용', 'O'),\n",
       " ('하다', 'O'),\n",
       " ('신기하다', 'O'),\n",
       " ('(', 'O'),\n",
       " ('12', 'O'),\n",
       " ('mm', 'O'),\n",
       " ('드라이버', 'O'),\n",
       " ('효과', 'O'),\n",
       " ('인', 'O'),\n",
       " ('듯', 'O'),\n",
       " (',', 'O'),\n",
       " ('근데', 'O'),\n",
       " ('해상', 'B-SQ'),\n",
       " ('력', 'I-SQ'),\n",
       " ('에', 'O'),\n",
       " ('대해', 'O'),\n",
       " ('첨', 'O'),\n",
       " ('언', 'O'),\n",
       " ('하자', 'O'),\n",
       " ('면', 'O'),\n",
       " ('개다', 'O'),\n",
       " ('라이브', 'O'),\n",
       " ('는', 'O'),\n",
       " ('투', 'O'),\n",
       " ('웨이', 'O'),\n",
       " ('스피커', 'O'),\n",
       " ('이다', 'O'),\n",
       " ('버즈', 'B-TK'),\n",
       " ('플', 'I-TK'),\n",
       " ('과', 'O'),\n",
       " ('달리', 'O'),\n",
       " ('원', 'O'),\n",
       " ('웨이', 'O'),\n",
       " ('스피커', 'O'),\n",
       " ('라', 'O'),\n",
       " ('버즈', 'B-TK'),\n",
       " ('플', 'I-TK'),\n",
       " ('보다', 'O'),\n",
       " ('약간', 'O'),\n",
       " ('해상', 'B-SQ'),\n",
       " ('력', 'I-SQ'),\n",
       " ('이', 'O'),\n",
       " ('떨어지다', 'O'),\n",
       " ('아니다', 'O'),\n",
       " ('추측', 'O'),\n",
       " ('.', 'O'),\n",
       " ('물론', 'O'),\n",
       " ('사람', 'O'),\n",
       " ('마다', 'O'),\n",
       " ('달리', 'O'),\n",
       " ('들리다', 'B-SQ'),\n",
       " ('수', 'O'),\n",
       " ('있다', 'O'),\n",
       " (',', 'O'),\n",
       " ('참고', 'O'),\n",
       " ('로', 'O'),\n",
       " ('버즈', 'B-TK'),\n",
       " ('플', 'I-TK'),\n",
       " ('드라이버', 'O'),\n",
       " ('는', 'O'),\n",
       " ('6', 'O'),\n",
       " ('mm', 'O'),\n",
       " (')', 'O'),\n",
       " ('기존', 'O'),\n",
       " ('다른', 'O'),\n",
       " ('오픈', 'B-FIT'),\n",
       " ('형', 'I-FIT'),\n",
       " ('이어폰', 'O'),\n",
       " ('으로', 'O'),\n",
       " ('베이스', 'B-SQ'),\n",
       " ('타', 'B-SQ'),\n",
       " ('격감', 'I-SQ'),\n",
       " ('을', 'O'),\n",
       " ('즐기다', 'O'),\n",
       " ('손', 'O'),\n",
       " ('으로', 'O'),\n",
       " ('꾹', 'O'),\n",
       " ('누르다', 'O'),\n",
       " ('잡고', 'O'),\n",
       " ('들다', 'O'),\n",
       " ('하다', 'O'),\n",
       " ('라이브', 'O'),\n",
       " ('는', 'O'),\n",
       " ('(', 'O'),\n",
       " ('적어도', 'O'),\n",
       " ('작성자', 'O'),\n",
       " ('귀', 'O'),\n",
       " ('에는', 'O'),\n",
       " (')', 'O'),\n",
       " ('그렇다', 'O'),\n",
       " ('필요', 'O'),\n",
       " ('가', 'O'),\n",
       " ('없이', 'O'),\n",
       " ('킥', 'B-SQ'),\n",
       " ('베이스', 'B-SQ'),\n",
       " ('가', 'O'),\n",
       " ('뇌', 'O'),\n",
       " ('를', 'O'),\n",
       " ('적다', 'O'),\n",
       " ('줌', 'O'),\n",
       " ('ㅋ', 'O'),\n",
       " ('암튼', 'O'),\n",
       " ('오픈', 'B-FIT'),\n",
       " ('형', 'I-FIT'),\n",
       " ('임', 'O'),\n",
       " ('에도', 'O'),\n",
       " ('중', 'B-SQ'),\n",
       " ('저음', 'I-SQ'),\n",
       " (',', 'O'),\n",
       " ('타', 'B-SQ'),\n",
       " ('격감', 'I-SQ'),\n",
       " ('은', 'O'),\n",
       " ('완전', 'O'),\n",
       " ('칭찬', 'O'),\n",
       " ('.', 'O')]"
      ]
     },
     "execution_count": 18,
     "metadata": {},
     "output_type": "execute_result"
    }
   ],
   "source": [
    "tagged_sentences[57]"
   ]
  },
  {
   "cell_type": "code",
   "execution_count": 19,
   "metadata": {},
   "outputs": [],
   "source": [
    "sentences, ner_tags = [], [] \n",
    "for tagged_sentence in tagged_sentences: # 47,959개의 문장 샘플을 1개씩 불러온다.\n",
    "    sentence, tag_info = zip(*tagged_sentence) # 각 샘플에서 단어들은 sentence에 개체명 태깅 정보들은 tag_info에 저장.\n",
    "    sentences.append(list(sentence)) # 각 샘플에서 단어 정보만 저장한다.\n",
    "    ner_tags.append(list(tag_info)) # 각 샘플에서 개체명 태깅 정보만 저장한다."
   ]
  },
  {
   "cell_type": "code",
   "execution_count": 20,
   "metadata": {},
   "outputs": [
    {
     "name": "stdout",
     "output_type": "stream",
     "text": [
      "['☆☆', '나름', '음향', '기기', '좋아하다', '일반', '유저', '의', '매우', '상세', '한', '리뷰', '작성', '☆☆']\n",
      "['O', 'O', 'B-SQ', 'O', 'O', 'O', 'O', 'O', 'O', 'O', 'O', 'O', 'O', 'O']\n"
     ]
    }
   ],
   "source": [
    "print(sentences[0])\n",
    "print(ner_tags[0])"
   ]
  },
  {
   "cell_type": "code",
   "execution_count": 21,
   "metadata": {},
   "outputs": [
    {
     "name": "stdout",
     "output_type": "stream",
     "text": [
      "리뷰의 최대 길이 : 362\n"
     ]
    },
    {
     "data": {
      "image/png": "[encoded data removed]",
      "text/plain": [
       "<Figure size 432x288 with 1 Axes>"
      ]
     },
     "metadata": {
      "needs_background": "light"
     },
     "output_type": "display_data"
    }
   ],
   "source": [
    "print('리뷰의 최대 길이 : %d' % max(len(l) for l in tagged_sentences))\n",
    "plt.hist([len(s) for s in tagged_sentences], bins=50)\n",
    "plt.xlabel('length of samples')\n",
    "plt.ylabel('number of samples')\n",
    "plt.show()"
   ]
  },
  {
   "cell_type": "code",
   "execution_count": 22,
   "metadata": {},
   "outputs": [],
   "source": [
    "src_tokenizer = Tokenizer(oov_token='OOV') # 모든 단어를 사용하지만 인덱스 1에는 단어 'OOV'를 할당한다.\n",
    "src_tokenizer.fit_on_texts(sentences)\n",
    "tar_tokenizer = Tokenizer(lower=False) # 태깅 정보들은 내부적으로 대문자를 유지한채로 저장\n",
    "tar_tokenizer.fit_on_texts(ner_tags)"
   ]
  },
  {
   "cell_type": "code",
   "execution_count": 23,
   "metadata": {
    "scrolled": true
   },
   "outputs": [
    {
     "name": "stdout",
     "output_type": "stream",
     "text": [
      "단어 집합의 크기 : 2727\n",
      "개체명 태깅 정보 집합의 크기 : 44\n"
     ]
    }
   ],
   "source": [
    "vocab_size = len(src_tokenizer.word_index) + 1\n",
    "tag_size = len(tar_tokenizer.word_index) + 1\n",
    "print('단어 집합의 크기 : {}'.format(vocab_size))\n",
    "print('개체명 태깅 정보 집합의 크기 : {}'.format(tag_size))"
   ]
  },
  {
   "cell_type": "code",
   "execution_count": 24,
   "metadata": {},
   "outputs": [
    {
     "name": "stdout",
     "output_type": "stream",
     "text": [
      "단어 OOV의 인덱스 : 1\n"
     ]
    }
   ],
   "source": [
    "print('단어 OOV의 인덱스 : {}'.format(src_tokenizer.word_index['OOV']))"
   ]
  },
  {
   "cell_type": "code",
   "execution_count": 25,
   "metadata": {},
   "outputs": [],
   "source": [
    "X_train = src_tokenizer.texts_to_sequences(sentences)\n",
    "y_train = tar_tokenizer.texts_to_sequences(ner_tags)"
   ]
  },
  {
   "cell_type": "code",
   "execution_count": 26,
   "metadata": {
    "scrolled": true
   },
   "outputs": [
    {
     "name": "stdout",
     "output_type": "stream",
     "text": [
      "[549, 108, 378, 138, 156, 251, 379, 24, 114, 1485, 37, 139, 1033, 549]\n",
      "[1, 1, 3, 1, 1, 1, 1, 1, 1, 1, 1, 1, 1, 1]\n"
     ]
    }
   ],
   "source": [
    "print(X_train[0])\n",
    "print(y_train[0])"
   ]
  },
  {
   "cell_type": "code",
   "execution_count": 27,
   "metadata": {},
   "outputs": [],
   "source": [
    "word_to_index = src_tokenizer.word_index\n",
    "index_to_word = src_tokenizer.index_word\n",
    "ner_to_index = tar_tokenizer.word_index\n",
    "index_to_ner = tar_tokenizer.index_word\n",
    "index_to_ner[0] = 'PAD'"
   ]
  },
  {
   "cell_type": "code",
   "execution_count": 28,
   "metadata": {},
   "outputs": [
    {
     "name": "stdout",
     "output_type": "stream",
     "text": [
      "{1: 'O', 2: 'B-FIT', 3: 'B-SQ', 4: 'I-FIT', 5: 'B-NC', 6: 'B-DE', 7: 'B-COM', 8: 'I-NC', 9: 'I-SQ', 10: 'B-PAR', 11: 'B-TK', 12: 'I-TK', 13: 'I-COM', 14: 'B-CNV', 15: 'I-DE', 16: 'B-CAQ', 17: 'B-PR', 18: 'B-CMP', 19: 'B-CA', 20: 'B-BAT', 21: 'I-PAR', 22: 'I-CAQ', 23: 'I-CNV', 24: 'I-CMP', 25: 'I-BAT', 26: 'O-SQ', 27: 'B-AS', 28: 'I-PR', 29: 'B-WEI', 30: 'O-OOOOO', 31: 'O-FIT', 32: 'I-AS', 33: 'B-FA', 34: 'B-', 35: 'O-CMP', 36: 'O-CNV', 37: 'I-CA', 38: 'I-WEI', 39: 'N-NC', 40: 'O-DE', 41: 'O-PR', 42: 'O-PAR', 43: 'I-', 0: 'PAD'}\n"
     ]
    }
   ],
   "source": [
    "print(index_to_ner)"
   ]
  },
  {
   "cell_type": "code",
   "execution_count": 29,
   "metadata": {},
   "outputs": [
    {
     "name": "stdout",
     "output_type": "stream",
     "text": [
      "기존 문장 : ['《', '인트', '로', '》']\n",
      "디코딩 문장 : ['《', '인트', '로', '》']\n"
     ]
    }
   ],
   "source": [
    "decoded = []\n",
    "for index in X_train[5] : # 첫번째 샘플 안의 인덱스들에 대해서\n",
    "    decoded.append(index_to_word[index]) # 다시 단어로 변환\n",
    "\n",
    "print('기존 문장 : {}'.format(sentences[5]))\n",
    "print('디코딩 문장 : {}'.format(decoded))"
   ]
  },
  {
   "cell_type": "code",
   "execution_count": 30,
   "metadata": {},
   "outputs": [],
   "source": [
    "max_len = 70\n",
    "# 모든 샘플들의 길이를 맞출 때 뒤의 공간에 숫자 0으로 채움.\n",
    "X_train = pad_sequences(X_train, padding='post', maxlen=max_len)\n",
    "y_train = pad_sequences(y_train, padding='post', maxlen=max_len)"
   ]
  },
  {
   "cell_type": "code",
   "execution_count": 31,
   "metadata": {},
   "outputs": [],
   "source": [
    "X_train, X_test, y_train, y_test = train_test_split(X_train, y_train, test_size=.2, random_state=777)"
   ]
  },
  {
   "cell_type": "code",
   "execution_count": 32,
   "metadata": {},
   "outputs": [],
   "source": [
    "y_train = to_categorical(y_train, num_classes=tag_size)\n",
    "y_test = to_categorical(y_test, num_classes=tag_size)"
   ]
  },
  {
   "cell_type": "code",
   "execution_count": 33,
   "metadata": {},
   "outputs": [
    {
     "name": "stdout",
     "output_type": "stream",
     "text": [
      "훈련 샘플 문장의 크기 : (621, 70)\n",
      "훈련 샘플 레이블의 크기 : (621, 70, 44)\n",
      "테스트 샘플 문장의 크기 : (156, 70)\n",
      "테스트 샘플 레이블의 크기 : (156, 70, 44)\n"
     ]
    }
   ],
   "source": [
    "print('훈련 샘플 문장의 크기 : {}'.format(X_train.shape))\n",
    "print('훈련 샘플 레이블의 크기 : {}'.format(y_train.shape))\n",
    "print('테스트 샘플 문장의 크기 : {}'.format(X_test.shape))\n",
    "print('테스트 샘플 레이블의 크기 : {}'.format(y_test.shape))"
   ]
  },
  {
   "cell_type": "code",
   "execution_count": 34,
   "metadata": {},
   "outputs": [
    {
     "name": "stdout",
     "output_type": "stream",
     "text": [
      "['O', 'O', 'O', 'O', 'O', 'O', 'O', 'O', 'O', 'O', 'O', 'O', 'O', 'O', 'O', 'O', 'O', 'O', 'O', 'O', 'O', 'O', 'O', 'O', 'O', 'O', 'O', 'O', 'O', 'O', 'O', 'O', 'O', 'O', 'O', 'O', 'O', 'O', 'O']\n"
     ]
    }
   ],
   "source": [
    "true=['B-PER', 'I-PER', 'O', 'O', 'B-MISC', 'O','O','O','O','O','O','O','O','O','O','B-PER','I-PER','O','O','O','O','O','O','B-MISC','I-MISC','I-MISC','O','O','O','O','O','O','B-PER','I-PER','O','O','O','O','O']\n",
    "# 실제값\n",
    "predicted=['O'] * len(true) #실제값의 길이만큼 전부 'O'로 채워진 리스트 생성. 예측값으로 사용.\n",
    "print(predicted)"
   ]
  },
  {
   "cell_type": "code",
   "execution_count": 35,
   "metadata": {},
   "outputs": [
    {
     "name": "stdout",
     "output_type": "stream",
     "text": [
      "정확도: 74.4%\n"
     ]
    }
   ],
   "source": [
    "hit = 0 # 정답 개수\n",
    "for t, p in zip(true, predicted):\n",
    "    if t == p:\n",
    "        hit +=1 # 정답인 경우에만 +1\n",
    "accuracy = hit/len(true) # 정답 개수를 총 개수로 나눈다.\n",
    "print(\"정확도: {:.1%}\".format(accuracy))"
   ]
  },
  {
   "cell_type": "code",
   "execution_count": 36,
   "metadata": {},
   "outputs": [],
   "source": [
    "from seqeval.metrics import precision_score, recall_score, f1_score, classification_report"
   ]
  },
  {
   "cell_type": "code",
   "execution_count": 37,
   "metadata": {},
   "outputs": [
    {
     "name": "stdout",
     "output_type": "stream",
     "text": [
      "              precision    recall  f1-score   support\n",
      "\n",
      "        MISC       1.00      0.50      0.67         2\n",
      "         PER       1.00      0.67      0.80         3\n",
      "\n",
      "   micro avg       1.00      0.60      0.75         5\n",
      "   macro avg       1.00      0.58      0.73         5\n",
      "weighted avg       1.00      0.60      0.75         5\n",
      "\n"
     ]
    }
   ],
   "source": [
    "true=['B-PER', 'I-PER', 'O', 'O', 'B-MISC', 'O','O','O','O','O','O','O','O','O','O','B-PER','I-PER','O','O','O','O','O','O','B-MISC','I-MISC','I-MISC','O','O','O','O','O','O','B-PER','I-PER','O','O','O','O','O']\n",
    "predicted=['B-PER', 'I-PER', 'O', 'O', 'B-MISC', 'O','O','O','O','O','O','O','O','O','O','B-PER','I-PER','O','O','O','O','O','O','O','O','O','O','O','O','O','O','O','O','O','O','O','O','O','O']\n",
    "\n",
    "print(classification_report([true], [predicted]))"
   ]
  },
  {
   "cell_type": "code",
   "execution_count": 38,
   "metadata": {},
   "outputs": [],
   "source": [
    "from keras.callbacks import Callback\n",
    "from seqeval.metrics import f1_score, classification_report"
   ]
  },
  {
   "cell_type": "code",
   "execution_count": 39,
   "metadata": {},
   "outputs": [],
   "source": [
    "class F1score(Callback):\n",
    "    def __init__(self, value = 0.0, use_char=True ):\n",
    "        super(F1score, self).__init__()\n",
    "        self.value = value\n",
    "        self.use_char = use_char\n",
    "\n",
    "    def sequences_to_tags(self, sequences): # 예측값을 index_to_ner를 사용하여 태깅 정보로 변경하는 함수.\n",
    "        result = []\n",
    "        for sequence in sequences: # 전체 시퀀스로부터 시퀀스를 하나씩 꺼낸다.\n",
    "            tag = []\n",
    "            for pred in sequence: # 시퀀스로부터 예측값을 하나씩 꺼낸다.\n",
    "                pred_index = np.argmax(pred) # 예를 들어 [0, 0, 1, 0 ,0]라면 1의 인덱스인 2를 리턴한다.\n",
    "                tag.append(index_to_ner[pred_index].replace(\"PAD\", \"O\")) # 'PAD'는 'O'로 변경\n",
    "            result.append(tag)\n",
    "        return result\n",
    "\n",
    "    # 에포크가 끝날 때마다 실행되는 함수\n",
    "    def on_epoch_end(self, epoch, logs={}):\n",
    "        print(self.validation_data)\n",
    "#         #char Embedding을 사용하는 경우\n",
    "#         if self.use_char:\n",
    "#             X_test = self.validation_data[0]\n",
    "#             X_char_test = self.validation_data[1]\n",
    "#             y_test = self.validation_data[2]\n",
    "#             y_predicted = self.model.predict([X_test, X_char_test])\n",
    "\n",
    "#         else:\n",
    "#             X_test = self.validation_data[0]\n",
    "#             y_test = self.validation_data[1]\n",
    "#             y_predicted = self.model.predict([X_test])\n",
    "\n",
    "#         pred_tags = self.sequences_to_tags(y_predicted)\n",
    "#         test_tags = self.sequences_to_tags(y_test)\n",
    "\n",
    "#         score = f1_score(pred_tags, test_tags)\n",
    "#         print(' - f1: {:04.2f}'.format(score * 100))\n",
    "#         print(classification_report(test_tags, pred_tags))\n",
    "\n",
    "#         # F1-score가 지금까지 중 가장 높은 경우\n",
    "#         if score > self.value:\n",
    "#             print('f1_score improved from %f to %f, saving model to best_model.h5'%(self.value, score))\n",
    "#             self.model.save('best_model.h5')\n",
    "#             self.value = score\n",
    "#         else:\n",
    "#             print('f1_score did not improve from %f'%(self.value))"
   ]
  },
  {
   "cell_type": "code",
   "execution_count": 43,
   "metadata": {},
   "outputs": [],
   "source": [
    "model = Sequential()\n",
    "model.add(Embedding(vocab_size, 128, input_length=max_len, mask_zero=True))\n",
    "model.add(Bidirectional(LSTM(256, return_sequences=True)))\n",
    "model.add(TimeDistributed(Dense(tag_size, activation=('softmax'))))"
   ]
  },
  {
   "cell_type": "code",
   "execution_count": 44,
   "metadata": {},
   "outputs": [],
   "source": [
    "model.compile(loss='categorical_crossentropy', optimizer=Adam(0.001), metrics=['accuracy'])"
   ]
  },
  {
   "cell_type": "code",
   "execution_count": 45,
   "metadata": {
    "scrolled": true
   },
   "outputs": [
    {
     "name": "stdout",
     "output_type": "stream",
     "text": [
      "Epoch 1/50\n",
      "5/5 [==============================] - 6s 1s/step - loss: 1.1188 - accuracy: 0.6662 - val_loss: 0.9260 - val_accuracy: 0.8742\n",
      "Epoch 2/50\n",
      "5/5 [==============================] - 1s 261ms/step - loss: 0.7188 - accuracy: 0.8721 - val_loss: 0.4535 - val_accuracy: 0.8742\n",
      "Epoch 3/50\n",
      "5/5 [==============================] - 1s 281ms/step - loss: 0.4211 - accuracy: 0.8721 - val_loss: 0.3210 - val_accuracy: 0.8742\n",
      "Epoch 4/50\n",
      "5/5 [==============================] - 2s 331ms/step - loss: 0.3211 - accuracy: 0.8721 - val_loss: 0.2667 - val_accuracy: 0.8742\n",
      "Epoch 5/50\n",
      "5/5 [==============================] - 2s 390ms/step - loss: 0.2856 - accuracy: 0.8721 - val_loss: 0.2522 - val_accuracy: 0.8742\n",
      "Epoch 6/50\n",
      "5/5 [==============================] - 2s 375ms/step - loss: 0.2651 - accuracy: 0.8721 - val_loss: 0.2347 - val_accuracy: 0.8742\n",
      "Epoch 7/50\n",
      "5/5 [==============================] - 2s 450ms/step - loss: 0.2554 - accuracy: 0.8721 - val_loss: 0.2296 - val_accuracy: 0.8742\n",
      "Epoch 8/50\n",
      "5/5 [==============================] - 2s 394ms/step - loss: 0.2488 - accuracy: 0.8721 - val_loss: 0.2241 - val_accuracy: 0.8742\n",
      "Epoch 9/50\n",
      "5/5 [==============================] - 2s 400ms/step - loss: 0.2421 - accuracy: 0.8721 - val_loss: 0.2201 - val_accuracy: 0.8742\n",
      "Epoch 10/50\n",
      "5/5 [==============================] - 2s 415ms/step - loss: 0.2371 - accuracy: 0.8721 - val_loss: 0.2143 - val_accuracy: 0.8742\n",
      "Epoch 11/50\n",
      "5/5 [==============================] - 2s 405ms/step - loss: 0.2316 - accuracy: 0.8721 - val_loss: 0.2085 - val_accuracy: 0.8742\n",
      "Epoch 12/50\n",
      "5/5 [==============================] - 2s 399ms/step - loss: 0.2269 - accuracy: 0.8716 - val_loss: 0.2034 - val_accuracy: 0.8742\n",
      "Epoch 13/50\n",
      "5/5 [==============================] - 2s 415ms/step - loss: 0.2203 - accuracy: 0.8716 - val_loss: 0.1983 - val_accuracy: 0.8742\n",
      "Epoch 14/50\n",
      "5/5 [==============================] - 2s 407ms/step - loss: 0.2112 - accuracy: 0.8721 - val_loss: 0.1908 - val_accuracy: 0.8742\n",
      "Epoch 15/50\n",
      "5/5 [==============================] - 2s 401ms/step - loss: 0.2025 - accuracy: 0.8721 - val_loss: 0.1826 - val_accuracy: 0.8742\n",
      "Epoch 16/50\n",
      "5/5 [==============================] - 2s 416ms/step - loss: 0.1937 - accuracy: 0.8718 - val_loss: 0.1744 - val_accuracy: 0.8742\n",
      "Epoch 17/50\n",
      "5/5 [==============================] - 3s 539ms/step - loss: 0.1884 - accuracy: 0.8699 - val_loss: 0.1657 - val_accuracy: 0.8742\n",
      "Epoch 18/50\n",
      "5/5 [==============================] - 3s 521ms/step - loss: 0.1718 - accuracy: 0.8722 - val_loss: 0.1572 - val_accuracy: 0.8742\n",
      "Epoch 19/50\n",
      "5/5 [==============================] - 2s 419ms/step - loss: 0.1620 - accuracy: 0.8721 - val_loss: 0.1486 - val_accuracy: 0.8733\n",
      "Epoch 20/50\n",
      "5/5 [==============================] - 2s 408ms/step - loss: 0.1522 - accuracy: 0.8726 - val_loss: 0.1419 - val_accuracy: 0.8783\n",
      "Epoch 21/50\n",
      "5/5 [==============================] - 2s 400ms/step - loss: 0.1446 - accuracy: 0.8822 - val_loss: 0.1365 - val_accuracy: 0.8899\n",
      "Epoch 22/50\n",
      "5/5 [==============================] - 2s 430ms/step - loss: 0.1379 - accuracy: 0.8855 - val_loss: 0.1321 - val_accuracy: 0.8924\n",
      "Epoch 23/50\n",
      "5/5 [==============================] - 3s 506ms/step - loss: 0.1329 - accuracy: 0.8888 - val_loss: 0.1292 - val_accuracy: 0.8998\n",
      "Epoch 24/50\n",
      "5/5 [==============================] - 3s 512ms/step - loss: 0.1290 - accuracy: 0.8922 - val_loss: 0.1259 - val_accuracy: 0.8998\n",
      "Epoch 25/50\n",
      "5/5 [==============================] - 2s 415ms/step - loss: 0.1254 - accuracy: 0.8935 - val_loss: 0.1234 - val_accuracy: 0.9031\n",
      "Epoch 26/50\n",
      "5/5 [==============================] - 2s 408ms/step - loss: 0.1225 - accuracy: 0.8953 - val_loss: 0.1207 - val_accuracy: 0.9073\n",
      "Epoch 27/50\n",
      "5/5 [==============================] - 2s 405ms/step - loss: 0.1196 - accuracy: 0.9019 - val_loss: 0.1182 - val_accuracy: 0.9172\n",
      "Epoch 28/50\n",
      "5/5 [==============================] - 2s 460ms/step - loss: 0.1168 - accuracy: 0.9053 - val_loss: 0.1161 - val_accuracy: 0.9139\n",
      "Epoch 29/50\n",
      "5/5 [==============================] - 3s 526ms/step - loss: 0.1139 - accuracy: 0.9071 - val_loss: 0.1135 - val_accuracy: 0.9222\n",
      "Epoch 30/50\n",
      "5/5 [==============================] - 3s 541ms/step - loss: 0.1111 - accuracy: 0.9103 - val_loss: 0.1120 - val_accuracy: 0.9222\n",
      "Epoch 31/50\n",
      "5/5 [==============================] - 2s 423ms/step - loss: 0.1080 - accuracy: 0.9132 - val_loss: 0.1096 - val_accuracy: 0.9230\n",
      "Epoch 32/50\n",
      "5/5 [==============================] - 2s 416ms/step - loss: 0.1049 - accuracy: 0.9126 - val_loss: 0.1074 - val_accuracy: 0.9247\n",
      "Epoch 33/50\n",
      "5/5 [==============================] - 2s 407ms/step - loss: 0.1016 - accuracy: 0.9160 - val_loss: 0.1055 - val_accuracy: 0.9255\n",
      "Epoch 34/50\n",
      "5/5 [==============================] - 3s 523ms/step - loss: 0.0990 - accuracy: 0.9178 - val_loss: 0.1025 - val_accuracy: 0.9313\n",
      "Epoch 35/50\n",
      "5/5 [==============================] - 3s 515ms/step - loss: 0.0954 - accuracy: 0.9230 - val_loss: 0.1009 - val_accuracy: 0.9329\n",
      "Epoch 36/50\n",
      "5/5 [==============================] - 3s 510ms/step - loss: 0.0922 - accuracy: 0.9263 - val_loss: 0.0979 - val_accuracy: 0.9371\n",
      "Epoch 37/50\n",
      "5/5 [==============================] - 2s 395ms/step - loss: 0.0890 - accuracy: 0.9293 - val_loss: 0.0958 - val_accuracy: 0.9354\n",
      "Epoch 38/50\n",
      "5/5 [==============================] - 2s 417ms/step - loss: 0.0857 - accuracy: 0.9313 - val_loss: 0.0943 - val_accuracy: 0.9363\n",
      "Epoch 39/50\n",
      "5/5 [==============================] - 2s 417ms/step - loss: 0.0831 - accuracy: 0.9309 - val_loss: 0.0926 - val_accuracy: 0.9379\n",
      "Epoch 40/50\n",
      "5/5 [==============================] - 3s 532ms/step - loss: 0.0799 - accuracy: 0.9354 - val_loss: 0.0909 - val_accuracy: 0.9421\n",
      "Epoch 41/50\n",
      "5/5 [==============================] - 3s 533ms/step - loss: 0.0770 - accuracy: 0.9364 - val_loss: 0.0884 - val_accuracy: 0.9396\n",
      "Epoch 42/50\n",
      "5/5 [==============================] - 2s 474ms/step - loss: 0.0741 - accuracy: 0.9381 - val_loss: 0.0870 - val_accuracy: 0.9429\n",
      "Epoch 43/50\n",
      "5/5 [==============================] - 2s 412ms/step - loss: 0.0715 - accuracy: 0.9414 - val_loss: 0.0852 - val_accuracy: 0.9437\n",
      "Epoch 44/50\n",
      "5/5 [==============================] - 2s 408ms/step - loss: 0.0685 - accuracy: 0.9446 - val_loss: 0.0841 - val_accuracy: 0.9454\n",
      "Epoch 45/50\n",
      "5/5 [==============================] - 2s 469ms/step - loss: 0.0660 - accuracy: 0.9466 - val_loss: 0.0842 - val_accuracy: 0.9429\n",
      "Epoch 46/50\n",
      "5/5 [==============================] - 3s 531ms/step - loss: 0.0636 - accuracy: 0.9463 - val_loss: 0.0824 - val_accuracy: 0.9487\n",
      "Epoch 47/50\n",
      "5/5 [==============================] - 3s 524ms/step - loss: 0.0614 - accuracy: 0.9490 - val_loss: 0.0808 - val_accuracy: 0.9503\n",
      "Epoch 48/50\n",
      "5/5 [==============================] - 2s 426ms/step - loss: 0.0580 - accuracy: 0.9524 - val_loss: 0.0788 - val_accuracy: 0.9545\n",
      "Epoch 49/50\n",
      "5/5 [==============================] - 2s 413ms/step - loss: 0.0557 - accuracy: 0.9538 - val_loss: 0.0779 - val_accuracy: 0.9570\n",
      "Epoch 50/50\n",
      "5/5 [==============================] - 2s 424ms/step - loss: 0.0533 - accuracy: 0.9551 - val_loss: 0.0779 - val_accuracy: 0.9553\n"
     ]
    }
   ],
   "source": [
    "history = model.fit(X_train, y_train, batch_size=128, epochs=50,  validation_split=0.1)#, callbacks=[F1score(use_char=False)])"
   ]
  },
  {
   "cell_type": "code",
   "execution_count": 46,
   "metadata": {},
   "outputs": [],
   "source": [
    "# bilstm_model = load_model('best_model.h5')"
   ]
  },
  {
   "cell_type": "code",
   "execution_count": 52,
   "metadata": {},
   "outputs": [
    {
     "name": "stdout",
     "output_type": "stream",
     "text": [
      "단어             |실제값  |예측값\n",
      "-----------------------------------\n",
      "(                : O       O\n",
      "노이즈              : B-NC    B-NC\n",
      "켄                : I-NC    O\n",
      "슬링               : I-NC    O\n",
      ")                : O       O\n",
      "생각               : O       O\n",
      "보다               : O       O\n",
      "차단               : B-NC    B-NC\n",
      "이                : O       O\n",
      "100              : O       O\n",
      "프로               : O       I-COM\n",
      "안되다              : O       O\n",
      ".                : O       O\n",
      "바깥               : O       O\n",
      "소리               : O       O\n",
      "가                : O       O\n",
      "웅웅               : O       O\n",
      "울리다              : O       O\n",
      "들리다              : O       O\n",
      ".                : O       O\n"
     ]
    }
   ],
   "source": [
    "i=54 # 확인하고 싶은 테스트용 샘플의 인덱스.\n",
    "y_predicted = model.predict(np.array([X_test[i]])) # 입력한 테스트용 샘플에 대해서 예측 y를 리턴\n",
    "y_predicted = np.argmax(y_predicted, axis=-1) # 원-핫 인코딩을 다시 정수 인코딩으로 변경함.\n",
    "true = np.argmax(y_test[i], -1) # 원-핫 인코딩을 다시 정수 인코딩으로 변경함.\n",
    "\n",
    "print(\"{:15}|{:5}|{}\".format(\"단어\", \"실제값\", \"예측값\"))\n",
    "print(35 * \"-\")\n",
    "\n",
    "for w, t, pred in zip(X_test[i], true, y_predicted[0]):\n",
    "    if w != 0: # PAD값은 제외함.\n",
    "        print(\"{:17}: {:7} {}\".format(index_to_word[w], index_to_ner[t], index_to_ner[pred]))"
   ]
  },
  {
   "cell_type": "code",
   "execution_count": 48,
   "metadata": {},
   "outputs": [],
   "source": [
    "f1score = F1score()\n",
    "\n",
    "y_predicted = model.predict([X_test])\n",
    "pred_tags = f1score.sequences_to_tags(y_predicted)\n",
    "test_tags = f1score.sequences_to_tags(y_test)"
   ]
  },
  {
   "cell_type": "code",
   "execution_count": 49,
   "metadata": {},
   "outputs": [
    {
     "name": "stdout",
     "output_type": "stream",
     "text": [
      "              precision    recall  f1-score   support\n",
      "\n",
      "          AS       0.00      0.00      0.00         3\n",
      "         BAT       0.00      0.00      0.00        11\n",
      "          CA       0.00      0.00      0.00         7\n",
      "         CAQ       0.18      0.30      0.22        10\n",
      "         CMP       0.00      0.00      0.00        14\n",
      "         CNV       0.00      0.00      0.00         7\n",
      "         COM       0.37      0.56      0.44        27\n",
      "          DE       0.67      0.46      0.55        39\n",
      "          FA       0.00      0.00      0.00         3\n",
      "         FIT       0.84      0.81      0.83        96\n",
      "          NC       0.56      0.81      0.67        27\n",
      "         PAR       0.17      0.07      0.10        15\n",
      "          PR       0.50      0.22      0.31         9\n",
      "          SQ       0.73      0.70      0.71        50\n",
      "          TK       0.33      0.43      0.38         7\n",
      "         WEI       0.00      0.00      0.00         3\n",
      "\n",
      "   micro avg       0.62      0.54      0.58       328\n",
      "   macro avg       0.27      0.27      0.26       328\n",
      "weighted avg       0.55      0.54      0.53       328\n",
      "\n"
     ]
    },
    {
     "name": "stderr",
     "output_type": "stream",
     "text": [
      "C:\\Users\\user\\anaconda3\\lib\\site-packages\\seqeval\\metrics\\sequence_labeling.py:171: UserWarning: O-SQ seems not to be NE tag.\n",
      "  warnings.warn('{} seems not to be NE tag.'.format(chunk))\n",
      "C:\\Users\\user\\anaconda3\\lib\\site-packages\\seqeval\\metrics\\sequence_labeling.py:171: UserWarning: O-OOOOO seems not to be NE tag.\n",
      "  warnings.warn('{} seems not to be NE tag.'.format(chunk))\n",
      "C:\\Users\\user\\anaconda3\\lib\\site-packages\\seqeval\\metrics\\sequence_labeling.py:171: UserWarning: O-CMP seems not to be NE tag.\n",
      "  warnings.warn('{} seems not to be NE tag.'.format(chunk))\n",
      "C:\\Users\\user\\anaconda3\\lib\\site-packages\\seqeval\\metrics\\sequence_labeling.py:171: UserWarning: O-FIT seems not to be NE tag.\n",
      "  warnings.warn('{} seems not to be NE tag.'.format(chunk))\n",
      "C:\\Users\\user\\anaconda3\\lib\\site-packages\\seqeval\\metrics\\v1.py:57: UndefinedMetricWarning: Precision and F-score are ill-defined and being set to 0.0 in labels with no predicted samples. Use `zero_division` parameter to control this behavior.\n",
      "  _warn_prf(average, modifier, msg_start, len(result))\n"
     ]
    }
   ],
   "source": [
    "print(classification_report(test_tags, pred_tags))"
   ]
  },
  {
   "cell_type": "code",
   "execution_count": null,
   "metadata": {},
   "outputs": [],
   "source": []
  }
 ],
 "metadata": {
  "kernelspec": {
   "display_name": "Python 3",
   "language": "python",
   "name": "python3"
  },
  "language_info": {
   "codemirror_mode": {
    "name": "ipython",
    "version": 3
   },
   "file_extension": ".py",
   "mimetype": "text/x-python",
   "name": "python",
   "nbconvert_exporter": "python",
   "pygments_lexer": "ipython3",
   "version": "3.7.6"
  }
 },
 "nbformat": 4,
 "nbformat_minor": 4
}
